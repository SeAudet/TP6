{
 "cells": [
  {
   "cell_type": "markdown",
   "id": "a02e5eab",
   "metadata": {},
   "source": [
    "# BCM 3553 TP6 - Rapport"
   ]
  },
  {
   "cell_type": "markdown",
   "id": "b3ff5af9",
   "metadata": {},
   "source": [
    "# Question 1"
   ]
  },
  {
   "cell_type": "raw",
   "id": "f3bdfaf2",
   "metadata": {},
   "source": [
    "a) Écrivez les commandes qui vous ont permis d’accéder aux données du TP (lien symbolique, copie)\n",
    "et le répertoire de travail subséquemment indiqué dans le script R (2 points).  \n",
    "=> On fait un lien symbolique grâce à la commande ln -s /cours/a23_bcm3553_bcm6010-a/cours/TP6 , puis on réalise une copie dans le directory ~/bcm3553/TP6/data_tp6. La commande setwd(\"~/bcm3553/TP6/data_tp6\") sert à déterminer le working directory du script R."
   ]
  },
  {
   "cell_type": "markdown",
   "id": "b13d5342",
   "metadata": {},
   "source": [
    "b) Dans la première section de travail (peptides), quel est le chemin complet du répertoire dans lequel\n",
    "vous prenez les fichiers de métadonnées MS pour MM8 & MM14? (1 point)  \n",
    "=> le chemin du répertoire de MS pour MM14 est : /apps_rh8/Local_rh8/R/R-4.3.1/lib64/R/library/msdata/microtofq/MM14.mzML  \n",
    "Le chemin du répertoire de MS pour MM8 : /apps_rh8/Local_rh8/R/R-4.3.1/lib64/R/library/msdata/microtofq/MM8.mzML"
   ]
  },
  {
   "cell_type": "markdown",
   "id": "623022bc",
   "metadata": {},
   "source": [
    "c) En regardant information disponible pour MM8 & MM14, vous pouvez constater que l’un des deux\n",
    "n’est qu’un fichier d’exemple sans peptides. Lequel, et comment le voyez-vous (2 points)  \n",
    "=> Grâce à la fonction runInfo() on voit que le fichier mz14 possède une lowMZ et highMZ de 0 contrairement au fichier mz8. Cela signifie que même si le fichier mz14 a une length = 112 (donc qu'il possède 112 données), toutes les données ont une valeur de 0."
   ]
  },
  {
   "cell_type": "markdown",
   "id": "34afb1ac",
   "metadata": {},
   "source": [
    "d) Via la commande « runInfo » sur le fichier n’étant pas vide, indiquez ce que signifie la deuxième et\n",
    "la troisième valeur vous étant retourné (1 point).  \n",
    "=> lowMZ et highMZ indiquent les rapports masse/charge les plus bas et élevé."
   ]
  },
  {
   "cell_type": "markdown",
   "id": "d5d97d7f",
   "metadata": {},
   "source": [
    "# Question 2"
   ]
  },
  {
   "cell_type": "markdown",
   "id": "d192dd4d",
   "metadata": {},
   "source": [
    "a) On vous fournit les fichiers identifiant pour deux expérience MS différentes. Contiennent-ils exactement les mêmes types d’information? Expliquez votre réponse en quelques mots. (1 point)  \n",
    "=> Non, grâce à la fonction names(psms() on peut voir qu'ils ne contiennent pas entièrement les mêmes types d'informations. On voit que mzidMascot contient 3 types supplémentaires :  \n",
    "\"Mascot.identity.threshold\"                       \n",
    "\"Mascot.homology.threshold\"                       \n",
    "\"number.of.peptide.seqs.compared.to.each.spectrum\""
   ]
  },
  {
   "cell_type": "markdown",
   "id": "d8b13e94",
   "metadata": {},
   "source": [
    "b) Dans le fichier Tandem, vous pouvez trouver le peptide « KDLYGNVVLSGGTTMYEGIGER ». Quelle est sa masse expérimentale ici? Dites comment vous avez trouvé l’information. (2 points)  \n",
    "=> Grâce à la commande head(psms(mzidTandem))[, 1:13] on peut constater que la masse expérimentale du peptide est entre 792.3792 x 3 (= 2377.138) et 792.5295 x 3 (= 2377.588)."
   ]
  },
  {
   "cell_type": "markdown",
   "id": "614a2020",
   "metadata": {},
   "source": [
    "c) Dans le fichier Mascot, le premier peptide qui apparait est « DAGTISGLNVLR », et le premier résultat (couvrant les position 161-172 de la protéine associée) semble offrir la meilleure association. Quelle est la protéine & l’organisme d’où provient ce peptide ionisé? (2 points)  \n",
    "=> Grâce à la commande head(psms(mzidMascot))[, 1:20], on obtient les informations : Heat shock cognate 70 kDa protein (HSP70) - Echinococcus granulosus "
   ]
  },
  {
   "cell_type": "markdown",
   "id": "c8dbc853",
   "metadata": {},
   "source": [
    "d) Quelle peptidase a servie à la préparation des échantillons de ces deux expériences? Comment fonctionne-t-elle (en quelques mots seulement)? (2 points)  \n",
    "=> On s'est servi de la trypsine qui est une endopeptidase qui clive les liaisons peptidiques dans lesquelles sont inclues la Lysine et l'Arginine."
   ]
  },
  {
   "cell_type": "markdown",
   "id": "5ff8f493",
   "metadata": {},
   "source": [
    "# Question 3"
   ]
  },
  {
   "cell_type": "markdown",
   "id": "201654aa",
   "metadata": {},
   "source": [
    "a) En regardant le sommaire de notre fichier « raw », combien de « peaks » ionique sont associés au spectre #2 du fichier? (1 points)  \n",
    "=> Peaks count: 2921 "
   ]
  },
  {
   "cell_type": "markdown",
   "id": "ee992361",
   "metadata": {},
   "source": [
    "b) Via la représentation graphique des spectres de peptides, quel spectre possède les signaux ayant la plus grande intensité, et lequel possède les plus petit ratio masse/charge? (2 points)  \n",
    "=> Le spectre n°3 contient le plus de signaux avec les plus grandes intensités, mais c'est le spectre n°5 qui a les plus petits rapports masse/charge."
   ]
  },
  {
   "cell_type": "markdown",
   "id": "6740e2ef",
   "metadata": {},
   "source": [
    "c) À quoi servent les rapporteurs iTRAQ ici? (2 points)   \n",
    "=> Les rapporteurs ITRAQ sont des marqueurs chimiques de protéines. Dans la commande plot(raw[[5]], full = TRUE, reporters=iTRAQ4), on ne sélectionne que le spectre n°5 dans lequel on affiche en évidence les pics qui se réfèrent aux protéines marquées par les rapporteurs ITRAQ4 ?"
   ]
  },
  {
   "cell_type": "markdown",
   "id": "85d4ab53",
   "metadata": {},
   "source": [
    "# Question 4"
   ]
  },
  {
   "cell_type": "markdown",
   "id": "d43de61d",
   "metadata": {},
   "source": [
    "a) Combien d’échantillons (et non protéines) ont été analysés (1 points).  \n",
    "=> On étudie 6 échantillons différents (TMT6.126, TMT6.127, TMT6.128, TMT6.129, TMT6.130, TMT6.131)"
   ]
  },
  {
   "cell_type": "markdown",
   "id": "3cee4eb1",
   "metadata": {},
   "source": [
    "b) Les signaux proviennent de peptides de protéines connu (ex : PYGM_Rabit), à des concentrations connues. En regardant le premier graphique matplot, quelle protéine avait été dilué comme-ci à travers les données ; 1/10 – 1/4 – 1/2 – 1/1 – 1/2 – 1/10 (2 points) :  \n",
    "=> La protéine n°4."
   ]
  },
  {
   "cell_type": "markdown",
   "id": "cbb4914d",
   "metadata": {},
   "source": [
    "c) En regardant maintenant le heatmap, pourquoi on ne semble plus s’intéresser à « TRYP_PIG » et pourquoi on ajouter « ECA » (Enterobacterial Common Antigen) (2 points).  \n",
    "=> TRYP = trypsine de cochon qu'on n'étudie pas car elle ne nous intéresse pas dans les échantillons qu'on étudie (elle ne sert qu'à préparer les échantillons, on sait différencier ses signaux des signaux des protéines d'intérêt dans les échantillons).  \n",
    "ECA = sert à établir un niveau de base qui permet de différencier entre les signaux de bruits de fond connus (les contaminants), et les signaux significatifs des échantillons."
   ]
  },
  {
   "cell_type": "markdown",
   "id": "f5bfca85",
   "metadata": {},
   "source": [
    "d) Quel rapporteur a la plus grande concentration d’albumine bovine? (1 point)  \n",
    "=> Le rapporteur TMT6.129."
   ]
  },
  {
   "cell_type": "markdown",
   "id": "c0bb21b3",
   "metadata": {},
   "source": [
    "e) Pourquoi, malgré le fait qu’on retrouve un signal CYT dans 4 rapporteurs selon le heatmap, ne peut-on confirmer la présence que dans Rapporteur 131? Dernier graphique est utile ici (2 points)  \n",
    "=> Car on constate grâce au graphe qu'il n'y a que 2 individus qui ont été testés par échantillon en ce qui concerne le signal CYT. On ne peut en effet confirmer la présence de ce signal que pour le rapporteur 131 car c'est le seul pour lequel l'intensité des signaux est plus élevée (donc plus significative)."
   ]
  },
  {
   "cell_type": "markdown",
   "id": "f444651f",
   "metadata": {},
   "source": [
    "# Question 5"
   ]
  },
  {
   "cell_type": "markdown",
   "id": "62e8dfb1",
   "metadata": {},
   "source": [
    "Nous allons maintenant commencer à regarder les données du papier SARS-CoV2 précédemment mentionné. Lorsqu’un article apporte une démarche d’analyse intéressante, il peut être pertinent de vouloir appliquer la méthodologie à nos propres données. Puisque les scripts ne sont pas directement fournis par l’article, et qu’ils font donc répliquer manuellement ceux-ci, il est bon d’utiliser les données de l’article afin de valider nos scripts en réplicant les résultats publiés. Les questions suivent l’ordre du code.  \n",
    "\n",
    "a) Question basique sur les formats de fichiers : Sans regarder le contenu de « Gordon_PPI.tsv », comment est-ce qu’on sait que « sep = \"\\t\" » est nécessaire pour la lecture (1 point).    \n",
    "=> Afin de retirer les chariots et de faire un alignement des séquences dans l'objet."
   ]
  },
  {
   "cell_type": "markdown",
   "id": "95649b2b",
   "metadata": {},
   "source": [
    "b) On extrait les termes GO que nous allons utiliser dans « go_symbols ». Nous utilisons « C5.GO », mais quels autres types de termes aurait-on pu utiliser sachant que l’on s’intéresse à des voies moléculaires associées à des  fonctions de cellules normales (googler le nom du fichiers). (2 points)  \n",
    "=> On pourrait utiliser les termers H.GO (l'ensemble des groupes de gènes qui participent aux mêmes fonctions globales fondamentales, et aux mêmes processus généraux car on a pu y répertorier leurs signaux), C1.GO, et C2.GO. "
   ]
  },
  {
   "cell_type": "markdown",
   "id": "8906faca",
   "metadata": {},
   "source": [
    "c) Nous faisons l’extraction de trois types de données pour nos termes GO (exactSource, term, collection), mais combien était disponible au total dans le fichier d’annotation (1 point).   \n",
    "=> Il y avait 10 colonnes dans le dataframe."
   ]
  },
  {
   "cell_type": "markdown",
   "id": "a7fcceb5",
   "metadata": {},
   "source": [
    "# Question 6"
   ]
  },
  {
   "cell_type": "markdown",
   "id": "d85de9b8",
   "metadata": {},
   "source": [
    "a) Au total, l’expérience protéomique a permis de récolter les signaux de milliers de peptides, qui ont pu être reconstruit en 304 protéines (2-40 par protéines SARS-CoV2). Juste pour s’assurer que vous comprenez l’expérience. Combien y a-t-il protéines « Prey »? Combien de protéines « Bait »? Nommer trois de ces « Baits ». Nous sommes à la 1ère ligne de code de processing_GO. (3 points)   \n",
    "=> N, ORF9B et NSP8 sont des Baits viraux (il y a en a 25) et il y a 304 Prey humaines. "
   ]
  },
  {
   "cell_type": "markdown",
   "id": "970d4be9",
   "metadata": {},
   "source": [
    "b) Expliquer à quoi sert la fonction « unique » / pourquoi on l’utilise ici? (2 points)   \n",
    "=> la fonction unique sert à  extraire les valeurs uniques d'un vecteur ou d'une colonne d'un objet de données. "
   ]
  },
  {
   "cell_type": "markdown",
   "id": "2e864a14",
   "metadata": {},
   "source": [
    "c) Dans notre fonction « GO_OverRep_Analysis », nous traitons d’un coup les résultats de l’outil clusterProfiler. Expliquez rapidement à quoi servent les seuils min/maxGSsize, puis dites dans quel format les valeurs de significativité sont données par la fonction (3 points).  \n",
    "=> min/maxGSsize sont des seuils de taille des genes sets pour qu'ils soient considérés comme significatifs par rapport à leurs termes d'ontologie génique, les valeurs de significativité étant données sous le format de log10 pour une meilleure visualisation de grands échantillons (éviter une significativité infinie). "
   ]
  },
  {
   "cell_type": "markdown",
   "id": "74f3dfc3",
   "metadata": {},
   "source": [
    "d) À l’aide d’une ligne de code, on retire tous les termes GO où le score pour nos données est égal ou inférieur à 1 de « enriched_GOs_master_table ». Combien de lignes (GO) sont éliminées (1 point)?   \n",
    "=> 7398-1361 = 6037 lignes éliminées"
   ]
  },
  {
   "cell_type": "markdown",
   "id": "39697f17",
   "metadata": {},
   "source": [
    "e) Même question, mais pour le nombre de termes GO qui ne passes pas le filtre de valeur P. (1 point)  \n",
    "=> 1361-1032 = 329 lignes éliminées"
   ]
  },
  {
   "cell_type": "markdown",
   "id": "d2013555",
   "metadata": {},
   "source": [
    "f) Dans la fonction « reduce_GOredundancy », on fait appel à une banque de données contenant les gènes / GO humain, que l’on a déjà utilisé auparavant. Quel est le nom de celle-ci? (1 point)  \n",
    "=> On utilise la base de données org.Hs.eg.db. "
   ]
  },
  {
   "cell_type": "markdown",
   "id": "655e1f47",
   "metadata": {},
   "source": [
    "g) Voici quelques termes GO. Dite-s’il s’agit de GO de type BP, MF, ou bien CC. (4 points)  \n",
    "« Glycoprotein metabolic processing » => GO:BP  \n",
    "« Golgi apparatus subcompartment » => GO:CC  \n",
    "« DNA replication initiation » => GO:BP  \n",
    "« Endopeptidase activity »  => GO:MF  "
   ]
  },
  {
   "cell_type": "markdown",
   "id": "36c83f92",
   "metadata": {},
   "source": [
    "h) Une fois la redondance filtrée via « apply_GO_nonRedundancy », à l’aide de la fonction View, dites combien de termes GO s’associe à NSP7, et nommez-en 1. (2 points)  \n",
    "    => Il y a 220 termes GO, le premier étant GOBP_POLYSACCHARIDE_BIOSYNTHETIC_PROCESS."
   ]
  },
  {
   "cell_type": "markdown",
   "id": "137507d9",
   "metadata": {},
   "source": [
    "i) Notre fonction de typage des termes GO (sep_GOtype) nous permet d’analyser plus simplement nos données selon ce que l’on cherche (ex : processus biologiques apparaissent plus révélateurs). Suite à son application, combien de GO de type CC a-t-on pour ORF6? Nommez-en un. (2 points)  \n",
    "    => Il n'y a qu'un seul GO de type CC pour ORF6, étant GOBP_POLYSACCHARIDE_BIOSYNTHETIC_PROCESS"
   ]
  },
  {
   "cell_type": "markdown",
   "id": "da4bed9d",
   "metadata": {},
   "source": [
    "j) Un peu plus tard, on applique la fonction « base::order » afin de trier nos données dans la matrice en fonction de leur significativité. Si l’on observe le résultat de cette transformation (vous pouvez utiliser View()), quel est le terme GO le plus significatif, à quel « Bait » appartient-il, combien de protéines « Prey » participent au signal d’enrichissement, nommez l’un de ces « Prey », puis donnez la valeur de significativité en log10 de la valeur p ajustée. (5 points)  \n",
    "=> Le terme GO ayant le plus grand log10padj (13.9000) est GOCC_ENDOPLASMIC_RETICULUM_LUMEN, il appartient au Bait ORF8, a 16 Prey dont le premier est TOR1A."
   ]
  },
  {
   "cell_type": "markdown",
   "id": "94bb7aef",
   "metadata": {},
   "source": [
    "# Question 7"
   ]
  },
  {
   "cell_type": "markdown",
   "id": "f6d8986f",
   "metadata": {},
   "source": [
    "Nous allons maintenant sauter à la section ayant le même nom que cette section (≈ligne 500)  \n",
    "\n",
    "a) Si l’on initialise la variable SARS_genes_count au début de la section (vide), et qu’on y ajoute SARS_gene suite au trois condition de notre « loop », à quoi sert cette condition au début du loop : while (length(SARS_genes_count) <= 25)? \n",
    "Cette question teste purement votre compréhension de code R, la réponse recherchée est simple et n’a pas à avoir d’interprétation biologique. (2 points)   \n",
    "=> \"while (length(SARS_genes_count) <= 25)\" signifie que \"tant que la longueur (le nombre de données) dans le dataset SARS_genes_count est inférieur ou égal à 25, la boucle fonctionne. "
   ]
  },
  {
   "cell_type": "markdown",
   "id": "d2c59a60",
   "metadata": {},
   "source": [
    "b) La matrice GO_enrich_DF est celle qui sert ultimement à la création du Heatmap. Pourquoi transforme-t-on la valeur de significativité? (1 point)   \n",
    "=> La transformation des valeurs de significativité pval permet une meilleure visualisation dans les comparaisons des pval entre-elles. En effet, on limite les \"significativité infinie\" des échantillons très importants. "
   ]
  },
  {
   "cell_type": "markdown",
   "id": "f760b919",
   "metadata": {},
   "source": [
    "c) Expliquez simplement ce que font ces deux lignes dans le code : (2 points)  \n",
    "rownames_matrix <- GO_enrich_matrix[,1]  \n",
    "=> On crée un objet \"rownames_matrix\" qui contient le contenu de la 1ère colonne de la matrice.   \n",
    "GO_enrich_matrix <- GO_enrich_matrix[,-c(1)]  \n",
    "=> On crée un objet \"GO_enrich_matrix\" qui contient le contenu de toutes les colonnes de la matrice sauf la première colonne. "
   ]
  },
  {
   "cell_type": "markdown",
   "id": "a0698999",
   "metadata": {},
   "source": [
    "d) Combien de couleurs sont contenues dans « colors3 » (1 points).  \n",
    "=> Par la commande \"unique(colors3)\", on obtient 246 couleurs différentes."
   ]
  },
  {
   "cell_type": "markdown",
   "id": "0dcbf1ce",
   "metadata": {},
   "source": [
    "e) Quel paramètre de pheatmap me permet de modifier la largeur de mes carrés heatmap? (1 point)  \n",
    "=> On utilise le paramètre \"width\" pour ajuster la largeur des carrés heatmap. "
   ]
  },
  {
   "cell_type": "markdown",
   "id": "0e137df6",
   "metadata": {},
   "source": [
    "# Question 8"
   ]
  },
  {
   "cell_type": "markdown",
   "id": "2c8e4f33",
   "metadata": {},
   "source": [
    "a) En regardant notre HeatMap, est-ce que le sautant le plus aux yeux est bien consistent avec ce qu’on avait identifié en Q6 j)? Expliquez en quelques mots (2 points)  \n",
    "=> La pvaleur la plus significative (donc la plus faible et dont le bleu est le plus intense à cause de la commande d'inversion) est bien celle de ORF8 ! "
   ]
  },
  {
   "cell_type": "markdown",
   "id": "8570f3b3",
   "metadata": {},
   "source": [
    "b) En revenant sur la présentation de l’article en début de TP, si l’on regarde le GO le plus enrichie pour le « Bait » \"NSP12\" (quoique très pâle comparativement à d’autres liens GO-SARS), est-ce que le résultat fait du sens/est intéressant? Hypothétisez courtement sur le pourquoi (2 points).  \n",
    "=> Grâce à un view(GO_enrich_matrix) (heatmap trop pâle), on voit qu'il y a un signal significatif pour les GO \"RNA-splicing\" et \"cytoplasmic stress granules\". Sachant que NSP12 est une RNApolymérase à ARN dépendante, elle peut en effet interagir avec l'ARN et les machineries d'épissage, et les machineries de formation des granules de stress qui contiennent une grande quantité de ribonucléoprotéines. "
   ]
  },
  {
   "cell_type": "markdown",
   "id": "0a0a83d7",
   "metadata": {},
   "source": [
    "c) Pourquoi a-t-on un signal bleu relativement important pour 3 termes GO vis-à-vis le « Bait » \"NSP9\"? Ce n’est pas une erreur, pensez à comment les GO sont choisis. (2 points)  \n",
    "=> Cela signifie simplement que la protéine bait NSP9 interagit avec plusieurs protéines prey de plusieurs catégories de GO différentes, ou plusieurs autres protéines prey qui interviennent dans plusieurs voies métaboliques différentes. "
   ]
  },
  {
   "cell_type": "markdown",
   "id": "dbe0b6e9",
   "metadata": {},
   "source": [
    "d) En regardant à nouveau \"NSP9\", quelle conclusion peut-on clairement faire vis-à-vis les potentielles fonctions de cette protéines SARS-CoV2? (2 points)  \n",
    "=> Sachant que la protéine bait NSP9 a un signal bleu intense envers les protéines prey des GO \"mitochondrial transport\", \"nuclear pore\", et \"structural components of nuclear pore\", on peut en déduire que NSP9 impacte le processus de transport des protéines vers la mitochondrie, ainsi que les échanges nucléaires avec le cytoplasme et inversément (donc les protéines et les ARNs)."
   ]
  },
  {
   "cell_type": "markdown",
   "id": "d80975d1",
   "metadata": {},
   "source": [
    "e) Pourquoi certains « Baits » ont-ils des signaux si pâles pour presque tous les GO? (1 point)  \n",
    "=> Il y a 2 raisons possibles : soit les protéines bait n'interagissent avec beaucoup de protéines prey dont le GO est répertorié dans le graphique heatmap, soit car les protéines bait interagissent avec beaucoup de protéines prey différentes dont le GO fait partie du heatmap (donc de manière très diffuse). Ainsi le signal d'interaction de la protéine bait envers les protéines prey est soit inexistant, soit très diffus. "
   ]
  },
  {
   "cell_type": "markdown",
   "id": "dc66e1a9",
   "metadata": {},
   "source": [
    "# Question 9"
   ]
  },
  {
   "cell_type": "markdown",
   "id": "89174098",
   "metadata": {},
   "source": [
    "a) Nous entreposant dans la matrice « proteome_tissue » l’information provenant du fichier. « GTEx_Tissu_Abundance.xlsx ». Décrivez l’information contenu dans votre matrice. (2 points)  \n",
    "=> La matrice contient pour différents tissus, leur quantité relative de l'expression génique des gènes dont l'Ensembl ID est précisé dans la 2e colonne, et l'abondance des protéines dont l'Ensembl ID est précisé dans la 1ère colonne. "
   ]
  },
  {
   "cell_type": "markdown",
   "id": "0f3bd906",
   "metadata": {},
   "source": [
    "b) Expliquez ce que la transformation qu’on fait à nos données semble modifier. (2 points)  \n",
    "=> Grâce à la transformation en log10, les données sont plus lisibles et comparables car dans une échelle davantage compréhensible (pas de x10⁽⁻⁷⁾). On remplace les données manquantes et négatives par des NA également. "
   ]
  },
  {
   "cell_type": "markdown",
   "id": "79759de9",
   "metadata": {},
   "source": [
    "# Question 10"
   ]
  },
  {
   "cell_type": "markdown",
   "id": "e7537592",
   "metadata": {},
   "source": [
    "a) Interprétez en quelques mots ce que le graphique nous permet de voir. (2 points)   \n",
    "=> Le graphique final indique la significativité des pvals ajustées et transformées en log10, pour la quantité relative de l'expression génique qui exprime l'abondance de gènes et de protéines dans certains tissus spécifiques. Ainsi, une pvaleur significative ici est au-delà de 1.30103."
   ]
  },
  {
   "cell_type": "markdown",
   "id": "52bfb61a",
   "metadata": {},
   "source": [
    "b) En faisant une petite revue de la littérature (citation à l’appui), est-ce que vos résultats sont consistants avec ce qui est attendu de SARS-CoV2? (3 points)  \n",
    "=> Grâce au graphe, on a pu constater qu'il y a une plus grande expression génique SARS-CoV2 dans les poumons, le coeur, et le foie, ce qui est bel et bien attendu selon l'article \"COVID-19 : physiopathologie d’une maladie à plusieurs visages\" (V. Bonny, A. Maillard, C. Mousseaux, L. Plaçais, et Q. Richiere ; https://www.ncbi.nlm.nih.gov/pmc/articles/PMC7250743/) : \"De plus, l’ARN du SARS-CoV-2 était fortement détecté dans les poumons, et à moindre mesures dans le foie, le rein ou le cœur dans une série autopsique de douze patients\"."
   ]
  },
  {
   "cell_type": "markdown",
   "id": "b7303ca8",
   "metadata": {},
   "source": [
    "c) Sachant qu’un résultat est normalement reconnu comme « significatif » si p < 0.05, est-ce que vos résultats ici sont significatif? Expliquez en quelques mots. (2 points)  \n",
    "=> Sachant que -log10(0.05) = 1.30103, les pvaleurs sont désormais considérées comme significatives en étant SUPERIEURES à 1.30103. Donc ici aucune de nos pvaleurs n'est significative. Mais on peut constater qu'il y a une plus grande expression génique dans les poumons, le coeur, et le foie. Afin de voir de la significativité, il faudrait très certainement augmenter le p<0.05 (p<0.5 peut-être ?)."
   ]
  }
 ],
 "metadata": {
  "kernelspec": {
   "display_name": "Python 3 (ipykernel)",
   "language": "python",
   "name": "python3"
  },
  "language_info": {
   "codemirror_mode": {
    "name": "ipython",
    "version": 3
   },
   "file_extension": ".py",
   "mimetype": "text/x-python",
   "name": "python",
   "nbconvert_exporter": "python",
   "pygments_lexer": "ipython3",
   "version": "3.10.12"
  }
 },
 "nbformat": 4,
 "nbformat_minor": 5
}
