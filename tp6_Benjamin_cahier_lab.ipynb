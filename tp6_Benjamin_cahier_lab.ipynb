{
 "cells": [
  {
   "cell_type": "markdown",
   "id": "7bc17e21",
   "metadata": {},
   "source": [
    "Partie_1_notes :\n",
    "En protéomique, les signaux sont moins clairs qu'en trnascriptomique (au lieu de 4 acides nucléiques, 20 a.a. et struct primaire, secondaire t tertiaire, PTMs, traitement supplémentaire -> visible en spectrometrie)\n",
    "\n",
    "préparation d'échantillon peptidique : voir notes\n",
    "\n",
    "peut prédire pic (si connait les masses) \n",
    "\n",
    "peut comparer expression de diffférentes protéiques et enrichissement de voie moléculaire (comme en transcriptomique)\n",
    "\n",
    "heatmap : audio\n",
    "\n",
    "Un terme GO (Gene Ontology) est comme une étiquette que l'on attache à un groupe de gènes pour dire ce qu'ils font dans le corps. Ainsi, les termes GO aident les scientifiques à organiser et à comprendre le rôle des gènes en les regroupant par leurs fonctions biologiques.  C'est une sorte de système de classification qui rend la vie plus facile aux chercheurs. \n",
    "\n",
    "MSigDB, ou Molecular Signatures Database, est une base de données qui contient des ENSEMBLES DE GENES préalablement définis, également appelés signatures moléculaires.Les ensembles de gènes de MSigDB sont couramment utilisés en bioinformatique pour déterminer si des ensembles spécifiques de gènes sont enrichis. MSigDB est divisé en plusieurs collections (collection \"Hallmark\" regroupe des ensembles de gènes liés à des processus biologiques fondamentaux et la collection \"C2\" qui comprend des ensembles de gènes provenant de bases de données biologiques, de publications scientifiques, et d'autres sources)\n",
    "\n",
    "\n",
    "Partie_2_notes :\n"
   ]
  },
  {
   "cell_type": "markdown",
   "id": "a57110bc",
   "metadata": {},
   "source": [
    "# QUESTION 1 – Utilisation de RforProteomics - Fichiers sommaire d’expérience MS"
   ]
  },
  {
   "cell_type": "markdown",
   "id": "29ce5b9f",
   "metadata": {},
   "source": [
    "a) dans bash : ln -s /cours/a23_bcm3553_bcm6010-a/cours/TP6/\n",
    "dans Rstudio : setwd(\"~/tp6\")\n",
    "(on est dans le répertoire \"/home_sens/df42175/tp6\")"
   ]
  },
  {
   "cell_type": "markdown",
   "id": "00fbd94d",
   "metadata": {},
   "source": [
    "b)\n",
    "pour fichier métadonnées MS pour MM14 : \"/apps_rh8/Local_rh8/R/R-4.3.1/lib64/R/library/msdata/microtofq/MM14.mzML\"\n",
    "\n",
    "pour fichier métadonnées MS pour MM8 : \"/apps_rh8/Local_rh8/R/R-4.3.1/lib64/R/library/msdata/microtofq/MM8.mzML\"\n",
    "\n",
    "(pour voir ces fichiers, on doit d'abord revenir au root, (donc faire deux cd ..)"
   ]
  },
  {
   "cell_type": "markdown",
   "id": "70c62977",
   "metadata": {},
   "source": [
    "c) Le fichier d'exemple sans peptides et le fichier MM14. En effet, lorsqu'on fait un run Info, il est possible de voir que le lowMz et highMz sont tous deux égal à 0. "
   ]
  },
  {
   "cell_type": "markdown",
   "id": "01b709a4",
   "metadata": {},
   "source": [
    "d) runInfo nous permet d'accéderax métadonnées d'un objet mZr. highMz fait référence aux fragments peptidiques ayant un rapport M/Z élevé et lowMz fait référence aux fragments peptidiques ayant un rapport M/Z faible. (vérif ?)"
   ]
  },
  {
   "cell_type": "markdown",
   "id": "46304367",
   "metadata": {},
   "source": [
    "# QUESTION 2 – Fichier d’identification des peptides"
   ]
  },
  {
   "cell_type": "markdown",
   "id": "53a5c7f5",
   "metadata": {},
   "source": [
    "a)L'échantillon Mascot_MSMS nous est fourni avec quelques informations/métadonnées supplémentaires, à savoir \"Mascot.identity.threshold\", \"Mascot.homology.threshold\", \"number.of.peptide.seqs.compared.to.each.spectrum\". L'échantillon Tandem ne nous fournit pas ces informations. \n",
    "Mascot identity threshold est un seuil de confiance qu'on set pour accepter ou rejeter une identification de protéines en MS (AU-DESSUS du seuil, c'est considéré comme significatif et donc accepté), Mascot homology threshold est un seuil considérant la similarité des peptides identifiés avec des peptides de référence, et number of peptide seqs compared to each spectrum nous informe de à combien de peptides de référence notre peptide expérimental peut matcher. (pour l'identification, on va regarder les différents Mascot score pour le matching avec chacun des peptides de référence, et on affirmera en général que le plus haut correspond probablement à notre peptide expérimental. )"
   ]
  },
  {
   "cell_type": "markdown",
   "id": "732d7a0d",
   "metadata": {},
   "source": [
    "b) Le head de notre objet nous donne le rapport masse/charge mais également la charge pour chacun des fragments. Ainsi, il est possible de calculer pour chacun des fragments sa masse. \n",
    "Pour le fragment peptidique \"KDLYGNVVLSGGTTMYEGIGER\" en question, on aura une masse de 2711.163. "
   ]
  },
  {
   "cell_type": "markdown",
   "id": "17405a44",
   "metadata": {},
   "source": [
    "c) Ce fragment peptidique ionisé vient de la protéine Hsp70 de Echinococcus granulosus."
   ]
  },
  {
   "cell_type": "markdown",
   "id": "6947d48f",
   "metadata": {},
   "source": [
    "d) C'est la trypsine. C'est une protéase/peptidase à sérine (cad ayant une sérine dans son site catalytique) qui hydrolyse les liaisons peptidiques du côté C-ter d'un résidu basique comme la lysine (K) ou l'arginine (R). "
   ]
  },
  {
   "cell_type": "markdown",
   "id": "a6401509",
   "metadata": {},
   "source": [
    "# QUESTION 3 – Fichiers de signal MS « Raw » et leur « Peptide Spectral Match » à des protéines"
   ]
  },
  {
   "cell_type": "markdown",
   "id": "1986eb8e",
   "metadata": {},
   "source": [
    "a) Il y en a 1012 pics associé à ce spectre.  "
   ]
  },
  {
   "cell_type": "markdown",
   "id": "b0668d88",
   "metadata": {},
   "source": [
    "b) Le 1er spectre est celui présentant le signal de plus grande intensité (donc ce qui veut dire plein de fragments détectés à ce rapport M/Z) et c'est le 5eme spectre qui possèdent les plus petits fragments ayant un rapport M/Z (il ne possède pas de gros fragments avec un rapport M/Z élevé)"
   ]
  },
  {
   "cell_type": "markdown",
   "id": "9d2770bd",
   "metadata": {},
   "source": [
    "c) Les rapporteurs iTRAQ sont des réactifs chimiques qui se lient aux peptides issu de la fragmentation de la protéines.  Ce sont des sortes de tags chimiques qui sont facilement discernable en MS. Ainsi, avec une certaine quantité de iTRAQ (ce sont des \"rapporteurs\"), il est possible de générer des pics d'intensité \"étalon\" auxquels on pourra comparer nos pics expérimentaux. Ainsi, il est possible de quantifier relativement le nombre de fragments peptidiques (et donc indirectement de la protéine). \n",
    "\n",
    "NB : Les iTRAQs ont le même poids, afin que cela n'influence pas en MS. "
   ]
  },
  {
   "cell_type": "markdown",
   "id": "1a3aabfe",
   "metadata": {},
   "source": [
    "# QUESTION 4 – Reconstruction des données peptidiques et visualisation graphique"
   ]
  },
  {
   "cell_type": "markdown",
   "id": "f1943ed8",
   "metadata": {},
   "source": [
    "a) On utilise un rapporteur par échantillon. Ici on a 6 échantillons. "
   ]
  },
  {
   "cell_type": "markdown",
   "id": "bab975cf",
   "metadata": {},
   "source": [
    "b) C'est la protéine ALBU chez le bovin. "
   ]
  },
  {
   "cell_type": "markdown",
   "id": "52ee1075",
   "metadata": {},
   "source": [
    "c) On a déjà ajouté la trypsine de porc a nos échantillons. Ainsi, lors de la détection par MS, il est possible de voir directement les fragments de la trypsine de cochon dans le spectre et les identifier directement comme contaminants. (et donc les discard !)\n",
    "\n",
    "ECA une protéine connue dont les fragments sont très bien connus (et pouvent du coup être facilement reconnus). Ainsi, en le mettant dans tous les échantillons, on a une mesure du bruit de fond (background) qui nous permet de différencier plus facilement entre un pic significatif et du bruit de fond. "
   ]
  },
  {
   "cell_type": "markdown",
   "id": "b9b84c1b",
   "metadata": {},
   "source": [
    "d) C'est le rapporteur TMT6.129 qui présente la plus grande concentration d'albumine bovine. (BSA)"
   ]
  },
  {
   "cell_type": "markdown",
   "id": "99bcc3f0",
   "metadata": {},
   "source": [
    "e) Il semblerait qu'il n'y aurait que  2 mesures donc non-significatif (pas sûr ???)"
   ]
  },
  {
   "cell_type": "markdown",
   "id": "56f967e8",
   "metadata": {},
   "source": [
    "# QUESTION 5 – Traitement des données pour enrichissement de GO"
   ]
  },
  {
   "cell_type": "markdown",
   "id": "8c72079f",
   "metadata": {},
   "source": [
    "a) Simplement car le format tsv veut dire \"tab separated value\". Il faudra donc le lire avec l'argument sep = \"\\t\""
   ]
  },
  {
   "cell_type": "markdown",
   "id": "cf69c3f0",
   "metadata": {},
   "source": [
    "b) On aurait pu utiliser \"Hallmark\" dans MsigDB qui regroupe des ensembles de gènes liés à des voies cellulaires fondamentales. On aurait également pu utiliser C1 ou C2. "
   ]
  },
  {
   "cell_type": "markdown",
   "id": "8cd7bb4d",
   "metadata": {},
   "source": [
    "c) Il y en a 10 en tout : systematicName, pmid, exactSource, geneSymbols, msigdbURL, externalDetailsURL, filteredBySimilarity, externalNamesForSimilarTerms, collection et term. (certaines peuvent rester partiellement vide comme pmid qui est le PubMed ID qui ne comporte pas d'information pour chacunes des lignes!)"
   ]
  },
  {
   "cell_type": "markdown",
   "id": "010dc8e2",
   "metadata": {},
   "source": [
    "# Question 6"
   ]
  },
  {
   "cell_type": "markdown",
   "id": "15510b87",
   "metadata": {},
   "source": [
    "a) Il y a 304 protéines Prey et 25 protéines Bait analysées durant l'expériences. (Sur les 27 protéines virales, 25 protéines virales sont utilisées comme bait et les protéines humaines qui intéragissent avec seront les preys.)\n",
    "Exemple de protéines baits : N, M, E..."
   ]
  },
  {
   "cell_type": "markdown",
   "id": "1e3a7d90",
   "metadata": {},
   "source": [
    "b) La fonction unique() en R nous permet d'éliminer les doublons pour ne garder que des valeurs uniques, correspondant aux protéines SARS différentes. Pour exemple, l'objet SARS_massSpec$Bait_COVID.19 possède 301 éléments qui après avoir appliqué la fonction unique() est réduit à seulement 25 protéines différentes.\n",
    "Avant d'effectuer des analyses statistiques ou de visualiser des données, il est souvent nécessaire d'éliminer les doublons pour éviter toute distorsion dans les résultats. Par exemple"
   ]
  },
  {
   "cell_type": "markdown",
   "id": "e4372ae4",
   "metadata": {},
   "source": [
    "c) clusterProfiler est une fonction qui permet l'analyse d'enrichissement.  Ses arguments minGSSize et maxGSSize permettent de fixer des valeurs seuils de la taille minimale et maximale au-delà desquelles les ensembles de gènes ne seront PAS pris en compte (seul seront pris en compte les \"gene set\" entre !). Les valeurs de significativité seront mis en format log10 principalement pour une visualisation plus facile sur graphe. "
   ]
  },
  {
   "cell_type": "markdown",
   "id": "eca6e585",
   "metadata": {},
   "source": [
    "d) On a 7398 termes GO et par après on en a plus que 1361. Ainsi, on a éliminé 6037 termes GO qui ne présente pas un score plus grand que 1. "
   ]
  },
  {
   "cell_type": "markdown",
   "id": "463ce93f",
   "metadata": {},
   "source": [
    "e) Si on continue à éliminer les termes GO qui ne passent pas par le filtre de valeur P, on aboutit à la fin à 1032 termes GO. Ainsi on en a éliminé 329. "
   ]
  },
  {
   "cell_type": "markdown",
   "id": "ac974471",
   "metadata": {},
   "source": [
    "f) Son nom est org.Hs.eg.db. "
   ]
  },
  {
   "cell_type": "markdown",
   "id": "431e5831",
   "metadata": {},
   "source": [
    "g) « Glycoprotein metabolic processing » : terme GO de type BP\n",
    "« Golgi apparatus subcompartment » : terme GO de type CC\n",
    "« DNA replication initiation » : terme GO de type BP\n",
    "« Endopeptidase activity » : terme GO de type MF"
   ]
  },
  {
   "cell_type": "markdown",
   "id": "615651e3",
   "metadata": {},
   "source": [
    "h) Il y a 220 termes GO associés à NSP7. Le premier est \"GOBP_POLYSACCHARIDE_BIOSYNTHETIC_PROCESS\" par exemple."
   ]
  },
  {
   "cell_type": "markdown",
   "id": "a3797325",
   "metadata": {},
   "source": [
    "i) On a un seul terme GO de type CC, qui est \"GOCC_NUCLEAR_PORE\"."
   ]
  },
  {
   "cell_type": "markdown",
   "id": "dab7906c",
   "metadata": {},
   "source": [
    "j) Ce sera le terme \"GOCC_ENDOPLASMIC_RETICULUM_LUMEN\". Il appartient à la protéine virale bait ORF8 et il semblerait que 16 protéines prey humaines intéragissent avec elle, participant ainsi au signal d'enrichissement. Un exemple de protéine prey qui intéragit avec elle est TOR1A. La valeur de significativité en log10 de la p-val ajustée est de 13.899994 (et est la plus élevée). "
   ]
  },
  {
   "cell_type": "markdown",
   "id": "8db5b86b",
   "metadata": {},
   "source": [
    "# Question 7"
   ]
  },
  {
   "cell_type": "markdown",
   "id": "dc9cba4d",
   "metadata": {},
   "source": [
    "a) cette condition permet que le loop soit actif tant que le nombre d'éléments à l'intérieur de SARS_genes_count soit inférieur ou égal à 25. (le loop est actif tant que SARS_genes_count contient 25 éléments ou moins.)"
   ]
  },
  {
   "cell_type": "markdown",
   "id": "382d60df",
   "metadata": {},
   "source": [
    "b) Car la transformation logarythmique permet d'avoir des p-val ajustées plus parlantes et comparables. Sinon, les différences de puissance de 10 peuvent être beaucoup trop peu visibles lors du heatmap. "
   ]
  },
  {
   "cell_type": "markdown",
   "id": "5293bf96",
   "metadata": {},
   "source": [
    "c)\n",
    "rownames_matrix <- GO_enrich_matrix[,1] : permet de créer un objet contenant le nom des rows qui sont présent dans la première colonne de la matrice\n",
    "GO_enrich_matrix <- GO_enrich_matrix[,-c(1)] : permet de supprimer la première colonne de la matrice (qui sera  conservé dans l'objet rownames_matrix"
   ]
  },
  {
   "cell_type": "markdown",
   "id": "2bf72cc8",
   "metadata": {},
   "source": [
    "d) Avec length(colors3), On voit qu'il y a 256 nuances de la couleur bleue qui seront utilisées pour le heatmap. "
   ]
  },
  {
   "cell_type": "markdown",
   "id": "93271966",
   "metadata": {},
   "source": [
    "e) Avec l'argument cellwidth, on peut préciser la largeur des carrés du heatmap. Si on le laisse en NA, la taille dépendra de la taille de la fenêtre. "
   ]
  },
  {
   "cell_type": "markdown",
   "id": "92bde1b9",
   "metadata": {},
   "source": [
    "# Question  8"
   ]
  },
  {
   "cell_type": "markdown",
   "id": "ce832b12",
   "metadata": {},
   "source": [
    "NB : initialement, une p-valeur plus faible démontre plus de significativité. Cependant dans le heatmap, il est plus facile d'inverser cela (ce qu'on a fait) pour qu'une COULEUR PLUS FONCEE CORRESPONDE A UNE PLUS GRANDE SIGNIFICATIVITE !!! (en tout, a subit transformation logarythmique et transformation par inversion.)"
   ]
  },
  {
   "cell_type": "markdown",
   "id": "a7da0e57",
   "metadata": {},
   "source": [
    "a) Oui, on voit que le carré le plus foncé, cad avec la valeur de significativité la plus importante est pour ORF8, et que celui ci est se localise à la lumière du réticulum endoplasmique. "
   ]
  },
  {
   "cell_type": "markdown",
   "id": "d5c6b51b",
   "metadata": {},
   "source": [
    "b) C'est vraiment compliqué de le voir dans le heatmap à cause de la pâleur, donc on va plutôt passer par un view(GO_enrich_matrix ) pour voir là où ya un signal non nul. On voit que c'est le cas pour les GO \"RNA splicing\" et \"cytoplasmic stress granules\". NSP12 est une RdRP, cad une RNA polymérase RNA dépendante qui est très importante pour la réplication du génome viral. Dans la cellule hôte humaine, elle peut donc intéragir en reconnaissant l'ARN et perturber les machineries normales faisant intervenir celle-ci comme l'épissage ou bien la formation de granules de stress (qui sont des accumulation de ribonucléoprotéines). "
   ]
  },
  {
   "cell_type": "markdown",
   "id": "9517ce35",
   "metadata": {},
   "source": [
    "c) rappel : chaque protéine bait intéragit avec des protéines prey qui font partie de tel ou tel terme GO, et il est donc possible de voir le GO que la protéine bait perturbe le plus dans la cellule hôte, regardant les valeurs de significativité. Pour chaque protéine bait, on va mapper le terme GO qu'il impacte LE PLUS. On aura donc un heatmap de 25x25 cases. Une même protéine bait (comme NSP9) peut cependant TRES BIEN INTERAGIR SIGNIFICATIVEMENT AVEC LES PROTEINES IMPLIQUEES DANS UN AUTRE TERME GO, ou avec des protéines qui interviennent dans plusieurs voies cellulaires. "
   ]
  },
  {
   "cell_type": "markdown",
   "id": "553b9aa8",
   "metadata": {},
   "source": [
    "d) NSP9 serait une protéine virale qui impacte les processus cellulaires dans le noyau, au niveau du pore nucléaire mais aussi au niveau de la mitochondrie. On peut hypothéthiser qu'elle pertuberait le transport nucléaire et mitochondrial des protéines dans la cellule hôte. "
   ]
  },
  {
   "cell_type": "markdown",
   "id": "4e3f04dd",
   "metadata": {},
   "source": [
    "e) Car ces protéines ne semblent pas intéragir avec beaucoup de protéines prey impliqués dans les GO sur le heatmap (ou intéragit avec des protéines mais de beaucoup de GO différent et très diffuséement) . Ainsi le signal est très faible pour tous les GO pour cette protéine bait."
   ]
  },
  {
   "cell_type": "markdown",
   "id": "60b3dd99",
   "metadata": {},
   "source": [
    "# Question 9 : Données pour le diagramme à bande"
   ]
  },
  {
   "cell_type": "markdown",
   "id": "be9e1078",
   "metadata": {},
   "source": [
    "a) La matrice contient des informations sur l'identifiant ensembl de la protéine, du gène correspondant ainsi que le nom du gène. Elle quantifie aussi l'expression relative de la protéine dans différents organes du corps humain."
   ]
  },
  {
   "cell_type": "markdown",
   "id": "6be46220",
   "metadata": {},
   "source": [
    "b) On applique une transformation logarythmique aux valeurs d'expression relative dans les différents organes de la matrice. Ainsi, on transforme les 0 en -inf (car le logarythme de 0 = - infini ). On retire ensuite ces valeurs négatives d'expression qui qu'on va remplacer par des NAs. \n",
    "Cela nous permettra dans la section suivante de pouvoir créer une liste contenant uniquement ce qui nous intéresse, grâce à certaines fonctions qui recquierent cette transformation. "
   ]
  },
  {
   "cell_type": "markdown",
   "id": "1173c7f1",
   "metadata": {},
   "source": [
    "# Question 10 : Visualisation des données tissus"
   ]
  },
  {
   "cell_type": "markdown",
   "id": "b637cac3",
   "metadata": {},
   "source": [
    "a) Ce graphique montre, pour chacun des tissus, l'opposé du logarythme en base 10 de la p-valeur associé au test : y'a t'il un erichissement de l'expression de tel ou tel gène lors de l'infection par le SARS-COV2. Les plus grandes valeurs correspondent à une plus petite p-valeur, et sont donc plus sinificatives. "
   ]
  },
  {
   "cell_type": "markdown",
   "id": "c29909f4",
   "metadata": {},
   "source": [
    "b) Oui le graphique est consistant avec la littérature. En effet, L’ACE2 est le principal récepteur cellulaire du SARS-CoV-2 et est fortement exprimé dans le tube digestif, les reins, le coeur, la vésicule biliaire ainsi que les testicules (https://www.ncbi.nlm.nih.gov/pmc/articles/PMC7250743/). Cela pourrait résulter en une sensibilité accrue de ces tissus pour le SARS-Cov2, ce qui concorde avec les donnée du graphique. "
   ]
  },
  {
   "cell_type": "markdown",
   "id": "ad2e8bd3",
   "metadata": {},
   "source": [
    "c) Si le seuil de significativité est fixé à 5%, nos résultats ne seraient pas considérés comme significatifs. En effet, ici les p-valeurs sont situés aux alentours de 0,2 à 0,4. Cela voudrait qu'on aurait entre 20% et 40% (environ) d'observer ces valeurs si l'hypothèse nulle était vraie, à savoir qu'il n'y aurait pas de différence d'expression dans les tissus observés. "
   ]
  }
 ],
 "metadata": {
  "kernelspec": {
   "display_name": "Python 3 (ipykernel)",
   "language": "python",
   "name": "python3"
  },
  "language_info": {
   "codemirror_mode": {
    "name": "ipython",
    "version": 3
   },
   "file_extension": ".py",
   "mimetype": "text/x-python",
   "name": "python",
   "nbconvert_exporter": "python",
   "pygments_lexer": "ipython3",
   "version": "3.10.12"
  }
 },
 "nbformat": 4,
 "nbformat_minor": 5
}
