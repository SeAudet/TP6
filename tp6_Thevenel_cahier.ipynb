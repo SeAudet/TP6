{
 "cells": [
  {
   "cell_type": "markdown",
   "id": "4fc80c1b",
   "metadata": {},
   "source": [
    "## TP6 - PROTEOMIQUE"
   ]
  },
  {
   "cell_type": "markdown",
   "id": "a6c94bc0",
   "metadata": {},
   "source": [
    "Theorie - Semaine 1"
   ]
  },
  {
   "cell_type": "raw",
   "id": "03e9af06",
   "metadata": {},
   "source": [
    "# Trypsine (digestion par protease) --> plus petits peptides ~10 acides aminees\n",
    "Difficile de capturer tous  les acides aminees avec UN tampon parfait (hydrophobe vs hydrophile)\n",
    "\n",
    "On associe les notions de \"Gene Ontology\" aux proteines, pour trouver des possibles fonctions physio-moleculaires"
   ]
  },
  {
   "cell_type": "markdown",
   "id": "bd8668af",
   "metadata": {},
   "source": [
    "Theorie - Semaine 2"
   ]
  },
  {
   "cell_type": "raw",
   "id": "b47bea0f",
   "metadata": {},
   "source": [
    "*Pas de notes de cours"
   ]
  },
  {
   "cell_type": "markdown",
   "id": "48dce113",
   "metadata": {},
   "source": [
    "Pratique - Partie 1"
   ]
  },
  {
   "cell_type": "raw",
   "id": "86082419",
   "metadata": {},
   "source": [
    "#Question 1 - Utilisation de RforProteomics - Fichiers sommaire d'experience MS\n",
    "#a) \n",
    "ln -s /cours/a23_bcm3553_bcm6010-a/cours/TP6/ .\n",
    "cp /home_sens/ag09851/Documents/bcm6010/TP6/TP_6/script/TP6_Processing.Rmd .\n",
    "\n",
    "#b)\n",
    "filepath <- system.file(\"microtofq\", package = \"msdata\")\n",
    "Chemin complet: \"apps_rh8/Local_rh8/Local_rh8/R/R-4.3.1/lib64/R/library/msdata/microtofq\"\n",
    "\n",
    "#c)\n",
    "Le fichier mz14 serait sans peptides, parce qu'il a 0 en lowMZ et 0 en highMz\n",
    "\n",
    "#d)\n",
    "La deuxieme et troisieme valeurs signifient respectivement que le ratio masse/charge minimum et maximum du fichier."
   ]
  },
  {
   "cell_type": "raw",
   "id": "988ed256",
   "metadata": {},
   "source": [
    "#Question 2 - Fichier d'identification des peptides\n",
    "#a)\n",
    "Les deux fichiers ne possedent pas les memes types d'informations par exemple avec les commandes:\n",
    "names(psms(mzidTandem))\n",
    "names(psms(mzidMascot))\n",
    "On voit que le premier possede 20 categories comparees a 23 pour le deuxieme.\n",
    "\n",
    "#b)\n",
    "La masse experimentale est de 792.3792. On l'a trouve en entrant la commande : head(psms(mzidTandem))[, 1:13]\n",
    "\n",
    "#c)\n",
    "Heat shock cognate 70 kDa protein (HSP70) - Echinococcus granulosus\n",
    "\n",
    "#d)\n",
    "La Trypsine est l'endopeptidase commune pour les deux experiences. Elle va couper aux acides amines basiques (ex.: lysine, arginine)."
   ]
  },
  {
   "cell_type": "raw",
   "id": "171ca9a9",
   "metadata": {},
   "source": [
    "#Question 3 - Fichiers de signal MS \"Raw\" et leur \"eptide Spectral Match\" a des proteines\n",
    "#a)\n",
    "5\n",
    "\n",
    "#b)\n",
    "Spectre 1 : maximum intensite des pics\n",
    "Spectre 5 : le plus petit ratio masse/charge\n",
    "\n",
    "#c)\n",
    "iTRAQ4 permet d'afficher 4 pics dans un eventail de ratio masse/charge de 114 a 117."
   ]
  },
  {
   "cell_type": "raw",
   "id": "68ee1545",
   "metadata": {},
   "source": [
    "#Question 4 - Reconstruction des donnees peptidiques et visualisation graphique\n",
    "#a)\n",
    "Il y a 6 echantillons qui ont ete analyses.\n",
    "\n",
    "#b)\n",
    "ALBU_BOIVIN\n",
    "\n",
    "#c)\n",
    "On ajoute le ECA comme controle et le TRYP_PIG n'est plus interessant puisqu'il n'a pas autant d'intensites compare aux autres proteines pour les rapporteurs.\n",
    "\n",
    "#d)\n",
    "Rapporteur-129 pour la BSA\n",
    "\n",
    "#e)\n",
    "Il y a la grande intensite pour CYT au rapporteur 131, avec seulement 2 replicats presents."
   ]
  },
  {
   "cell_type": "raw",
   "id": "6b60d538",
   "metadata": {},
   "source": [
    "#Question 5 - Traitement des donnees pour enrichissement de GO\n",
    "#a)\n",
    "Le type de fichier est \"tsv\" donc nous savons que la separation de tabulations \"sep = \"\\t\"\"\n",
    "\n",
    "#b)\n",
    "On aurait utiliser le terme \"MF\" pour determiner les voies moleculaires des fonctions biologiques de cellules normales.\n",
    "\n",
    "#c)\n",
    "Il y avait 10 types de donnees au total pour les termes GO dans le fichier d'annotation."
   ]
  },
  {
   "cell_type": "raw",
   "id": "b6fd3b0f",
   "metadata": {},
   "source": [
    "#Question 6 - Comprendre nos donnees (Prey vs Bait & termes GO associes)\n",
    "#a) \n",
    "Il y a 25 proteines \"Bait\" et il y a 304 proteines \"Prey\". Trois des Baits sont \"N\", \"M\" et \"E\".\n",
    "\n",
    "#b)\n",
    "La fonction \"unique\" sert a retirer les donnees-duplicats lorsque l'on insere ceux-ci dans une matrice, liste, etc comme ca on ne conserve qu'un seul exemplaire des dites donnees.\n",
    "\n",
    "#c)\n",
    "Les seuils min/maxGSsize servent a filtrer les resultats entre la taille minimale et la taille maximale des ensembles de genes pour qu'ils soient comprises dans l'analyse. Les valeurs de significativites sont dans un format de adjust p value.\n",
    "\n",
    "#d)\n",
    "\n",
    "#e)\n",
    "\n",
    "#f)\n",
    "Le nom de cette banque de donnees serait \"enriched_GOs_masters\".\n",
    "\n",
    "#g)\n",
    "« Glycoprotein metabolic processing » -> type BP (Biological Process)\n",
    "« Golgi apparatus subcompartment » -> type CC (Cellular Component)\n",
    "« DNA replication initiation » -> type BP (Biological Process)\n",
    "« Endopeptidase activity » -> type MF (Molecular Function)\n",
    "\n",
    "#h)\n",
    "Il y a 220 termes GO associes a NSP7 dont \"GOBP_POLYSACCHARIDE_BIOSYNTHETIC_PROCESS\".\n",
    "\n",
    "#i)\n",
    "Il y a un terme GO associe a ORF6 et c'est \"GOCC_NUCLEAR_PORE\".\n",
    "\n",
    "#j)\n",
    "Pour le Bait \"ORF8\"\n",
    "Le terme GO est \"GOCC_ENDOPLASMIC_RETICULUM_LUMEN\"\n",
    "Il y a 16 proteines PREY dont \"TOR1A\"\n",
    "La valeur de significativite en log10 de la valeur de p ajustee est \"13.899994\""
   ]
  },
  {
   "cell_type": "markdown",
   "id": "4e7c54d5",
   "metadata": {},
   "source": [
    "Pratique - Partie 2"
   ]
  },
  {
   "cell_type": "raw",
   "id": "e48942bd",
   "metadata": {},
   "source": [
    "#Question 7 - Preparation des donnees pour le Heatmap\n",
    "#a)\n",
    "while(length(SARS_genes_count) <=25)\n",
    "Cette commande vient mettre une condition avant de pouvoir executer quelconque fonction.\n",
    "Quand la longueur des sequeucence des genes sont inferieur et egales a 25, \n",
    "\n",
    "#b)\n",
    "La modification des valeurs de significativite sert a rendre les valeurs plus faciles a lire et ainsi faciliter la comparaison. Les differences entre les valeurs seront plus faciles a voir lors qu'ils apparaitront sur le heatmap.\n",
    "\n",
    "#c)\n",
    "rownames_matrix <- GO_enrich_matrix[,1]\n",
    "GO_enrich_matrix <- GO_enrich_matrix[,-c(1)]\n",
    "\n",
    "La premiere ligne de code signifie que la deuxieme range dans GO_enrich_matrix va fournir les noms des rangees pour \"rownames_matrix\" dans le pheatmap.\n",
    "La deuxieme ligne de code signifie que \n",
    "\n",
    "\n",
    "#d)\n",
    "Une palette de couleurs Bleu d'intensite 9 a 256.\n",
    "\n",
    "#e)\n",
    "treeheight_row = 0\n",
    "Cet commande modifie la largeur des cases si on remplace la valeur 0 avec un autre nombre."
   ]
  },
  {
   "cell_type": "raw",
   "id": "075598d4",
   "metadata": {},
   "source": [
    "#Question 8 - En fait  on regarde les resultats\n",
    "#a)\n",
    "Oui, c'est consistant avec ce qu'on avait eu. \"ORF8\" qui croise sa case avec \"endoplasmic reticulum lumen\" est la plus foncee la plus exprime. \n",
    "\n",
    "#b)\n",
    "Ca ferait du sens que NSP12 interagisse avec \"cytoplasmic stress granule\" parce que NSP12 agit de facon similaire a un ARN polymerase et dans une celulle soumis a un stress (comme une infection virale) elle a tendance a former des granules de stress dans le cytosol qui sont composes de ARNm et de proteines. On pourrait penser que NSP12 pourrait rester en complexe avec des ARNm pendant la formation de granules de stress.\n",
    "\n",
    "#c)\n",
    "\n",
    "\n",
    "#d)\n",
    "On pourrait penser que NSP9 serait impliquer dans des processus viraux au niveau nucleaire pour la replication de l'information genetique du virus.\n",
    "\n",
    "#e)\n"
   ]
  },
  {
   "cell_type": "raw",
   "id": "36ccf0cc",
   "metadata": {},
   "source": [
    "#Question 9 - Donnees pour le diagramme a bande\n",
    "#a)\n",
    "Il y a une liste de 15 210 proteines exprimes selon l'abondance positive chez 32 types de tissus humains. \n",
    "\n",
    "#b)\n",
    "On cree \"proteome_tissue_SARS\" en ne conservant que le niveau d'expression des proteines qui ont ete captures avec celles du SARS-Cov2 selon les tissus.\n"
   ]
  },
  {
   "cell_type": "raw",
   "id": "b2a0ef16",
   "metadata": {},
   "source": [
    "#Question 10 - Visualisation des donnees tissus\n",
    "#a)\n",
    "Sur le graphique, on voit l'expression en p-value -log10 des genes transcripts sur les differents tissus du corps humain.\n",
    "\n",
    "#b)\n",
    "\n",
    "Oui, la plupart des resultats que l'on a obtenu sont consistants avec ce qui aurait ete attendu de SARS-Cov2 excepte pour les \"Fallopian tube\", \"Ovary\", \"Liver\", \"Gallbladder\", \"Pancreas\" et \"Fat\".\n",
    "(Trypsteen, W., Van Cleemput, J., Snippenberg, W. V., Gerlo, S., & Vandekerckhove, L. (2020). On the whereabouts of SARS-CoV-2 in the human body: A systematic review. PLoS pathogens, 16(10), e1009037. https://doi.org/10.1371/journal.ppat.1009037)\n",
    "\n",
    "\n",
    "#c)\n",
    "Tous les resultats seraient consideres significatifs (p > 0,05) puisque le -log(>0,05) equivaut a <1,301. Donc, tous les resultats affiches sur le diagramme sont significatifs.\n"
   ]
  }
 ],
 "metadata": {
  "kernelspec": {
   "display_name": "Python 3 (ipykernel)",
   "language": "python",
   "name": "python3"
  },
  "language_info": {
   "codemirror_mode": {
    "name": "ipython",
    "version": 3
   },
   "file_extension": ".py",
   "mimetype": "text/x-python",
   "name": "python",
   "nbconvert_exporter": "python",
   "pygments_lexer": "ipython3",
   "version": "3.10.12"
  }
 },
 "nbformat": 4,
 "nbformat_minor": 5
}
