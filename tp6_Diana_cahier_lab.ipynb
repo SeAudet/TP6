{
 "cells": [
  {
   "cell_type": "markdown",
   "id": "26965786",
   "metadata": {},
   "source": [
    "### Question 1"
   ]
  },
  {
   "cell_type": "markdown",
   "id": "cdfc43db",
   "metadata": {},
   "source": [
    "a) commande pour lien symbolique: ln -s /cours/a23_bcm3553_bcm6010-a/cours/TP6/data  \n",
    "commande pour copier code: cp /cours/a23_bcm3553_bcm6010-a/cours/TP6/script/TP6_Processing.Rmd .  \n",
    "changement du directory dans le code: setwd(\"~/bcm6010/tp6\")  \n",
    "\n",
    "b)filepath=\"/apps_rh8/Local_rh8/R/R-4.3.1/lib64/R/library/msdata/microtofq/*\"\n",
    "\n",
    "c)MM14 est vide parce que lorsqu'on a run runInfo(mz14)on obtient un low and highMZ de 0 donc il n'y a pas de m ass over charge ration donc pas de reads. MM18 en avait donc il n'est pas vide\n",
    "\n",
    "d)low and highMz donne la valeur du plus bas and plus haut mass over charge ratio "
   ]
  },
  {
   "cell_type": "markdown",
   "id": "7c97391b",
   "metadata": {},
   "source": [
    "### Question 2"
   ]
  },
  {
   "cell_type": "markdown",
   "id": "d8432340",
   "metadata": {},
   "source": [
    "a)Mascot contient les memes donnees que Tandem, mais il contient aussi des informations sur Identity.threshold, homology.threshold et number.of.peptide.seqs.compared.to.each.spectrum que Tandem n'a pas.\n",
    "\n",
    "b) head(psms(mzidTandem))[,1:13]\n",
    "\n",
    "Dans les petides donnes, celui qu'on recherche a une calculated mass by charge of 792.3899 et une charge de 3. Donc la masse est de 792.3899x3=2377.1697Da\n",
    "\n",
    "c)Potein: Heat shock cognate 70 kDa protein (HSP70)  \n",
    "Organisme: Echinococcus granulosus\n",
    "\n",
    "d)enzyme:trypsin\n",
    "elle coupe la proteine du cote carboxyl de la lysine ou argenine \n"
   ]
  },
  {
   "cell_type": "markdown",
   "id": "251e0611",
   "metadata": {},
   "source": [
    "### Question 3"
   ]
  },
  {
   "cell_type": "markdown",
   "id": "2f4a4bf2",
   "metadata": {},
   "source": [
    "a) peaksCount(raw[2])  \n",
    "Reponse: 1012peaks\n",
    "\n",
    "b)Le spectre 1 a la plus grande intensite car l'axe des y se rend jusqu'a 1.5e+7qui est la plus grande valeur. Le spectre 5, car ses peaks sont le plus a gauche dans le graphique ou la mass to charge ratio est plus petite.\n",
    "\n",
    "c)ils servent a label 4 proteines pour pouvoir leur attribuer le peak du MS after anaysis"
   ]
  },
  {
   "cell_type": "markdown",
   "id": "4afcc5bd",
   "metadata": {},
   "source": [
    "### Question 4"
   ]
  },
  {
   "cell_type": "markdown",
   "id": "02f5231b",
   "metadata": {},
   "source": [
    "a)il y a 6echantillons\n",
    "\n",
    "b)La quatrieme parce que elle commence a une intensite tres basse(plus diluee) puis augmente 3x en intensite(moins diluee) pour diminuer 2x en intensite (plus diluee)\n",
    "\n",
    "c)Le signal de TRYP_PIG provient de l'enzyme de restriction donc le signal est constant partout mais ne nous interesse plus, car il ne sert plus a rien pour la suite. Par contre, ECA est commun a tous les raporteurs et represente le bruit de fond et est necessaire pour determiner la fiabilite des resultats des autres puisqu'on veut juste prendre les signaux plus eleves que le bruit de fond.\n",
    "\n",
    "d)Rapporteur 129 parce que la couleur est plus foncee\n",
    "\n",
    "e)Parce que dans les autres, il y a du bruit de fond qui est plus eleve que le signal donc on ne sait pas si ca fait partie du bruit de fond ou si c'est un signal."
   ]
  },
  {
   "cell_type": "markdown",
   "id": "cd128195",
   "metadata": {},
   "source": [
    "### Question 5"
   ]
  },
  {
   "cell_type": "markdown",
   "id": "9fdc5b97",
   "metadata": {},
   "source": [
    "a)Le fichier est un tsv donc /t indique qu'il faut separer les donnees au tab \n",
    "\n",
    "b)On aurait pu utiliser C2:CP:Reactome ou C2:CP:WikiPathways parce que ils utilisent d'autres databases mais correspondent a des cellules normales.\n",
    "\n",
    "c)colnames(msigdb_DF)\n",
    "Il y en a 10 au total."
   ]
  },
  {
   "cell_type": "markdown",
   "id": "50bb0867",
   "metadata": {},
   "source": [
    "### Question 6"
   ]
  },
  {
   "cell_type": "markdown",
   "id": "dd4ce6c7",
   "metadata": {},
   "source": [
    "a) Il y a 25baits (donnees par SARS_protein_list). Il y a donc 304-25=379 preys.\n",
    "3baits: N, M, E\n",
    "\n",
    "b)Pour eviter la redondance, on prend chaque nom une seule fois.\n",
    "\n",
    "c)minGSSize and maxGSSize are the minimal and maximal size of genes annotated by Ontology term respectiveley. La fonction donne des p-values pour la significativite.\n",
    "\n",
    "d)On avait 7398 lignes, on en a maintenant 1361. 6037 lignes ont etees eliminees.\n",
    "\n",
    "e)Il y en avait 1361, il en reste 1032. 329lignes sont enlevees\n",
    "\n",
    "f)org.Hs.eg.db est la base de donnees avec les annotations du genome humain qui utilise les identiifiants Entrez\n",
    "\n",
    "g)« Glycoprotein metabolic processing » : BP  \n",
    "« Golgi apparatus subcompartment » : CC  \n",
    "« DNA replication initiation »: BP  \n",
    "« Endopeptidase activity »: MF  \n",
    "\n",
    "h)220 dont GOBP_POLYSACCHARIDE_BIOSYNTHETIC_PROCESS\n",
    "\n",
    "i)1 resultat:\n",
    "GOCC_NUCLEAR_PORE\n",
    "\n",
    "j)Go term : GOCC_ENDOPLASMIC_RETICULUM_LUMEN  \n",
    "Bait: ORF8  \n",
    "16 preys, example TOR1A  \n",
    "log_10padj: 13.899994  \n",
    "\n"
   ]
  },
  {
   "cell_type": "markdown",
   "id": "ee1925c1",
   "metadata": {},
   "source": [
    "### Question 7"
   ]
  },
  {
   "cell_type": "markdown",
   "id": "bf1b3b35",
   "metadata": {},
   "source": [
    "a) On veut maintenir la longueur de la matrice a 25lignes. On va prendre chaque donnee des resultats GO et si elle respecte les 3 ifs, on la rajoutte a la matrice jusqu'a ce qu'elle ait 25lignes.\n",
    "\n",
    "b)On a fait log10 de p value pour que ca soir plus facile a voir dans un graphique et a voir de petites differences \n",
    "\n",
    "c)rownames_matrix <- GO_enrich_matrix[,1] : on prend le nom des colonnes de GO_enrich_matrix (pour tous les x, premiere valeur en y dans l;a matrice) et on nomme les rows dans la nouvelle matrice rownames_matrix\n",
    "\n",
    "GO_enrich_matrix <- GO_enrich_matrix[,-c(1)] :maintenant qu'on a nomm/ nos rows comme nos colonnes avant, on peut enlever le nom des colonnes\n",
    "\n",
    "d)On a 256couleurs generees des 9couleurs de la palette blues\n",
    "\n",
    "e)treeheight_col donne la largeur. \n"
   ]
  },
  {
   "cell_type": "markdown",
   "id": "6dcaaf55",
   "metadata": {},
   "source": [
    "### Question 8"
   ]
  },
  {
   "cell_type": "markdown",
   "id": "9af7eb79",
   "metadata": {},
   "source": [
    "a)Oui, c'est le gene ORF8 qui a la fonction de endoplasmic reticulum lumen comme au 6j). C'est le bleu le plus fonce donc il a plus de prey qui se lient au bait.\n",
    "\n",
    "b)Le resultatest que NSP12 (polymerase) est impliquee dans RNA splicing, ce qui fait fu sens parce que la polymerase peut recruter des proteines pour induire le splicing.\n",
    "\n",
    "c)Meme si on ne voulait que le meilleur signal, on peut avoir plusieurs termes GO pour un Bait, si les moins bon signaux sont les meilleurs GO pour un autre Bait. Ils vont alors apparaitre pour tous les baits du graphique.\n",
    "\n",
    "d)NSP9 est responsable du transport dans le noyau. Lors d'une infection COVID, il laisse le virus rentrer et infecter la cellule.\n",
    "\n",
    "e)Les baits (COVID) se lient a plus ou moins de prey (humain). Donc, si tous les carres sont pales, le bait se lie a quelques prey (eg:2) pour le meilleur terme GO et donc pour les autres termes GO, il se liera a moins de termes (eg: moins que 2) donc ils seront tous pales."
   ]
  },
  {
   "cell_type": "markdown",
   "id": "7a3a3109",
   "metadata": {},
   "source": [
    "### Question 9"
   ]
  },
  {
   "cell_type": "markdown",
   "id": "5864c41e",
   "metadata": {},
   "source": [
    "a)La matrice contient l'abondance des genes pour 29tissus.\n",
    "\n",
    "b)On applique la fonction log10 a toutes les colonnes contenant l'abondance des genes dans les tissus et on enleve apres les valeurs negatives"
   ]
  },
  {
   "cell_type": "markdown",
   "id": "7dd45e52",
   "metadata": {},
   "source": [
    "### Question 10"
   ]
  },
  {
   "cell_type": "markdown",
   "id": "2b457191",
   "metadata": {},
   "source": [
    "a) Pour chaque tissu, on a le -log10(p-value). La p-value est obtenue a partir du z score (distribution comparativement a la moyenne). Le -log10 permet de mieux visualiser en n'ayant pas de donnees trop eloignees. Ceci permet de determiner l'interaction entre bait et prey est enrichie dans quel tissu et si les resultats sont statistiquement significatifs.\n",
    "\n",
    "b)Dans la litterature, aussi le poumon est le tissu dans lequel il y a le plus d'interactions avec SARS-COV-2 mais le reste des tissus ne sont pas dans le meme ordre. Le foie par example, qui est ici en deuxieme place est en 16e position dans la litterature. De plus, dans la litterature, les -log10(p) ont des valeurs beaucoup plus grandes ce qui veut dire les interactions entre prey et bait sont beaucoup plus significatives. \n",
    "\n",
    "source:Gordon, D.E., Jang, G.M., Bouhaddou, M. et al. A SARS-CoV-2 protein interaction map reveals targets for drug repurposing. Nature 583, 459–468 (2020). https://doi.org/10.1038/s41586-020-2286-9\n",
    "\n",
    "c) Pour qu'un resultat soit significatif, p<0.05 dont -log10(p)>1.30. Puisqu'ici la valeur la plus haut de -log10(p) est d'environ 0.6, les resultats ne sont pas significatifs."
   ]
  },
  {
   "cell_type": "code",
   "execution_count": null,
   "id": "a8ee691b",
   "metadata": {},
   "outputs": [],
   "source": []
  }
 ],
 "metadata": {
  "kernelspec": {
   "display_name": "Python 3 (ipykernel)",
   "language": "python",
   "name": "python3"
  },
  "language_info": {
   "codemirror_mode": {
    "name": "ipython",
    "version": 3
   },
   "file_extension": ".py",
   "mimetype": "text/x-python",
   "name": "python",
   "nbconvert_exporter": "python",
   "pygments_lexer": "ipython3",
   "version": "3.10.12"
  }
 },
 "nbformat": 4,
 "nbformat_minor": 5
}
