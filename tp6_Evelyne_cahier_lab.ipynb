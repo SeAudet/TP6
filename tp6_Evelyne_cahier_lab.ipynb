{
 "cells": [
  {
   "cell_type": "markdown",
   "id": "99ff899a",
   "metadata": {},
   "source": [
    "# TP6: Proteomique\n",
    "## Semaine 1\n",
    "### Cahier de lab\n",
    "\n",
    "Association de peptides predits par des algorithmes a des proteines annotes en interpretant les signaux obtenus par spectrometrie de masse.\n"
   ]
  },
  {
   "cell_type": "markdown",
   "id": "921d913f",
   "metadata": {},
   "source": [
    "### Question 1: – Utilisation de RforProteomics - Fichiers sommaire d’expérience MS\n",
    "\n",
    "a) \n",
    "```\n",
    "$ ln -s /cours/a23_bcm3553_bcm6010-a/cours/TP6/\n",
    "$ cp Documents/bcm3553/tp6/TP6/script/TP6_Processing.Rmd\n",
    "```\n",
    "\n",
    "b) '/usr/local/R-4.3.1/lib64/R/library/msdata/microtofq'\n",
    "\n",
    "c) Le fichier MM14 est celui sans peptide, car lorsqu'on regarde les runinfo, mz14 a un lowMz et un highMz de 0.\n",
    "\n",
    "d) La deuxieme ligne indique la valeur M/z la plus petite de mz8 et la troisieme ligne indique la valeur M/z la plus grande de mz8."
   ]
  },
  {
   "cell_type": "markdown",
   "id": "b20bcf21",
   "metadata": {},
   "source": [
    "### Question 2: Fichier d’identification des peptides\n",
    "\n",
    "a) Les 2 fichiers sont differents, puisqu'ils ont un nombre de psms (Nombre de sequences peptidiques uniques d'un groupe de proteines) differents, mzidTandem a 171 psms alors que mzidMascot a 136 psms.\n",
    "\n",
    "b) La masse experimentale du peptide KDLYGNVVLSGGTTMYEGIGER dans le fichier Tandem est de 792,3792. On retrouve cette information en faisant la commande `$ head(psms(mzidTandem))[, 1:13]` et en regardant la colonne \"experimentalMassToCharge\".\n",
    "\n",
    "c) Le peptide DAGTISGLNVLR est associe a une proteine Heat shock cognate 70 kDa protein (HSP70) de l'organisme Echinococcus granulosus.\n",
    "\n",
    "d) La trypsin a ete utilisee dans la preparation. Elle va couper le peptide en C-terminal entre une lysine (K) et une arginine (R)."
   ]
  },
  {
   "cell_type": "markdown",
   "id": "151c86af",
   "metadata": {},
   "source": [
    "### Question 3: Fichiers de signal MS « Raw » et leur « Peptide Spectral Match » à des protéines\n",
    "\n",
    "a) Le spectre #2 de raw a 1012 pics dans son spectre.\n",
    "\n",
    "b) Le spectre #1 a les pics avec la plus grande intensite puisqu'ils se rendent a max 1,5e+07. Le spectre #5 a les plus ratios M/z puisque ses pics se retrouvent en majorite en bas de 500 M/z.\n",
    "\n",
    "c) iTRAQ permet d'etiquetter les peptides de differents echantillons qui ont environ la meme masse pour mieux les distinguer. Cela va varier legerement leur masse afin de mieux les separer. Il sera donc possible de mesurer l'intensite de chaque peptide des differents echantillons."
   ]
  },
  {
   "cell_type": "markdown",
   "id": "40e983ca",
   "metadata": {},
   "source": [
    "### Question 4: Reconstruction des données peptidiques et visualisation graphique \n",
    "\n",
    "a) Il y a 6 echantillons qui ont ete analyses\n",
    "\n",
    "b) L'echantillon sp|P02769|ALBU_BOVIN est celui qui a cette dilution puisque sur le graphique on voit l'intensite des proteines montees et redescendre comme les dilutions.\n",
    "\n",
    "c) L'echantillon TRYP_PIG semblait n'avoir aucun changement d'intensite des proteines en regardant le premier graphique matplot et l'intensite semblait basse, donc il a ete surement ecarte pour cette raison. L'echantillon ECA a ete ajoute a titre de controle negatif pour le heatmap.\n",
    "\n",
    "d) Le rapporteur 129 a la plus grande concentration d'Albumine bovine puisque son bleu est plus fonce dans le heatmap.\n",
    "\n",
    "e) On peut rapporter la presence de CYT seulement dans le rapporteur 131 parce qu'en observant le dernier graphique de CYT, les donnees de tous les autres rapporteurs se retrouvent dans les memes intensites que ceux du background alors que celles du rapporteur 131 sont plus intenses que le background. Donc, les signaux des autres rapporteurs peuvent etre de faux-positifs puisqu'ils sont similaires a ceux du background."
   ]
  },
  {
   "cell_type": "markdown",
   "id": "306aa95e",
   "metadata": {},
   "source": [
    "### Question 5: Traitement des données pour enrichissement de GO\n",
    "\n",
    "a) Parce que le fichier est en format TSV (Tab-separated values), donc les donnees sont separees par des tabulations.\n",
    "\n",
    "b) On aurait pu aussi utiliser les termes MF qui regroupent des genes selon l'ontologie de leur fonction moleculaire.\n",
    "\n",
    "c) Il y a 10 types de donnees disponibles au total."
   ]
  },
  {
   "cell_type": "markdown",
   "id": "b708e305",
   "metadata": {},
   "source": [
    "### Question 6: Comprendre nos données (Prey vs Bait & termes GO associés)\n",
    "\n",
    "a) Il y a 304 proteines Prey et 25 proteines Bait (comme par exemple N, M et E) dans la liste de proteine de SARS-Cov2.\n",
    "\n",
    "b) Pour ne pas creer de doublon dans la liste de proteine Bait.\n",
    "\n",
    "c) Les seuils min et max GS determinent le nombre de genes minimum et maximum dans les genes set. On utilise la methode Benjamini, Hochberg qui donne la proportion attendue de fausses decouvertes dans les hypotheses rejetees (False Discovery rate). \n",
    "\n",
    "d) On enleve 6037 lignes dans enriched_GOs_master_table apres le filtre \"<1\".\n",
    "\n",
    "e) On enleve 329 lignes dans enriched_GOs_master_table apres le filtre de la valeur p.\n",
    "\n",
    "f) Le nom de la banque de donnees utilisee est Genome wide annotation for Human (org.Hs.eg.db).\n",
    "\n",
    "g) 1) Glycoprotein metabolic processing est BP\n",
    "   2) Golgi apparatus subcompartment est CC\n",
    "   3) DNA replication initiation est BP\n",
    "   4) Endopeptidase activity est MF\n",
    "   \n",
    "h) Il y a 220 termes GO associes a NSP7 dont l'enveloppe nuclaire (\"GOCC_NUCLEAR_ENVELOPE\").\n",
    "\n",
    "i) Apres la fonction de typage de GO, on peut voir 2 GO de ORF6 qui viennent de la collection CC dont encore une fois l'enveloppe nucleaire (\"GOCC_NUCLEAR_ENVELOPE\").\n",
    "\n",
    "j) Le terme GO GOCC_ENDOPLASMIC_RETICULUM_LUMEN est le plus significatif. Il fait parti du Bait ORF8. Il y a 16 proteines Prey qui participent au signal d'enrichissement dont TOR1A. Sa p-value ajuste est de 1,258944e-14. "
   ]
  },
  {
   "cell_type": "markdown",
   "id": "7c21c2f0",
   "metadata": {},
   "source": [
    "## Semaine 2\n",
    "\n",
    "### Cahier de lab\n",
    "\n",
    "Pas de laius"
   ]
  },
  {
   "cell_type": "markdown",
   "id": "d64983b5",
   "metadata": {},
   "source": [
    "### Question 7: Préparation des données pour le Heatmap\n",
    "\n",
    "a) Cela veut dire que tant que la variable SARS_genes_count contient un nombre de gene de moins ou egal a 25, la loop va continuer. Si le nombre de gene va devient plus grand que 25, la loop s'arrete.\n",
    "\n",
    "b) On fait cette comande afin de facilter la lecture des p-value dans la heatmap puisque cela va afficher les p-value sans les exposant (ex: E-07 va s'afficher en 7).\n",
    "\n",
    "c) La premiere ligne de commande sert a mettre dans la variable rownames_matrix les noms de la premiere colonne qui vont servir plus tard, donc les noms des Go terms, provenant de la variable Go_enriched_matrix. La deuxieme ligne de commande sert a retirer les Go terms du dataframe.\n",
    "\n",
    "d) Il y a 256 couleurs dans colors3.\n",
    "\n",
    "e) On peut utiliser le parametre cellwidth pour modifier la largeur des carrees. "
   ]
  },
  {
   "cell_type": "markdown",
   "id": "72c5a795",
   "metadata": {},
   "source": [
    "### Question 8: Enfin on regarde les résultats\n",
    "\n",
    "a) Oui cela donne la meme reponse que celle repondue a la question 6 j), donc le terme GO GOCC_ENDOPLASMIC_RETICULUM_LUMEN du bait ORF8 est le plus significatif.\n",
    "\n",
    "b) Dans l'article, on mentionne que NSP12 est une ARN polymerase primaire ARN dependante et dans notre heatmap, on voit que un des carre les plus significatif est celui du RNA splicing, donc ca fait du sens entre l'article et nos resultats.\n",
    "\n",
    "c) Les GO terms sont associes a une p-value pour chaque bait, donc les 3 GO terms qui sont plus bleus pour le bait NSP9 sont les plus significatifs et donc ceux qui ont une meilleure association avec NSP9.\n",
    "\n",
    "d) Puisque les 3 GO terms les plus significatifs sont le transport mitochondrial, le pore nucleaire et un constituant structural du pore nucleaire, donc la fonction de NSP9 est surement d'etre impliquee dans le transport entre le noyau et la mitochondrie. La proteine doit se retrouver dans le pore nucleaire pour faire sa fonction.\n",
    "\n",
    "e) Certains bait ne sont juste pas impliques dans aucune fonction nommee par les GO terms pour le SARS_coV2."
   ]
  },
  {
   "cell_type": "markdown",
   "id": "c11d9f6c",
   "metadata": {},
   "source": [
    "### Question 9: Données pour le diagramme à bande\n",
    "\n",
    "a) Cette matrice contient les identifiants de 15210 proteines et de leur gene associe ainsi que leur abondance dans different tissus comme le cerveau, le colon, le duodenum, etc.\n",
    "\n",
    "b) Cela met les donnees d'abondance en log10 et transforme les abondances de zero ou negatif en N/A."
   ]
  },
  {
   "cell_type": "markdown",
   "id": "225726bd",
   "metadata": {},
   "source": [
    "### Question 10: Visualisation des données tissus\n",
    "\n",
    "a) Le graphique represente la significativite de l'expression tissulaire des proteines interagissant avec SARS dans chaque tissu etudie. Donc ici, on peut dire que les proteines associees a SARS sont se retrouve surtout dans les poumons.\n",
    "\n",
    "b) Les resultats sont consistants pour le plus significatifs qui est le poumon, mais les autres tissus les plus significatifs de nos resultats ne sont pas les memes que ceux dans l'article de David E. Gordon. En effet, alors que dans nos resultats le foie, le coeur et le duodenum sont dans les plus significatifs, ils se retrouvent dans les moins significatifs. Les resultats restent quand meme similaires puisqu,on sait que le SARS-coV2 peut amener de graves problemes respiratoires ce qui concordent a la haute p-value dans les poumons. Il est mentionne dans l'article de David E. Gordon que les resultats \"[...], confortant l'hypothèse selon laquelle le SRAS-CoV-2 détourne préférentiellement les protéines qui sont exprimées. dans le tissu pulmonaire\"[1].\n",
    "\n",
    "[1] Gordon, D.E., Jang, G.M., Bouhaddou, M. et al. A SARS-CoV-2 protein interaction map reveals targets for drug repurposing. Nature 583, 459–468 (2020). https://doi.org/10.1038/s41586-020-2286-9\n",
    "\n",
    "c) Non, ils ne sont pas significatifs puisqu'ils ont tous une p-value superieure a 0,05 en se fiant au dataframe pvalue_df. "
   ]
  }
 ],
 "metadata": {
  "kernelspec": {
   "display_name": "Python 3 (ipykernel)",
   "language": "python",
   "name": "python3"
  },
  "language_info": {
   "codemirror_mode": {
    "name": "ipython",
    "version": 3
   },
   "file_extension": ".py",
   "mimetype": "text/x-python",
   "name": "python",
   "nbconvert_exporter": "python",
   "pygments_lexer": "ipython3",
   "version": "3.10.12"
  }
 },
 "nbformat": 4,
 "nbformat_minor": 5
}
