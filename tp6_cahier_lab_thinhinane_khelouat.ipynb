{
 "cells": [
  {
   "cell_type": "markdown",
   "id": "a5b50855",
   "metadata": {},
   "source": [
    "# Question 1:"
   ]
  },
  {
   "cell_type": "raw",
   "id": "ac1d2a57",
   "metadata": {},
   "source": [
    "a) Écrivez les commandes qui vous ont permis d’accéder aux données du TP (lien symbolique, copie) et le répertoire de travail subséquemment indiqué dans le script R :\n",
    "\n",
    "[pl24091@eatontown-sens ~]$ cd Documents/BCM6010/\n",
    "[pl24091@eatontown-sens BCM6010]$ mkdir TP6\n",
    "[pl24091@eatontown-sens BCM6010]$ cd TP6\n",
    "[pl24091@eatontown-sens TP_6]$ ln -s /cours/a23_bcm3553_bcm6010-a/cours/TP6/\n",
    "[pl24091@eatontown-sens BCM6010]$ cp TP_6/TP6/script/TP6_Processing.Rmd TP_6/\n",
    "\n",
    "Le repertoire subséquent indiqué dans le script est : \n",
    "setwd(\"~/Documents/a23/TP6\")"
   ]
  },
  {
   "cell_type": "raw",
   "id": "3099f950",
   "metadata": {},
   "source": [
    "b) Dans la première section de travail (peptides), quel est le chemin complet du répertoire dans lequel\n",
    "vous prenez les fichiers de métadonnées MS pour MM8 & MM14? \n",
    "\n",
    "Path vers MM14 : \"/usr/local/R-4.3.1/lib64/R/library/msdata/microtofq/MM14.mzML\"\n",
    "Path vers MM8 : \"/usr/local/R-4.3.1/lib64/R/library/msdata/microtofq/MM8.mzML\""
   ]
  },
  {
   "cell_type": "raw",
   "id": "28dc1d16",
   "metadata": {},
   "source": [
    "c) En regardant information disponible pour MM8 & MM14, vous pouvez constater que l’un des deux n’est qu’un fichier d’exemple sans peptides. Lequel, et comment le voyez-vous\n",
    "\n",
    "Avec la commande run info on peut voir les informations necessaires : on remarque que les valeurs de lowMz et highMz pour MM14 sont nulles alors qu'on a des valeurs pour MM8 sonc le fichier sans peptide est le MM14\"\n",
    "\n",
    "> runInfo(mz8)\n",
    "$scanCount\n",
    "[1] 198\n",
    "$lowMz\n",
    "[1] 95.51765\n",
    "$highMz\n",
    "[1] 1005.043\n",
    "$dStartTime\n",
    "[1] 0.486\n",
    "$dEndTime\n",
    "[1] 66.7818\n",
    "$msLevels\n",
    "[1] 1\n",
    "$startTimeStamp\n",
    "[1] \"2008-09-01T09:48:37.296+01:00\"\n",
    "\n",
    "> runInfo(mz14)\n",
    "$scanCount\n",
    "[1] 112\n",
    "$lowMz\n",
    "[1] 0\n",
    "$highMz\n",
    "[1] 0\n",
    "$dStartTime\n",
    "[1] 270.334\n",
    "$dEndTime\n",
    "[1] 307.678\n",
    "$msLevels\n",
    "[1] 1\n",
    "$startTimeStamp\n",
    "[1] NA\n",
    "\n"
   ]
  },
  {
   "cell_type": "raw",
   "id": "7dcab06b",
   "metadata": {},
   "source": [
    "d) Via la commande « runInfo » sur le fichier n’étant pas vide, indiquez ce que signifie la deuxième et la troisième valeur vous étant retourné: \n",
    "\n",
    "sachant que MM8 est le fichier contenat des peptides donc on va observer des spectres au spectrophotometre les valeurs loMz et highMz corresponde respectivement aux valeurs minimum et maximum de ces spectres qu'on observe."
   ]
  },
  {
   "cell_type": "markdown",
   "id": "58a2de24",
   "metadata": {},
   "source": [
    "# Question 2 :"
   ]
  },
  {
   "cell_type": "raw",
   "id": "48d1ef87",
   "metadata": {},
   "source": [
    "a) On vous fournit les fichiers identifiant pour deux expérience MS différentes. Contiennent-ils\n",
    "exactement les mêmes types d’information? Expliquez votre réponse en quelques mots.\n",
    "\n",
    "on a deux fichiers le premier est un fichier tandem et l'autre est un fichier mascot. les deux contiennent des métadata différentes car les deux fichiers sont générés par des programmes différents (X! Tandem et Mascot)"
   ]
  },
  {
   "cell_type": "raw",
   "id": "6bcc3fab",
   "metadata": {},
   "source": [
    "b) Dans le fichier Tandem, vous pouvez trouver le peptide « KDLYGNVVLSGGTTMYEGIGER ». Quelle est sa masse expérimentale ici? Dites comment vous avez trouvé l’information. \n",
    "\n",
    "on a la masse to chage m/e donc on va multiplier la valeur experimentalMassToCharge fois le nombre de charge (chargeState) qui est 3 pour trouver la masse experimental :\n",
    "masse experimentale = 792.3792 x 3 = 2377.1379"
   ]
  },
  {
   "cell_type": "raw",
   "id": "cab7769e",
   "metadata": {},
   "source": [
    "c) Dans le fichier Mascot, le premier peptide qui apparait est « DAGTISGLNVLR », et le premier résultat (couvrant les position 161-172 de la protéine associée) semble offrir la meilleure association. Quelle est la protéine & l’organisme d’où provient ce peptide ionisé? \n",
    "\n",
    "NB: j'ai d'abord augmenté le nomre de colonne affichées dans la commande head(psms(mzidMascot))[, 1:20] pour avoir plus d'informations\n",
    "La proteine est Heat shock cognate (HSP70) qui provient de la bacterie Echinococcus granulosus  "
   ]
  },
  {
   "cell_type": "raw",
   "id": "e0203d71",
   "metadata": {},
   "source": [
    "d) Quelle peptidase a servie à la préparation des échantillons de ces deux expériences? Comment fonctionne-t-elle (en quelques mots seulement)? \n",
    "\n",
    "La peptidase utilisé est la trypsin elle sert a couper les lien peptidique et a detacher les cellules."
   ]
  },
  {
   "cell_type": "markdown",
   "id": "1d0159a8",
   "metadata": {},
   "source": [
    "# Question 3:"
   ]
  },
  {
   "cell_type": "raw",
   "id": "cefe95e6",
   "metadata": {},
   "source": [
    "a) En regardant le sommaire de notre fichier « raw », combien de « peaks » ionique sont associés au spectre #2 du fichier?\n",
    "\n",
    "le nombre de peaks ionique associés au spectre 2 est : 1012 pics"
   ]
  },
  {
   "cell_type": "raw",
   "id": "cd5f95fd",
   "metadata": {},
   "source": [
    "b) Via la représentation graphique des spectres de peptides, quel spectre possède les signaux ayant la plus grande intensité, et lequel possède les plus petit ratio masse/charge? \n",
    "\n",
    "En observant la representation graphoque des spectres de peptides\n",
    "le spectre ayant la plus grande intensité est le spectre 1\n",
    "le spectre ayant le plus petit ratio masse/charge est le spectre 5"
   ]
  },
  {
   "cell_type": "raw",
   "id": "bc2f447e",
   "metadata": {},
   "source": [
    "c) À quoi servent les rapporteurs iTRAQ ici?\n",
    "iTRAQ est une methode de tag ou d'etiquetage uitilisé par la spectrometrie de masse pour identifier et quantifier des proteines."
   ]
  },
  {
   "cell_type": "markdown",
   "id": "76800253",
   "metadata": {},
   "source": [
    "# Question 4:"
   ]
  },
  {
   "cell_type": "raw",
   "id": "d573f0d7",
   "metadata": {},
   "source": [
    "a) Combien d’échantillons (et non protéines) ont été analysés \n",
    "\n",
    "on a 6 echantillons (nos samples c'est pas des proteines c'est nos rapporteurs)"
   ]
  },
  {
   "cell_type": "raw",
   "id": "c5ab2be1",
   "metadata": {},
   "source": [
    "b) Les signaux proviennent de peptides de protéines connu (ex : PYGM_Rabit), à des concentrations connues. En regardant le premier graphique matplot, quelle protéine avait été dilué comme-ci à travers les données ; 1/10 – 1/4 – 1/2 – 1/1 – 1/2 – 1/10\n",
    "\n",
    "En regardant le premier graphique matplot la proteine qui a été dilué comme-ci 1/10 – 1/4 – 1/2 – 1/1 – 1/2 – 1/10 est la ALBU_BOVIN (l'albumine du bovin)"
   ]
  },
  {
   "cell_type": "raw",
   "id": "2b264608",
   "metadata": {},
   "source": [
    "c) En regardant maintenant le heatmap, pourquoi on ne semble plus s’intéresser à « TRYP_PIG » et\n",
    "pourquoi on ajouter « ECA » (Enterobacterial Common Antigen) \n",
    "\n",
    "On ne s'interesse plus a TRYP_PIG (la trypsine) car on l'avait utilisé au début pour la la lyse cellulaire mais mantenant on en a plus besoin (on rince la trypsine car si non elle va detruire nos peptides)\n",
    "On ajoute ECA, afin d'ajouter un background a notre natrice (il sert de bruit de fond)"
   ]
  },
  {
   "cell_type": "raw",
   "id": "a9463bf6",
   "metadata": {},
   "source": [
    "d) Quel rapporteur a la plus grande concentration d’albumine bovine? \n",
    "\n",
    "le rapporteur 129 est celui qui a la plus grande concentration de l'albumine bovine BSA"
   ]
  },
  {
   "cell_type": "raw",
   "id": "c72837dc",
   "metadata": {},
   "source": [
    "e) Pourquoi, malgré le fait qu’on retrouve un signal CYT dans 4 rapporteurs selon le heatmap, ne peut-on confirmer la présence que dans Rapporteur 131? Dernier graphique est utile ici \n",
    "\n",
    "comme on peut clairement le voir dans le dernier graphique la concentration de CYT dans les autres rapporteurs est trés minime comparé a la concentration dans le rapporteur 131. ce qui se voit dans le heatmap vu que la couleur est beaucoup plus foncé"
   ]
  },
  {
   "cell_type": "markdown",
   "id": "1bbfe20e",
   "metadata": {},
   "source": [
    "# Question 5 : "
   ]
  },
  {
   "cell_type": "raw",
   "id": "eecd7c04",
   "metadata": {},
   "source": [
    "a) Question basique sur les formats de fichiers : Sans regarder le contenu de « Gordon_PPI.tsv », comment est-ce qu’on sait que « sep = \"\\t\" » est nécessaire pour la lecture\n",
    "\n",
    "On sait que « sep = \"\\t\" » \n",
    "est necessaire pour la lecture car le fichier est au format TSV donc on doit indiquer a l'aide de cette fonction que les colonnes sont séparées  par des tabulations. donc la fonction est necessaire pour interpreter correctement et conformement au format TSV lors de la lecture."
   ]
  },
  {
   "cell_type": "raw",
   "id": "ea23f24b",
   "metadata": {},
   "source": [
    "b) On extrait les termes GO que nous allons utiliser dans « go_symbols ». Nous utilisons « C5.GO », mais quel autre types de termes aurait-on pu utiliser sachant que l’on s’intéresse à des voies moléculaires associées à des fonctions de cellules normales (googlé le nom du fichiers).\n",
    "\n",
    "Si on s'interesse a des voies moleculaires associées a des fonctions de cellules normales, on peut envisager d'utiliser en plus de la collection C5 la collection C2 plus precisement les termes C2:CP (wikipathways et reactomes) "
   ]
  },
  {
   "cell_type": "raw",
   "id": "7474b78b",
   "metadata": {},
   "source": [
    "c) Nous faisons l’extraction de trois types de données pour nos termes GO (exactSource, term, collection), mais combien était disponible au total dans le fichier d’annotation.\n",
    "\n",
    "En observant le fichier msigdb_DF (avant extraction de 3 termes seulement)on avait 10 types de données pour nos termes GO"
   ]
  },
  {
   "cell_type": "markdown",
   "id": "0d85fbef",
   "metadata": {},
   "source": [
    "# Question 6 :"
   ]
  },
  {
   "cell_type": "raw",
   "id": "f4e7ef58",
   "metadata": {},
   "source": [
    "a) Au total, l’expérience protéomique a permis de récolter les signaux de milliers de peptides, qui ont pu être reconstruit en 304 protéines (2-40 par protéines SARS-CoV2). Juste pour s’assurer que vous\n",
    "comprenez l’expérience. Combien y a-t-il protéines « Prey »? Combien de protéines « Bait »?\n",
    "Nommé trois de ces « Baits ». Nous sommes à la 1ère ligne de code de processing_GO.\n",
    "\n",
    "En affichant les listes des proteines on a 25 proteines Baits et 304 proteines Prey.\n",
    "on peut citer parmis les Baits : ORF3B, NSP9, ORF10"
   ]
  },
  {
   "cell_type": "raw",
   "id": "5d210583",
   "metadata": {},
   "source": [
    "b) Expliquer à quoi sert la fonction « unique » / pourquoi on l’utilise ici? \n",
    "\n",
    "la fonction unique sert a extraire les valeurs uniques d'une colonne d'un tableau (le fichier SARS_massSpec obtenu precedemment contient plusieurs informations ) la fonction nous a permit d'extraire seulement les noms des oteines Baits (proteines virales) et les noms des proteines Prey (proteines humaines)"
   ]
  },
  {
   "cell_type": "raw",
   "id": "d4f3cb18",
   "metadata": {},
   "source": [
    "c) Dans notre fonction « GO_OverRep_Analysis », nous traitons d’un coup les résultats de l’outil\n",
    "clusterProfiler. Expliquez rapidement à quoi servent les seuils min/maxGSsize, puis dites dans quel\n",
    "format les valeurs de significativité sont données par la fonction\n",
    "\n",
    "Les seuils min/maxGSsize servent a delimiter les tailles minimum et maximum des set de genes associés aux termes GO.\n",
    "\n",
    "le format de p et q values est un format logarithmique"
   ]
  },
  {
   "cell_type": "raw",
   "id": "26f408a3",
   "metadata": {},
   "source": [
    "d) À l’aide d’une ligne de code, on retire tous les termes GO où le score pour nos données est égal ou inférieur à 1 de « enriched_GOs_master_table ». Combien de lignes (GO) sont éliminées\n",
    "\n",
    "Apres avoir filtré les termes GO et on a gardé que ceux dont le score est superieur a 1 on a eliminé 6037 lignes et on a gardé 1361 lignes.\n",
    "car a la base on avait 7398 lignes (7398-1361= 6037)"
   ]
  },
  {
   "cell_type": "raw",
   "id": "0a75caa0",
   "metadata": {},
   "source": [
    "e) Même question, mais pour le nombre de termes GO qui ne passes pas le filtre de valeur P\n",
    "\n",
    "Pres avoir filtré a l'aide du filtre p value on obtient 1032 lignes donc on a encore éliminé 329 lignes avec ce deuxieme filtre "
   ]
  },
  {
   "cell_type": "raw",
   "id": "94b2e576",
   "metadata": {},
   "source": [
    "f) Dans la fonction « reduce_GOredundancy », on fait appel à une banque de données contenant les gènes / GO humain, que l’on a déjà utilisé auparavant. Quel est le nom de celle-ci? \n",
    "\n",
    "Le nom de la banque de donnée est org.Hs.eg.db"
   ]
  },
  {
   "cell_type": "raw",
   "id": "99c0ec4e",
   "metadata": {},
   "source": [
    "g) Voici quelques termes GO. Dite-s’il s’agit de GO de type BP, MF, ou bien CC. \n",
    "\n",
    "\n",
    "« Glycoprotein metabolic processing » = BP\n",
    "« Golgi apparatus subcompartment » = CC\n",
    "« DNA replication initiation » = BP\n",
    "« Endopeptidase activity » = MF\n",
    "\n",
    "on peut voir ceci dans le fichier clustered_GOterms_DF "
   ]
  },
  {
   "cell_type": "raw",
   "id": "f3d0687a",
   "metadata": {},
   "source": [
    "h) Une fois la redondance filtrée via « apply_GO_nonRedundancy », à l’aide de la fonction View, dites combien de termes GO s’associe à NSP7, et nommez-en 1. \n",
    "\n",
    "le nombre de termes GO qui s'associent a NSP7 est 220 termes\n",
    "parmis eux on a: GOBP_POLYSACCHARIDE_BIOSYNTHETIC_PROCESS\n"
   ]
  },
  {
   "cell_type": "raw",
   "id": "abb13d08",
   "metadata": {},
   "source": [
    "i) Notre fonction de typage des termes GO (sep_GOtype) nous permet d’analyser plus simplement nos données selon ce que l’on cherche (ex : processus biologiques apparaissent plus révélateurs). Suite à son application, combien de GO de type CC a-t-on pour ORF6? Nommez-en un.\n",
    "\n",
    "le nombre de GO de type CC pour l'ORF6 est : 1\n",
    "qui est : GOCC_NUCLEAR_PORE"
   ]
  },
  {
   "cell_type": "raw",
   "id": "13946c8c",
   "metadata": {},
   "source": [
    "j) Un peu plus tard, on applique la fonction « base::order » afin de trier nos données dans la matrice en fonction de leur significativité. Si l’on observe le résultat de cette transformation (vous pouvez utiliser View()), quel est le terme GO le plus significatif, à quel « Bait » appartient-il, combien de protéines « Prey » participent au signal d’enrichissement, nommez l’un de ces « Prey », puis donnez la valeur de significativité en log10 de la valeur p ajustée. \n",
    "\n",
    "le terme GO le plus significatif est GOBP_POSITIVE_REGULATION_OF_MAPK_CASCADE \n",
    "Il appartient au Bait ORF8\n",
    "le nombre de proteines Prey qui participent au signal d'enrichissement est 2 (on voit ceci dans le ratio 2/47)\n",
    "parmi ces Prey on a : GDF15\n",
    "la valeur en log10 de la valeur p ajustée est : 0.3641145"
   ]
  },
  {
   "cell_type": "markdown",
   "id": "3ad80fbd",
   "metadata": {},
   "source": [
    "# Partie 2 "
   ]
  },
  {
   "cell_type": "markdown",
   "id": "89b2facf",
   "metadata": {},
   "source": [
    "# question 7"
   ]
  },
  {
   "cell_type": "raw",
   "id": "f9a2768d",
   "metadata": {},
   "source": [
    "a) Si l’on initialise la variable SARS_genes_count au début de la section (vide), et qu’on y ajoute SARS_gene suite au trois condition de notre « loop », à quoi sert cette condition au début du loop :\n",
    "while (length(SARS_genes_count) <= 25)?\n",
    "\n",
    "\n",
    "- la condition au debut du loop sert a préciser a la boucle qu'elle doit continuer a ajouter des genes a la variable SARS_genes_count jusqu'a ce que le nombre de genes liés a SARS atteigne 25 geneS."
   ]
  },
  {
   "cell_type": "raw",
   "id": "1dff4453",
   "metadata": {},
   "source": [
    "b) La matrice GO_enrich_DF est celle qui sert ultimement à la création du Heatmap. Pourquoi transforme-t-on la valeur de significativité?\n",
    "\n",
    "- La modification de la significativité avec log10_p.adj vise à rendre les valeurs plus facilement interprétables donc qu'on peut comparer plus facilement.\n",
    "en gros ça sert à démontrer davantage les différences entre les valeurs, facilitant ainsi l'interprétation et la visualisation des résultats sur le heatmap. (c'est une transformation logarithmique des valeurs p ajustées qu'on a fait)"
   ]
  },
  {
   "cell_type": "raw",
   "id": "6cbf976d",
   "metadata": {},
   "source": [
    "c) Expliquez simplement ce que font ces deux lignes dans le code :\n",
    "rownames_matrix <- GO_enrich_matrix[,1]\n",
    "GO_enrich_matrix <- GO_enrich_matrix[,-c(1)]\n",
    "\n",
    "- rownames_matrix <- GO_enrich_matrix[,1]: elle sert a extraire la premiere colonne dans GO-enrich_matrix et l'assigner a la variable rownames_matrix        \n",
    "- GO_enrich_matrix <- GO_enrich_matrix[,-c(1)]: elle sert a supprimer la première colonne de la matrice GO_enrich_matrix. "
   ]
  },
  {
   "cell_type": "raw",
   "id": "5ea742f2",
   "metadata": {},
   "source": [
    "d) Combien de couleurs sont contenues dans « colors3 »\n",
    "\n",
    "dans la ligne de code suivante colors3 <- colorRampPalette(brewer.pal(9, \"Blues\"))(256) on voit qu'on a 9 couleurs dans la palette blues\n"
   ]
  },
  {
   "cell_type": "raw",
   "id": "d0e26723",
   "metadata": {},
   "source": [
    "e) Quel paramètre de pheatmap me permet de modifier la largeur de mes carrés heatmap?\n",
    "\n",
    "- selon la documentation de Pheatmap le parametre permettant de modifier la largeur de mes carrés dans heatmap est le parametre 'cellwidth'\n",
    "\n",
    "réponse obtenue a partir de ce lien : https://www.rdocumentation.org/packages/pheatmap/versions/1.0.12/topics/pheatmap"
   ]
  },
  {
   "cell_type": "markdown",
   "id": "3d4e8dab",
   "metadata": {},
   "source": [
    "# Question 8 "
   ]
  },
  {
   "cell_type": "raw",
   "id": "5174983d",
   "metadata": {},
   "source": [
    "a) En regardant notre HeatMap, est-ce que le sautant le plus aux yeux est bien consistent avec ce qu’on avait identifié en Q6 j)? Expliquez en quelques mots.\n",
    "\n",
    "en regardant le Heatmap la protéine qui saute le plus aux yeux, c'est-à-dire la plus foncée, appartient à l'ORF8 et est associée à la localisation \"Endoplasmic Reticulum Lumen\". Ce qui est cohérent avec ce qui a été identifié précédemment dans la question 6, où le terme GO le plus significatif était \"GOBP_POSITIVE_REGULATION_OF_MAPK_CASCADE\" appartenant au Bait ORF8."
   ]
  },
  {
   "cell_type": "raw",
   "id": "1c342201",
   "metadata": {},
   "source": [
    "b) En revenant sur la présentation de l’article en début de TP, si l’on regarde le GO le plus enrichie pour le « Bait » \"NSP12\" (quoique très pâle comparativement à d’autresliens GO-SARS), est-ce que le résultat fait du sens/est intéressant? Hypothétisez courtement sur le pourquoi\n",
    "\n",
    "-Selon l'article on a le \"Bait\" NSP12 qui encode la protéine principale de l'ARN polymérase ARN-dépendante, donc elle joue un role important dans le processus de replication virale. le fait qu'elle apparait trés pale dans le heatmap signifie qu'elle n'est pas trés enrichit ce qui pourrait etre due au fait que les proteines des voies moléculaire qu'on a selectionné interagissent pas ou peu avec NSP12, (mais cela ne signifie pas qu'elle n'est pas importante, car comme cité précédemment elle joue un role primordial dans la replication du virus SARS)"
   ]
  },
  {
   "cell_type": "raw",
   "id": "2ea5321d",
   "metadata": {},
   "source": [
    "c) Pourquoi a-t-on un signal bleu relativement important pour 3 termes GO vis-à-vis le « Bait » \"NSP9\"? Ce n’est pas une erreur, pensez à comment les GO sont choisis\n",
    "\n",
    "- on a un signal bleu relativement important pour les 3 termes GO vis-a-vis du Bait NSP9,qui correspondent au termes mitochondrial transport qui est un terme BP, nuclear pore qui est un terme CC, et structural constituent of nuclear pore qui est un terme MF. en gros on a selectionné 3 termes auparavant qui sont CC, MF, BP et les termes qu'on a retrouvé pour NSP9 correspondent a ce qu'on a selectionné au vus du signal d'enrichissement observé dans le Heatmap.\n"
   ]
  },
  {
   "cell_type": "raw",
   "id": "8bd11cb5",
   "metadata": {},
   "source": [
    "d) En regardant à nouveau \"NSP9\", quelle conclusion peut-on clairement faire vis-à-vis les potentielles fonction de cette protéines SARS-CoV2?\n",
    "\n",
    "- Comme conclusion la protéine NSP9 du SARS-CoV-2 semble jouer un rôle dans le transport mitochondrial, ainsi que dans la structure et le fonctionnement des pores nucléaires. Donc ces résultats laisse sous entendre que la protéine NSP9 est probablement impliquée dans des processus cellulaires liés à la régulation génétique, à la communication entre le noyau et le cytoplasme, ainsi qu'aux processus liés aux mitochondries.Globalement, en vus de cette enrichissement NSP9 a un impact sur la reponse de la cellule a l'infection."
   ]
  },
  {
   "cell_type": "raw",
   "id": "32d8b714",
   "metadata": {},
   "source": [
    "e) Pourquoi certains « Baits » ont-ils des signaux si pâles pour presque tous les GO?\n",
    "\n",
    "- En considérant qu'on a selectionné 3 termes GO, à savoir Cellular Component (CC), Molecular Function (MF), et Biological Process (BP.  Certains \"Baits\" peuvent être impliqués dans d'autres fonctions cellulaires, moléculaires ou des processus biologiques qui ne sont pas représentés par les termes GO que nous avons séléctionné. Et donc ça serait logique que ces Baits représentent des signaux pâles pour CC, MF, et BP."
   ]
  },
  {
   "cell_type": "markdown",
   "id": "f755b3c6",
   "metadata": {},
   "source": [
    "# Question 9"
   ]
  },
  {
   "cell_type": "raw",
   "id": "dd1b3f2f",
   "metadata": {},
   "source": [
    "a) Nous entreposant dans la matrice « proteome_tissue » l’information provenant du fichier. « GTEx_Tissu_Abundance.xlsx ». Décrivez l’information contenu dans votre matrice. \n",
    "\n",
    "- dans le dataframe proteome_tissue qu'on a généré on trouve les informations suivantes : l'identifiant de genes, l'identifiant de la proteine, le nom du gene ainsi que type de tissu (cerveau, duodenum, colon ...etc ) et les valeurs d'abondance des gènes dans ces tissus, on peut observer des valeurs positives pour toutes et d'autres NA (non attribués)"
   ]
  },
  {
   "cell_type": "raw",
   "id": "c75af1e6",
   "metadata": {},
   "source": [
    "b) Expliquez ce que la transformation qu’on fait à nos données semble modifier.\n",
    "\n",
    "on a effectué des transformation sur les données d'abondance des gènes extraites des bases de données GTEx. commençant par une transformation logarithmique (log10) appliquée à toutes les colonnes à partir de la colonne 4.ceci pour faciliter l'interprétation des écarts.\n",
    "on a également procédé a la suppression des valeurs négatives et infinies qu'il en résulte raison pour laquelle on a des cases ou c'est ecrit NA dans le dataframe.\n"
   ]
  },
  {
   "cell_type": "markdown",
   "id": "f652cded",
   "metadata": {},
   "source": [
    "# Question 10 "
   ]
  },
  {
   "cell_type": "raw",
   "id": "4e5dec25",
   "metadata": {},
   "source": [
    "a) Interprétez en quelques mots ce que le graphique nous permet de voir. \n",
    "\n",
    "on a obrenu un diagramme à bande qui montre l'enrichissement tissulaire des données. Les barres représentent les tissus, réordonnés en fonction des p-valeurs transformées en -log10. (plus la barre est haute plus l'enrichissement est significatif). \n",
    "Les valeurs de p-valeur sont représentées sur l'axe des ordonnées en échelle négative logarithmique (c'est pour faciliter l'identification des enrichissement les plus significatifs)"
   ]
  },
  {
   "cell_type": "raw",
   "id": "db5339cf",
   "metadata": {},
   "source": [
    "Les résultats de mon diagramme à barres, qui montre la grande significativité des tissus pulmonaires, hépatiques et intestinaux et cardiaques dans le contexte de la COVID-19, semblent être cohérents avec ce que j'ai trouvé dans la littérature (article 1 et 2)\n",
    "\n",
    "ARTICLE 1 : https://www.ncbi.nlm.nih.gov/pmc/articles/PMC8192279/\n",
    "reference : \n",
    "Cai Y, Ye LP, Song YQ, Mao XL, Wang L, Jiang YZ, Que WT, Li SW. Liver injury in COVID-19: Detection, pathogenesis, and treatment. World J Gastroenterol. 2021 Jun 14;27(22):3022-3036. doi: 10.3748/wjg.v27.i22.3022. PMID: 34168405; PMCID: PMC8192279.\n",
    "\n",
    "ARTICLE 2 : https://www.ncbi.nlm.nih.gov/pmc/articles/PMC8221690/\n",
    "reference :\n",
    "Gorkhali R, Koirala P, Rijal S, Mainali A, Baral A, Bhattarai HK. Structure and Function of Major SARS-CoV-2 and SARS-CoV Proteins. Bioinform Biol Insights. 2021 Jun 22;15:11779322211025876. doi: 10.1177/11779322211025876. PMID: 34220199; PMCID: PMC8221690."
   ]
  },
  {
   "cell_type": "raw",
   "id": "fcfeb441",
   "metadata": {},
   "source": [
    "c) Sachant qu’un résultat est normalement reconnu comme « significatif » si p < 0.05, est-ce que vos résultats ici sont significatif? Expliquez en quelques mots.\n",
    "\n",
    "En suivant l'echelle de notre graphique (-log10 p-value) on peut voir que la plus grande valeur qu'on a est legerement superieur a 0.6 qui correspond a une valeur d'environ 0.25 avant transformation de l'echelle et sachant qu'une p value de 0.05 donne aprés transformation de l'echelle 1.3, donc on peut conclure que nos résultats ne sont pas significatifs car plus la p-value est minime plus la significativité augmente."
   ]
  },
  {
   "cell_type": "code",
   "execution_count": null,
   "id": "0a0fde33",
   "metadata": {},
   "outputs": [],
   "source": []
  }
 ],
 "metadata": {
  "kernelspec": {
   "display_name": "R",
   "language": "R",
   "name": "ir"
  },
  "language_info": {
   "codemirror_mode": "r",
   "file_extension": ".r",
   "mimetype": "text/x-r-source",
   "name": "R",
   "pygments_lexer": "r",
   "version": "4.3.1"
  }
 },
 "nbformat": 4,
 "nbformat_minor": 5
}
