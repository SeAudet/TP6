{
 "cells": [
  {
   "cell_type": "markdown",
   "id": "b5bccee8",
   "metadata": {},
   "source": [
    "# Proteomique"
   ]
  },
  {
   "cell_type": "raw",
   "id": "cd7d3493",
   "metadata": {},
   "source": [
    "Manipulation de données de peptides"
   ]
  },
  {
   "cell_type": "raw",
   "id": "7d6cf5d4",
   "metadata": {},
   "source": [
    "QUESTION 1 – Utilisation de RforProteomics - Fichiers sommaire d’expérience MS\n",
    "\n",
    "a) Écrivez les commandes qui vous ont permis d’accéder aux données du TP (lien symbolique, copie)\n",
    "et le répertoire de travail subséquemment indiqué dans le script R (2 points).\n",
    "\n",
    "b) Dans la première section de travail (peptides), quel est le chemin complet du répertoire dans lequel\n",
    "vous prenez les fichiers de métadonnées MS pour MM8 & MM14? (1 point)\n",
    "\n",
    "c) En regardant information disponible pour MM8 & MM14, vous pouvez constater que l’un des deux\n",
    "n’est qu’un fichier d’exemple sans peptides. Lequel, et comment le voyez-vous (2 points)\n",
    "\n",
    "d) Via la commande « runInfo » sur le fichier n’étant pas vide, indiquez ce que signifie la deuxième et\n",
    "la troisième valeur vous étant retourné (1 point)."
   ]
  },
  {
   "cell_type": "raw",
   "id": "de1ca82a",
   "metadata": {},
   "source": [
    "1a) Lien symbolique (depuis mon repertoire TP_6) : ln -s /cours/a23_bcm3553_bcm6010-a/cours/TP6/\n",
    "Copie (depuis le repertoire BMC6010) : cp TP_6/TP6/script/TP6_Processing.Rmd TP_6"
   ]
  },
  {
   "cell_type": "raw",
   "id": "0e607aee",
   "metadata": {},
   "source": [
    "1b) MM8 : /apps_rh8/Local_rh8/R/R-4.3.1/lib64/R/library/msdata/microtofq/MM8.mzML\n",
    "MM14 :/apps_rh8/Local_rh8/R/R-4.3.1/lib64/R/library/msdata/microtofq/MM14.mzML"
   ]
  },
  {
   "cell_type": "raw",
   "id": "d366fe21",
   "metadata": {},
   "source": [
    "1c) En roulant la commande runInfo, on peut determiner quel MM ne possede aucun peptide. Dans ce cas-ci, il s'agit du MM14 et on peut le voir avec les valeurs de highMz et lowMz qui sont de 0 tandis que le MM8 a des valeurs superieur a 0."
   ]
  },
  {
   "cell_type": "raw",
   "id": "6419eeb9",
   "metadata": {},
   "source": [
    "1d) Il s'agit de highMz et lowMz qui correspondent aux valeurs masse sur charge (m/z) avec highMz qui correspond a la valeur m/z maximale et lowMz a la valeur m/z minimale."
   ]
  },
  {
   "cell_type": "raw",
   "id": "0fdf018f",
   "metadata": {},
   "source": [
    "QUESTION 2 – Fichier d’identification des peptides\n",
    "\n",
    "a) On vous fournit les fichiers identifiant pour deux expérience MS différentes. Contiennent-ils\n",
    "exactement les mêmes types d’information? Expliquez votre réponse en quelques mots. (1 point)\n",
    "\n",
    "b) Dans le fichier Tandem, vous pouvez trouver le peptide « KDLYGNVVLSGGTTMYEGIGER ». Quelle\n",
    "est sa masse expérimentale ici? Dites comment vous avez trouvé l’information. (2 points)\n",
    "\n",
    "c) Dans le fichier Mascot, le premier peptide qui apparait est « DAGTISGLNVLR », et le premier\n",
    "résultat (couvrant les position 161-172 de la protéine associée) semble offrir la meilleure\n",
    "association. Quelle est la protéine & l’organisme d’où provient ce peptide ionisé? (2 points)\n",
    "\n",
    "d) Quelle peptidase a servie à la préparation des échantillons de ces deux expériences? Comment\n",
    "fonctionne-t-elle (en quelques mots seulement)? (2 points)"
   ]
  },
  {
   "cell_type": "raw",
   "id": "f80a01d8",
   "metadata": {},
   "source": [
    "2a)Non, les fichiers tandem et mascot ne possedent pas les meme types d'information. En effet grace a la commande names(psms(...)) on peut acceder aux informations des 2 fichiers et on remarque certe des ressemblances dans les types de meta-donnees, mais surtout des differences notamment Mascot qui possede les meta-donnees Mascot.identity.threshold; Mascot.homology.threshold; number.of.peptide.seqs.compared.to.each.spectrum tandis que Tandem ne les a pas.  "
   ]
  },
  {
   "cell_type": "raw",
   "id": "778d8488",
   "metadata": {},
   "source": [
    "2b)Grace a la commande head(psms(mzidTandem))[, 1:...] on peut observer la masse sur charge de notre peptide d'interet (ici 792.3792 pour l'index 285), ainsi pour trouver la masse experimentale on doit prendre la charge et la multiplier avec la m/z (ici la charge du peptide est 3). La masse experimentale est : 792.3792 x 3 = 2 377.14"
   ]
  },
  {
   "cell_type": "raw",
   "id": "90d4c9f7",
   "metadata": {},
   "source": [
    "2c)Tjr grace a la commande head(psms(mzidMascot))[, 1:...]. On peut observer (avec assez de colomnes) que la proteine d'ou vient le peptide d'interet est de la famille des HSP70 et provient de l'organisme Echinococcus granulosus."
   ]
  },
  {
   "cell_type": "raw",
   "id": "320b7467",
   "metadata": {},
   "source": [
    "2d) La peptidase commune pour les 2 est la trypsin. Il s'agit d'une enzyme peptidase qui peut digerer les liaisons peptidique du coter c-terminal de d'autres proteines lors des etapes de chromatographie dans le but de separer les peptides.\n",
    "\n",
    "Source : https://www.laboratoriumdiscounter.nl/fr/produits-chimiques/a-z/t/trypsine/"
   ]
  },
  {
   "cell_type": "raw",
   "id": "e7da5397",
   "metadata": {},
   "source": [
    "QUESTION 3 – Fichiers de signal MS « Raw » et leur « Peptide Spectral Match » à des protéines\n",
    "\n",
    "a) En regardant le sommaire de notre fichier « raw », combien de « peaks » ionique sont associés au\n",
    "spectre #2 du fichier? (1 points)\n",
    "\n",
    "b) Via la représentation graphique des spectres de peptides, quel spectre possède les signaux ayant\n",
    "la plus grande intensité, et lequel possède les plus petit ratio masse/charge? (2 points)\n",
    "\n",
    "c) À quoi servent les rapporteurs iTRAQ ici? (2 points)"
   ]
  },
  {
   "cell_type": "raw",
   "id": "c0674b33",
   "metadata": {},
   "source": [
    "3a) 1012 peaks (on utilise la commande raw[[2]]"
   ]
  },
  {
   "cell_type": "raw",
   "id": "8254534d",
   "metadata": {},
   "source": [
    "3b) Intensiter correspond a l'axe y donc on cherche le spectre qui possede le pic le plus grand sur l'axe des y. En observant les echelles de l'axe y des spectre on oit que le pic du spectre 1 atteint a peu pres 15 000 000 d'intensiter et donc correspond a notre spectre ayant la plus grande intensiter.\n",
    "L'axe des x correspond a la m/z et on peut voir que le spectre 5 possede le plus petit ratio m/z puisqu'il possede slmt des petits spectres m/z."
   ]
  },
  {
   "cell_type": "raw",
   "id": "38557393",
   "metadata": {},
   "source": [
    "3c) Il s'agit d'etalons pour l'intensiter du signal (axe des y) pour pouvoir mieux interpreter les spectres."
   ]
  },
  {
   "cell_type": "raw",
   "id": "6122697e",
   "metadata": {},
   "source": [
    "QUESTION 4 – Reconstruction des données peptidiques et visualisation graphique\n",
    "\n",
    "a) Combien d’échantillons (et non protéines) ont été analysés (1 points).\n",
    "\n",
    "b) Les signaux proviennent de peptides de protéines connu (ex : PYGM_Rabit), à des concentrations\n",
    "connues. En regardant le premier graphique matplot, quelle protéine avait été dilué comme-ci à\n",
    "travers les données ; 1/10 – 1/4 – 1/2 – 1/1 – 1/2 – 1/10 (2 points) :\n",
    "\n",
    "c) En regardant maintenant le heatmap, pourquoi on ne semble plus s’intéresser à « TRYP_PIG » et\n",
    "pourquoi on ajouter « ECA » (Enterobacterial Common Antigen) (2 points).\n",
    "\n",
    "d) Quel rapporteur a la plus grande concentration d’albumine bovine? (1 point)\n",
    "\n",
    "e) Pourquoi, malgré le fait qu’on retrouve un signal CYT dans 4 rapporteurs selon le heatmap, ne\n",
    "peut-on confirmer la présence que dans Rapporteur 131? Dernier graphique est utile ici (2 points)"
   ]
  },
  {
   "cell_type": "raw",
   "id": "3cb6feab",
   "metadata": {},
   "source": [
    "4a) Il y a 6 echantillons qui ont ete analyser soit TMT6.126 TMT6.127 TMT6.128 TMT6.129 TMT6.130 et TMT6.131\n",
    "qnt <- readRDS(file = \"./R_TP6/data/PXD000001.rds\")\n",
    "Apres on ecrit qnt sur la console pour voir les informations"
   ]
  },
  {
   "cell_type": "raw",
   "id": "f75a3b7c",
   "metadata": {},
   "source": [
    "4b) Il s'agit de ALBU_BOVIN (plus la dilution est haute, plus l'intensiter est basse)"
   ]
  },
  {
   "cell_type": "raw",
   "id": "69dfeae6",
   "metadata": {},
   "source": [
    "4c)On n'utilise plus la trypsin (TRYP_PIG) car celle-ci nous sert slmt lors des etapes avant la chromatographie pour separer les proteines, donc dans la portion spectrometrie, celle-ci ne nous sert plus. On prend specifiquement la trypsine du cochon puisque c'est rare que l'on travail avec le cochon (dans le cas ou on travail avec le cochon, on peut prendre une trypsine differente).\n",
    "ECA nous sert de blank (background) afin qu'on puisse identifier quel resultat est rellement significatif."
   ]
  },
  {
   "cell_type": "raw",
   "id": "8a694e5a",
   "metadata": {},
   "source": [
    "4d) Rapporteur 129\n",
    "On peut le voir en observant le ggplot"
   ]
  },
  {
   "cell_type": "raw",
   "id": "8903b972",
   "metadata": {},
   "source": [
    "4e) On peut confirmer que la presence est slmt dans le rapporteur 131 car  dans le ggplot on peut observer qu'il y a tres peu de resultat significatif sauf pour le rapporteur 131, les autres se trouve au meme niveau que le background donc il s'agit probablement juste de bruit de fond (ie de resultats non significatifs)."
   ]
  },
  {
   "cell_type": "raw",
   "id": "c6f203d4",
   "metadata": {},
   "source": [
    "QUESTION 5 – Traitement des données pour enrichissement de GO\n",
    "Nous allons maintenant commencer à regarder les données du papier SARS-CoV2 précédemment\n",
    "mentionné. Lorsqu’un article apporte une démarche d’analyse intéressante, il peut être pertinent de\n",
    "vouloir appliquer la méthodologie à nos propres données. Puisque les scripts ne sont pas directement\n",
    "fournis par l’article, et qu’ils font donc répliquer manuellement ceux-ci, il est bon d’utiliser les données de\n",
    "l’article afin de valider nos scripts en réplicant les résultats publiés. Les questions suivent l’ordre du code.\n",
    "\n",
    "a) Question basique sur les formats de fichiers : Sans regarder le contenu de « Gordon_PPI.tsv »,\n",
    "comment est-ce qu’on sait que « sep = \"\\t\" » est nécessaire pour la lecture (1 point).\n",
    "\n",
    "b) On extrait les termes GO que nous allons utiliser dans « go_symbols ». Nous utilisons « C5.GO »,\n",
    "mais quel autre types de termes aurait-on pu utiliser sachant que l’on s’intéresse à des voies\n",
    "moléculaires associées à des fonctions de cellules normales (googlé le nom du fichiers). (2 points)\n",
    "\n",
    "c) Nous faisons l’extraction de trois types de données pour nos termes GO (exactSource, term,\n",
    "collection), mais combien était disponible au total dans le fichier d’annotation (1 point)."
   ]
  },
  {
   "cell_type": "raw",
   "id": "da56ff8c",
   "metadata": {},
   "source": [
    "5a) sep = \"\\t\" est necessaire pour la lecture car le fichier tsv (tab-seperated values) est organisé en colonnes et celles-ci sont séparées par des tabultions, ainsi sep = \"\\t\" indique au programme que les tabulations sont utilisées comme des séparateurs entre les colonnes."
   ]
  },
  {
   "cell_type": "raw",
   "id": "9ae7d1ef",
   "metadata": {},
   "source": [
    "5b) On peut utiliser C2:CP Reactome/Wikipatway qui reflete la voie moléculaire d'un sujet normal ce qui nous permet de comparer avec notre echantillon COVIDé. \n",
    "\n",
    "Source : [En ligne]. Msigdb v2022. 1. Hs release notes - genesetenrichmentanalysiswiki; [cité le 21 nov 2023]. Disponible: https://software.broadinstitute.org/cancer/software/gsea/wiki/index.php/MSigDB_v2022.1.Hs_Release_Notes#C1:_positional_gene_sets"
   ]
  },
  {
   "cell_type": "raw",
   "id": "0a1b123d",
   "metadata": {},
   "source": [
    "5c) Dans le fichier d'annotation, on avait 10 types de données (msigdb_DF)"
   ]
  },
  {
   "cell_type": "raw",
   "id": "73cebaea",
   "metadata": {},
   "source": [
    "QUESTION 6 – Comprendre nos données (Prey vs Bait & termes GO associés)\n",
    "a) Au total, l’expérience protéomique a permis de récolter les signaux de milliers de peptides, qui ont\n",
    "pu être reconstruit en 304 protéines (2-40 par protéines SARS-CoV2). Juste pour s’assurer que vous\n",
    "comprenez l’expérience. Combien y a-t-il protéines « Prey »? Combien de protéines « Bait »?\n",
    "Nommé trois de ces « Baits ». Nous sommes à la 1ère ligne de code de processing_GO. (3 points)\n",
    "\n",
    "b) Expliquer à quoi sert la fonction « unique » / pourquoi on l’utilise ici? (2 points)\n",
    "\n",
    "c) Dans notre fonction « GO_OverRep_Analysis », nous traitons d’un coup les résultats de l’outil\n",
    "clusterProfiler. Expliquez rapidement à quoi servent les seuils min/maxGSsize, puis dites dans quel\n",
    "format les valeurs de significativité sont données par la fonction (3 points).\n",
    "\n",
    "d) À l’aide d’une ligne de code, on retire tous les termes GO où le score pour nos données est égal ou\n",
    "inférieur à 1 de « enriched_GOs_master_table ». Combien de lignes (GO) sont éliminées (1 point)?\n",
    "\n",
    "e) Même question, mais pour le nombre de termes GO qui ne passes pas le filtre de valeur P. (1 point)\n",
    "\n",
    "f) Dans la fonction « reduce_GOredundancy », on fait appel à une banque de données contenant les\n",
    "gènes / GO humain, que l’on a déjà utilisé auparavant. Quel est le nom de celle-ci? (1 point)\n",
    "\n",
    "g) Voici quelques termes GO. Dite-s’il s’agit de GO de type BP, MF, ou bien CC. (4 points)\n",
    "« Glycoprotein metabolic processing »\n",
    "« Golgi apparatus subcompartment »\n",
    "« DNA replication initiation »\n",
    "« Endopeptidase activity »\n",
    "\n",
    "h) Une fois la redondance filtrée via « apply_GO_nonRedundancy », à l’aide de la fonction View, dites\n",
    "combien de termes GO s’associe à NSP7, et nommez-en 1. (2 points)\n",
    "\n",
    "i) Notre fonction de typage des termes GO (sep_GOtype) nous permet d’analyser plus simplement\n",
    "nos données selon ce que l’on cherche (ex : processus biologiques apparaissent plus révélateurs).\n",
    "Suite à son application, combien de GO de type CC a-t-on pour ORF6? Nommez-en un. (2 points)\n",
    "\n",
    "j) Un peu plus tard, on applique la fonction « base::order » afin de trier nos données dans la matrice\n",
    "en fonction de leur significativité. Si l’on observe le résultat de cette transformation (vous pouvez\n",
    "utiliser View()), quel est le terme GO le plus significatif, à quel « Bait » appartient-il, combien de\n",
    "protéines « Prey » participent au signal d’enrichissement, nommez l’un de ces « Prey », puis\n",
    "donnez la valeur de significativité en log10 de la valeur p ajustée. (5 points)"
   ]
  },
  {
   "cell_type": "raw",
   "id": "0fd9d015",
   "metadata": {},
   "source": [
    "6a) On a 25 proteines baits et 304 proteines prey (On observe dans environnement les listes SARS_protein_list et Prey_protein_list\n",
    "3 proteine bait qu'on peut observer dans la liste sont les protéines N, M et ORF9b"
   ]
  },
  {
   "cell_type": "raw",
   "id": "747fd41d",
   "metadata": {},
   "source": [
    "6b) La fct \"unique\" permet de faire l'extraction d'un ou des éléments dans un fichier/liste/colonne de données."
   ]
  },
  {
   "cell_type": "raw",
   "id": "de5f5e51",
   "metadata": {},
   "source": [
    "6c) Les seuils min/maxGSsize (GS = Gene set) permettent de délimiter les seuils minimale et maximale des genes annotés en vue du test d'enrichissement.\n",
    "Le format des valeurs de significativité sont données est un format logarythmique (p-value)"
   ]
  },
  {
   "cell_type": "raw",
   "id": "c3e4ccab",
   "metadata": {},
   "source": [
    "6d) Avant le filtre, on a 7398 lignes (obsv.) et suite au filtre du score supérieur a 1, on a 1361 lignes. Ainsi on a perdu 6037 lignes."
   ]
  },
  {
   "cell_type": "raw",
   "id": "168e09d3",
   "metadata": {},
   "source": [
    "6e)Avant le filtre p-value, on a 1361 lignes et suite au filtre du score supérieur a 1, on a 1032 lignes. Ainsi on a perdu 329 lignes."
   ]
  },
  {
   "cell_type": "raw",
   "id": "4bf7c99b",
   "metadata": {},
   "source": [
    "6f) La base de donnée est org.Hs.eg.db"
   ]
  },
  {
   "cell_type": "raw",
   "id": "ddc4ce29",
   "metadata": {},
   "source": [
    "6g) Glycoprotein metabolic processing = BP (biological processing)\n",
    "Golgi apparatus subcompartment = CC (cellular component)\n",
    "DNA replication initiation = MF (molecular function)\n",
    "Endopeptidase activity = MF (molecular function)"
   ]
  },
  {
   "cell_type": "raw",
   "id": "7bc97d03",
   "metadata": {},
   "source": [
    "6h) Il y a 220 termes GO reliés a NSP7. Un exemple est GOBP_POLYSACCHARIDE_BIOSYNTHETIC_PROCESS"
   ]
  },
  {
   "cell_type": "raw",
   "id": "fdd7b73e",
   "metadata": {},
   "source": [
    "6i) Il y a 1 GO de type CC pour ORF6. Il s'agit de GOCC_NUCLEAR_PORE"
   ]
  },
  {
   "cell_type": "raw",
   "id": "0ea210d9",
   "metadata": {},
   "source": [
    "6j) Le terme GO le plus significatif est GOBP_POSITIVE_REGULATION_OF_MAPK_CASCADE. Il appartient au bait ORF8.\n",
    "Il y a 2 protéines prey qui participent au signal d'enrichissement. L'une d'elle est GDF15.\n",
    "la valeur de significativité en log10 de la valeur p ajustée est 0.3641145"
   ]
  },
  {
   "cell_type": "raw",
   "id": "9dc64215",
   "metadata": {},
   "source": [
    "QUESTION 7 – Préparation des données pour le Heatmap\n",
    "Nous allons maintenant sauter à la section ayant le même nom que cette section (≈ligne 500)\n",
    "\n",
    "a) Si l’on initialise la variable SARS_genes_count au début de la section (vide), et qu’on y ajoute\n",
    "SARS_gene suite au trois condition de notre « loop », à quoi sert cette condition au début du loop :\n",
    "while (length(SARS_genes_count) <= 25)? Cette question teste purement votre compréhension de\n",
    "code R, la réponse recherchée est simple et n’a pas à avoir d’interprétation biologique. (2 points)\n",
    "\n",
    "b) La matrice GO_enrich_DF est celle qui sert ultimement à la création du Heatmap. Pourquoi\n",
    "transforme-t-on la valeur de significativité? (1 point)\n",
    "\n",
    "c) Expliquez simplement ce que font ces deux lignes dans le code : (2 points)\n",
    "rownames_matrix <- GO_enrich_matrix[,1]\n",
    "GO_enrich_matrix <- GO_enrich_matrix[,-c(1)]\n",
    "\n",
    "d) Combien de couleurs sont contenues dans « colors3 » (1 points).\n",
    "\n",
    "e) Quel paramètre de pheatmap me permet de modifier la largeur de mes carrés heatmap? (1 point)"
   ]
  },
  {
   "cell_type": "raw",
   "id": "b41eb338",
   "metadata": {},
   "source": [
    "7a) La condition while (lenght(SARS_genes_count) <= 25) permet de preciser au loop d'ajouter des genes a SARS_genes_count jusqu'a ce que le nombre de gene atteigne 25. (plus tard dans la boucle, le code va appliquer des if afin de rajouter des genes qui repondent aux conditions qu'on a mis en place)."
   ]
  },
  {
   "cell_type": "raw",
   "id": "cb233e61",
   "metadata": {},
   "source": [
    "7b) Cette modification permet de faciliter l'interprétation des résultats et rend plus simple la comparaison sur le heatmap. Il s'agit du -log10 (p-value). On peut voir aussi si le résultat est significatif puisqu'une p-value basse correspond a une meilleure significativité et inversement pour le -log10(p-value)."
   ]
  },
  {
   "cell_type": "raw",
   "id": "89128ad0",
   "metadata": {},
   "source": [
    "7c) rownames_matrix <- GO_enrich_matrix permet d'extraire la premiere colonne de la matrice GO_enrich_matrix et assigne la colonne a la variable rownames_matrix\n",
    "GO_enrich_matrix <- GO_enrich_matrix[,-c(1)] permet de supprimer la premiere colonne de GO_enrich_matrix."
   ]
  },
  {
   "cell_type": "raw",
   "id": "2c698483",
   "metadata": {},
   "source": [
    "7d) Il y a 9 couleurs"
   ]
  },
  {
   "cell_type": "raw",
   "id": "6fc05cea",
   "metadata": {},
   "source": [
    "7e) Il s'agit du parametre cellwidth \n",
    "\n",
    "Source : https://www.rdocumentation.org/packages/pheatmap/versions/1.0.12/topics/pheatmap"
   ]
  },
  {
   "cell_type": "raw",
   "id": "31fc2d8d",
   "metadata": {},
   "source": [
    "QUESTION 8 – Enfin on regarde les résultats\n",
    "\n",
    "a) En regardant notre HeatMap, est-ce que le sautant le plus aux yeux est bien consistent avec ce\n",
    "qu’on avait identifié en Q6 j)? Expliquez en quelques mots (2 points)\n",
    "\n",
    "b) En revenant sur la présentation de l’article en début de TP, si l’on regarde le GO le plus enrichie\n",
    "pour le « Bait » \"NSP12\" (quoique très pâle comparativement à d’autres liens GO-SARS), est-ce que\n",
    "le résultat fait du sens/est intéressant? Hypothétisez courtement sur le pourquoi (2 points).\n",
    "\n",
    "c) Pourquoi a-t-on un signal bleu relativement important pour 3 termes GO vis-à-vis le « Bait »\n",
    "\"NSP9\"? Ce n’est pas une erreur, pensez à comment les GO sont choisis. (2 points)\n",
    "\n",
    "d) En regardant à nouveau \"NSP9\", quelle conclusion peut-on clairement faire vis-à-vis les\n",
    "potentielles fonction de cette protéines SARS-CoV2? (2 points)\n",
    "\n",
    "e) Pourquoi certains « Baits » ont-ils des signaux si pâles pour presque tous les GO? (1 point)"
   ]
  },
  {
   "cell_type": "raw",
   "id": "202aa13c",
   "metadata": {},
   "source": [
    "8a) Nous pouvons observer dans le heatmap que le bait ORF8 au niveau du Endoplasmic Reticulum Lumen se démarque le plus, en effet celui-ci a une couleur bleu foncé qui équivaut a un résultat tres significatif si l'on se réfere a la légende de couleur a droite du heatmap. Cela est bel et bien consistent avec ce qu'on a vu pour la question 6j) avec le bait les plus significatifs (terme GO) dans GOBP_POSITIVE_REGULATION_OF_MAPK_CASCADE."
   ]
  },
  {
   "cell_type": "raw",
   "id": "59d12384",
   "metadata": {},
   "source": [
    "8b) Le bait NSP12 code pour une polymérase ce qui insinue qu'il joue un role important dans la réplication du virus, on s'attendrait bien sur que celle-ci soit capitale pour le bon fonctionnement du virus. Cependant, celle-ci démontre des valeurs de significativité faible sur le heatmap et donc n'est pas enrichie. on peut expliquer cela par le fait que les protéines prey présent dans les voies moléculaires sélectionnées n'intéragissent pas ou peu avec NSP12."
   ]
  },
  {
   "cell_type": "raw",
   "id": "13f97048",
   "metadata": {},
   "source": [
    "8c) On un enrichissement de la protéine bait NSP9 au niveau de 3 termes GO et on remarque que celles-ci correspondent aux termes GO BP, MF et CC. Parmi les 3 on a le mitochondrial transport correspondant au biologial process (BP), nuclear pore correspondant au cellular component (CC) et le structural constituent of nuclear pore correspondant au terme GO molecular function (MF)."
   ]
  },
  {
   "cell_type": "raw",
   "id": "a682b184",
   "metadata": {},
   "source": [
    "8d) Nous observons que la protéine NSP9 joue un role dans le transport mitochondrial (bien évidemment), et dans la structure et fonction des pores nucléaires. Nous pouvons conclure que NSP9 joue un role crucial dans la régulation génétique puisque celui-ci est tres présent au niveau du noyau et on peut supposé que celui-ci joue un role dans la replication viral."
   ]
  },
  {
   "cell_type": "raw",
   "id": "6c122626",
   "metadata": {},
   "source": [
    "8e) Certains baits que l'on a peuvent avoir une implication sur des termes GO que l'on a pas sélectionné. Ici on a surtout sélectionné CC, BP et MF et ces baits n'ont tout simplement pas d'impact sur ceux-ci."
   ]
  },
  {
   "cell_type": "raw",
   "id": "ec4507f1",
   "metadata": {},
   "source": [
    "QUESTION 9 – Données pour le diagramme à bande\n",
    "\n",
    "a) Nous entreposant dans la matrice « proteome_tissue » l’information provenant du fichier\n",
    ". « GTEx_Tissu_Abundance.xlsx ». Décrivez l’information contenu dans votre matrice. (2 points)\n",
    "\n",
    "b) Expliquez ce que la transformation qu’on fait à nos données semble modifier. (2 points)"
   ]
  },
  {
   "cell_type": "raw",
   "id": "855e4b89",
   "metadata": {},
   "source": [
    "9a) Dans notre matrice proteome_tissue, nous avons comme information dans les colonnes : l'ID des genes, l\"ID des protéines, le nom des genes et des colonnes contenant divers types de tissus tel que cerveau, foie, poumon etc. Dans les colonnes des tissus, on voit divers valeurs dont certaines affichant NA"
   ]
  },
  {
   "cell_type": "raw",
   "id": "617e1e7a",
   "metadata": {},
   "source": [
    "9b) Afin de faciliter l'interprétation des valeurs de significativité, on a appliqué a une transformation logarithmique (log10) a toute les colonnes a partir de la colonne 4. \n",
    "Nous avons aussi supprimé les valeurs négatives et infinies, ce qui explique la présence de NA dans certaines cases."
   ]
  },
  {
   "cell_type": "raw",
   "id": "93306377",
   "metadata": {},
   "source": [
    "QUESTION 10 – Visualisation des données tissus\n",
    "\n",
    "a) Interprétez en quelques mots ce que le graphique nous permet de voir. (2 points)\n",
    "\n",
    "b) En faisant une petite revue de la littérature (citation à l’appui), est-ce que vos résultats sont\n",
    "consistant avec ce qui est attendu de SARS-CoV2? (3 points)\n",
    "\n",
    "c) Sachant qu’un résultat est normalement reconnu comme « significatif » si p < 0.05, est-ce que vos\n",
    "résultats ici sont significatif? Expliquez en quelques mots. (2 points)"
   ]
  },
  {
   "cell_type": "raw",
   "id": "688c630e",
   "metadata": {},
   "source": [
    "10a) Il s'agit d'un diagramme a bande démontrant l'enrichissement de nos données selon les tissus. En x se trouve les divers tissus et en y on observe les -log10p-values associés aux tissus en base x (c'est plus simple d'observer et comparer les résultats plutot qu'utiliser la p-value directement). On remarque que les valeurs les plus significatives (bandes plus hautes/-log10p-value plus haute) sont sur la gauche du diagramme et les valeurs les moins significatives se trouvent vers la droite."
   ]
  },
  {
   "cell_type": "raw",
   "id": "962c1cf5",
   "metadata": {},
   "source": [
    "10b) En consultant la littérature sur le sujet, on en conclu que le SARS-CoV2 est tres présent dans certains tissus en majorité, en effet on le retrouve dans les tissus pulmonaire, les tissus hépatiques, cardiaques, intestinaux, reinals et du foie notamment. Lorsque l'on compare avec le diagramme a bande, on voit que les tissus ayant des valeurs les plus significatives (meilleur enrichissement) correspond a ce qu'on peut voir dans la littérature, ainsi on peut en conclure que les résultats observés sont bel et bien attendus.\n",
    "\n",
    "Source : https://www.ncbi.nlm.nih.gov/pmc/articles/PMC8192279/\n",
    "https://www.nature.com/articles/s41586-021-03570-8"
   ]
  },
  {
   "cell_type": "raw",
   "id": "328be19c",
   "metadata": {},
   "source": [
    "10c) Si l'on applique la formule -log10(p-value) pour une p-value de 0.05, on obtient 1.301. Plus la p-value baisse (meilleur significativité), plus le -log10(p-value) augmente, ainsi si une valeur reconnu comme significative doit etre de 1.3 ou plus, on peut en conclure que nos résultats dans notre diagramme ne sont pas significatif."
   ]
  }
 ],
 "metadata": {
  "kernelspec": {
   "display_name": "R",
   "language": "R",
   "name": "ir"
  },
  "language_info": {
   "codemirror_mode": "r",
   "file_extension": ".r",
   "mimetype": "text/x-r-source",
   "name": "R",
   "pygments_lexer": "r",
   "version": "4.3.1"
  }
 },
 "nbformat": 4,
 "nbformat_minor": 5
}
