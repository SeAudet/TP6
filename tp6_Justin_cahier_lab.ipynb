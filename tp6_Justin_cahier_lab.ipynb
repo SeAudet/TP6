{
 "cells": [
  {
   "cell_type": "code",
   "execution_count": null,
   "id": "abd36b09",
   "metadata": {},
   "outputs": [],
   "source": [
    "Proteomique\n",
    "\n",
    "Cahier de lab partie 1\n",
    "\n",
    "Fichiers mzidtandem \n",
    "     - fichiers de proteomique permet dobserver les differents parametres  receuillis lors\n",
    "    du sequencage spectro \n",
    "\n",
    "    \n",
    "    \n",
    "raw <- readMSData(mz_raw, verbose = FALSE, centroided = TRUE)\n",
    "    #pour lire un fichier de spectro de masse\n",
    "    #mz raw correspond a notre fichier de spectro mere\n",
    "    \n",
    "       = Ce sont des donnes dintensite de signal en fonction de m/z.. \n",
    "        = Donc si on le plot , avec $plot(raw, full = TRUE)  on obtient les pics\n",
    "    Il est possible de se concentrer sur un spectre particulier\n",
    "        $raw[[1]] #1-5\n",
    "\n",
    "\n",
    "Dans ce fichier se trouve deja une interpretation des proteines analysees par spectro\n",
    "    C-a-d que le spectro lui meme, identifie les fragments peptides et deduit la nature \n",
    "        des proteines analysees\n",
    "        ainsi dans le fichier mere, on a deja linfo sur les proteines analysees\n",
    "        \n",
    "        \n",
    "combineFeatures \n",
    "    - fonction pour regroupper tous les peptides qui appartiennent aux memes proteines\n",
    "    - grace aux reporters \n",
    "    - On peut ainsi faire une quantitication proteique de la solution analyse\n",
    "        \n",
    "normalise()\n",
    "    - important de normaliser les donnes pour eliminer les biais experimentaux \n",
    "        et les diffenrences de lectures\n",
    "        \n",
    "ggplot() \n",
    "    - Representation modulaire des informations \n",
    "    - en comparaison avec heatmap, utile pour observe la distribution des valeurs\n",
    "        obtenus pour une meme espece (ex. une seule proteine recueuilli par spectro)\n",
    "        = ex tres utile pour comparer avec un background noise\n",
    "        \n",
    "        \n",
    "\n",
    "Definitions \n",
    "\n",
    "Genes raporteurs : tag differentiellement les peptides proveant des differents proteines\n",
    "    et permet ainsi une analyse quantitative des resultats de spectro\n",
    "\n"
   ]
  },
  {
   "cell_type": "code",
   "execution_count": null,
   "id": "3943427f",
   "metadata": {},
   "outputs": [],
   "source": [
    "Cahier de Lab partie 2 \n",
    "\n",
    "ClusterProfiler :: enricher \n",
    "        \n",
    "        \n",
    "log10_p.adj \n",
    "\n",
    "\n",
    "Termes GO \n",
    "    -- \"BP\", \"MF\", \"CC\"\n",
    "\n",
    "\n",
    "Definitions         \n",
    "        \n",
    "Bait : Il sagit de la proteines que lon a utilise pour faire lessaie dinterraction\n",
    "\n",
    "Prey : ce sont les proteines qui on interragit experimentalement avec notre bait. "
   ]
  }
 ],
 "metadata": {
  "kernelspec": {
   "display_name": "Python 3 (ipykernel)",
   "language": "python",
   "name": "python3"
  },
  "language_info": {
   "codemirror_mode": {
    "name": "ipython",
    "version": 3
   },
   "file_extension": ".py",
   "mimetype": "text/x-python",
   "name": "python",
   "nbconvert_exporter": "python",
   "pygments_lexer": "ipython3",
   "version": "3.10.12"
  }
 },
 "nbformat": 4,
 "nbformat_minor": 5
}
