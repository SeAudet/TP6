{
 "cells": [
  {
   "cell_type": "markdown",
   "id": "368770eb",
   "metadata": {},
   "source": [
    "## TP6 Proteomique\n",
    "\n",
    "### Theorie semaine 1\n",
    "\n",
    "Une proteine va etre separe entre plusieurs peptides (pics) qui seront chacun decompose par mass spec\n",
    "\n"
   ]
  },
  {
   "cell_type": "markdown",
   "id": "70393dda",
   "metadata": {},
   "source": [
    "# Semaine 1\n",
    "\n",
    "### QUESTION 1 – Utilisation de RforProteomics - Fichiers sommaire d’expérience MS\n",
    "\n",
    "a) `$ ln -s /cours/a23_bcm3553_bcm6010-a/cours/TP6/`<br>\n",
    "`$ cp tp6/TP6/script/TP6_Processing.Rmd .`\n",
    "\n",
    "b) usr/local/R-4.3.1/lib64/R/library/msdata/microtofq/\n",
    "\n",
    "c) Le fichier MM14 ne contient aucun peptide, car lorsquon runInfo(mz14):\n",
    "```\n",
    "$lowMz\n",
    "[1] 0\n",
    "\n",
    "$highMz\n",
    "[1] 0\n",
    "```\n",
    "\n",
    "d) lowMz represente la masse/charge Mz du plus petit peptide <br>\n",
    "high Mz represente la masse/charge Mz du plus grand peptide\n"
   ]
  },
  {
   "cell_type": "markdown",
   "id": "233a67db",
   "metadata": {},
   "source": [
    "### QUESTION 2 – Fichier d’identification des peptides\n",
    "\n",
    "a) Non, le fichier Mascot contient des niveau d'identite Mascot, alors que le fichier Tandem ne contient pas cela.\n",
    "\n",
    "b) La masse experimentale de ce peptide est 792.3792. On obtient cette information avec la commande head(psms(mzidTandem))[, 1:13]\n",
    "\n",
    "c) Le peptide DAGTISGLNVLR appartient a la Heat shock cognate 70 kDa protein (HSP70) de Echinococcus granulosus\n",
    "\n",
    "d) La trypsin a ete utilisee pour couper les proteines en C-terminal des Lysine et arginine. "
   ]
  },
  {
   "cell_type": "markdown",
   "id": "b9830237",
   "metadata": {},
   "source": [
    "### QUESTION 3 – Fichier d’identification des peptides\n",
    "\n",
    "a) Il y a 1012 peaks dans le spectre 2\n",
    "\n",
    "b) Le spectre ayant les pics de la plus grande intensite (jusqua 1.5X10^7) est le spectre 1 <br>\n",
    " Le spectre 5 a la plus petite masse/charge\n",
    " \n",
    "c) ITRAQ correspond a un isobaric reagent servant a identifier et quantifier des proteines dand des conditions et de samples differents. ITRAQ4 utilise les tags a 114, 115, 116 et 117 Mz. Ces tags separent les proteines legerement pour les differencier."
   ]
  },
  {
   "cell_type": "markdown",
   "id": "0215f669",
   "metadata": {},
   "source": [
    "### QUESTION 4 – Reconstruction des données peptidiques et visualisation graphique\n",
    "\n",
    "a) Il y a 6 echantillons ont ete analyses\n",
    "\n",
    "b) C'est la proteine albumin bovin qui a ete diluee de cette maniere (proteine 4 dans le matplot)\n",
    "\n",
    "c) En regardant le matplot, on peut voir que TRYP_PIG reste a une basse intensite pour tous les rapporteurs, donc on ne peut pas utiliser les donnes de cet echantillon. ECA sert de controle pour la heatmap, car cest une proteine qui ne devrait pas etre retrouve dans les samples, elle sert donc de controle de background.\n",
    "\n",
    "d) Le rapporteur 129 a la plus grande concentration de BSA d'apres la heatmap\n",
    "\n",
    "e) Pour tous les rapporteurs excepte 131, les signaux de CYT ne sont pas plus intenses que le background, ce qui signifie que ces signaux peuvent etre des faux positifs. Le signal de 131 se situe au dessus du background, donc il y a reelement presence de BSA"
   ]
  },
  {
   "cell_type": "markdown",
   "id": "dcf0baa0",
   "metadata": {},
   "source": [
    "### QUESTION 5 – Traitement des données pour enrichissement de GO\n",
    "\n",
    "a) \\t signifie que les donnees sont separees par des tabulations. Le principe des fichiers .tsv est la separation des colonnes par des tabulations\n",
    "\n",
    "b) On aurait pu utiliser les termes MF regroupe des genes set concernant des fonctions moleculaires de genes\n",
    "\n",
    "c) Il y a 10 types de donnees possibles utilisables dans le fichier"
   ]
  },
  {
   "cell_type": "markdown",
   "id": "25c3fc82",
   "metadata": {},
   "source": [
    "### QUESTION 6 – Comprendre nos données (Prey vs Bait & termes GO associés)\n",
    "\n",
    "a) Il y a 25 proteines bait, ce qui correspond aux proteines de SARS-Cov2, par exemple N, M et E. Il y a 304 Prey proteines qui peuvent potentiellement interagir avec les proteines Bait.\n",
    "\n",
    "b) Pour ne pas inserer dans la liste une proteine Bait qui est deja dans la liste (pas de repliques).\n",
    "\n",
    "c) Min et Max GS size servent a determiner le nombre de genes minimum et maximum dans les gene sets utilises pour l'analyse heatmap. On utilise la methode \"Benjamini, Hochberg\", ce qui correspond a la methode de False Discovery rate qui donne la proportion attendue de decouvertes erronees dont l'hypothese nulle est rejetee.\n",
    "\n",
    "d) On a elimine 6037 lignes (7398 avant et 1361 apres)\n",
    "\n",
    "e) Des 1361 lignes precedentes, 329 sont elimine selon le filtre de valeur P\n",
    "\n",
    "f) On utilise la base de donnees \"Genome wide annotation for Human\" (org.Hs.eg.db)\n",
    "\n",
    "g) « Glycoprotein metabolic processing » est BP <br>\n",
    "« Golgi apparatus subcompartment » est CC <br>\n",
    "« DNA replication initiation » est BP <br>\n",
    "« Endopeptidase activity » est MF \n",
    "\n",
    "h) Il y a 220 termes GO associes a la proteine NSP7, dont la \"polysaccharide biosynthesis\"\n",
    "\n",
    "i) Apres l'application de sep_gotype, On peut observer quil y a 1 GO term de type CC associe a ORF6: Nuclear Pore.\n",
    "\n",
    "j) Le GO term le plus significatif est \"ENDOPLASMIC_RETICULUM_LUMEN\" <br>\n",
    "Il appartient au bait ORF8 <br>\n",
    "16 proteines Prey participent au signal d'enrichissement <br>\n",
    "Une de ces proteines Prey est TOR1A <br>\n",
    "La p-value ajustee est de 1.258944e-14\n",
    "\n"
   ]
  },
  {
   "cell_type": "markdown",
   "id": "aa0d8da4",
   "metadata": {},
   "source": [
    "# Semaine 2\n",
    "\n"
   ]
  },
  {
   "cell_type": "markdown",
   "id": "fc5fc2be",
   "metadata": {},
   "source": [
    "### QUESTION 7 – Préparation des données pour le Heatmap\n",
    "\n",
    "a) Le nombre de genes dans SARS_genes_count ne doit pas depasser 25 puisqu'il y a 25 genes de SARS Cov2. Si le nombre depasse 25, la loop serait arretee et cela voudrait dire qu'il y aurait des doublons.\n",
    "\n",
    "b) Cette transformation log10 permet d'utiliser et visualiser les p-value par la fonction heatmap, puisqu'on se debarasse des nombres a exposants. Par exemple, on transforme 10^-7 en 7. \n",
    "\n",
    "c) La premiere ligne cree une variable contenant les noms de GO Terms (premiere colonne du dataframe) qui seront ensuite mis comme nom de rangee dans le dataframe <br>\n",
    "La deuxieme ligne retire ces GO Terms du dataframe\n",
    "\n",
    "d) 256 couleurs\n",
    "\n",
    "e) cellwidth\n"
   ]
  },
  {
   "cell_type": "markdown",
   "id": "f025cda6",
   "metadata": {},
   "source": [
    "### QUESTION 8 – Enfin on regarde les résultats\n",
    "\n",
    "a) Oui cela est consistent avec les reponse de Q6 j). Dans les deux cas, le Go Term Endoplasmic reticulum Lumen avec le bait ORF8 est le plus significatif.\n",
    "\n",
    "b) Selon le heatmap, le Go Term le plus associe avec NSP12 est le RNA splicing. ceci a du sens, car NSP12 est une RNA-dependent RNA polymerase. Il n'est donc pas etonnant que ce gene ait un impact sur l'epissage de l'ARN.\n",
    "\n",
    "c)  NSP9 est associe a 3 Go term de facon significative, car les Go Term sont choisis selon leur significativite d'association aux proteines Bait. Si 3 Go terms sont associes significativement a NSP9 dans la liste original de 1000+ Go Terms, ils apparaitront les 3 dans la heatmap.\n",
    "\n",
    "d) Dapres les 3 go term (nuclear pore, nuclear pore structural constituent, mitochondrial transport), on peut en deduire que NSP9 est potentiellement une proteine de machinerie de transport entre les mitochondries et le noyau.\n",
    "\n",
    "e) La plupart des proteines ne sont pas impliques dans un grand nombre de voie de signalisation, il est donc logique qu'ils ne soient pas associes a un grand nombre de GO terms."
   ]
  },
  {
   "cell_type": "markdown",
   "id": "d9aff1cf",
   "metadata": {},
   "source": [
    "### QUESTION 9 – Données pour le diagramme à bande\n",
    "\n",
    "a) Cette matrice contient l'ID et l'abondance de plus de 15 000 proteines dans divers tissus tels que le cerveau, le colon, l'appendice, etc.\n",
    "\n",
    "b) On transforme les abondances des proteines en log 10, ce qui va egalement transforme les donnees d'abondance 0 en \"inf\", qu'on transformera ensuite en NA. "
   ]
  },
  {
   "cell_type": "markdown",
   "id": "64df4cc5",
   "metadata": {},
   "source": [
    "### QUESTION 10 – Visualisation des données tissus\n",
    "\n",
    "a) Le graphique represente le degree d'expression differentiel des proteines humaines interagissant avec SARS-Cov2 dans divers tissues humains. Par exemple, on peut voir que le plus tissu avec la plus haute significativite est les poumons, ce qui est logique, puisqu'on sait que SARS-Cov2 est un virus principalement respiratoire.\n",
    "\n",
    "b) Oui, ces resultats sont ceux attendus. On sait que le SARS-Cov2 est un virus respiratoire, ce qui est constant avec l'interaction significative entre des proteines humaines pulmonaires et le SARS-Cov2 comme dans l'article de Gordon et al.(1). Cependant, contrairement a l'article de Gordon et al., l'expression differentielle dans le foie et le coeur est plus importante que dans la majorite des autres tissus. La presence et l'impact du SARS-Cov2 dans differents tissus autre que le poumon est debattue dans la litterature, ces resultats necessiteraient donc des tests additionnels (2).\n",
    "\n",
    "(1) Gordon, D.E., Jang, G.M., Bouhaddou, M. et al. A SARS-CoV-2 protein interaction map reveals targets for drug repurposing. Nature 583, 459–468 (2020). https://doi.org/10.1038/s41586-020-2286-9\n",
    "\n",
    "(2) Delorey, T.M., Ziegler, C.G.K., Heimberg, G. et al. COVID-19 tissue atlases reveal SARS-CoV-2 pathology and cellular targets. Nature 595, 107–113 (2021). https://doi.org/10.1038/s41586-021-03570-8\n",
    "\n",
    "c) Non, ces resultats ne sont pas significatifs, puisque la plus petite p-value (poumon) est de 0.22, ce qui est superieur au cutoff de 0.05."
   ]
  },
  {
   "cell_type": "code",
   "execution_count": null,
   "id": "3d6a65c3",
   "metadata": {},
   "outputs": [],
   "source": []
  }
 ],
 "metadata": {
  "kernelspec": {
   "display_name": "Python 3 (ipykernel)",
   "language": "python",
   "name": "python3"
  },
  "language_info": {
   "codemirror_mode": {
    "name": "ipython",
    "version": 3
   },
   "file_extension": ".py",
   "mimetype": "text/x-python",
   "name": "python",
   "nbconvert_exporter": "python",
   "pygments_lexer": "ipython3",
   "version": "3.10.12"
  }
 },
 "nbformat": 4,
 "nbformat_minor": 5
}
