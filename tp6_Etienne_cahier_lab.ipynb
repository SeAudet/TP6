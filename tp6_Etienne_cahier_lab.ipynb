{
 "cells": [
  {
   "cell_type": "markdown",
   "id": "1324f1f1",
   "metadata": {},
   "source": [
    "### QUESTION 1 – Utilisation de RforProteomics - Fichiers sommaire d’expérience MS"
   ]
  },
  {
   "cell_type": "markdown",
   "id": "e1819c5f",
   "metadata": {},
   "source": [
    "a) Écrivez les commandes qui vous ont permis d’accéder aux données du TP (lien symbolique, copie)\n",
    "et le répertoire de travail subséquemment indiqué dans le script R (2 points)."
   ]
  },
  {
   "cell_type": "markdown",
   "id": "5465247b",
   "metadata": {},
   "source": [
    "Reponse:\n",
    "ln -s /cours/a23_bcm3553_bcm6010-a/cours/TP6/* \n"
   ]
  },
  {
   "cell_type": "markdown",
   "id": "7a6e09a1",
   "metadata": {},
   "source": [
    "b) * \"/apps_rh8/Local_rh8/R/R-4.3.1/lib64/R/library/msdata/microtofq/MM14.mzML\"\n",
    "   * \"/apps_rh8/Local_rh8/R/R-4.3.1/lib64/R/library/msdata/microtofq/MM8.mzML\""
   ]
  },
  {
   "cell_type": "markdown",
   "id": "eb3bdcd8",
   "metadata": {},
   "source": [
    "c) En regardant information disponible pour MM8 & MM14, on constate que MM14 est sans peptide car sa spectrometrie Mz est 0, pendant que Mz pour MM8 est non-vide.\n"
   ]
  },
  {
   "cell_type": "markdown",
   "id": "1b105c5f",
   "metadata": {},
   "source": [
    "d) LowMz et HighMz sont respectivement la petite masse spectometrique et la grande masse spectrometrique detecter"
   ]
  },
  {
   "cell_type": "markdown",
   "id": "eeb5a9df",
   "metadata": {},
   "source": [
    "### QUESTION 2 – Fichier d’identification des peptides"
   ]
  },
  {
   "cell_type": "markdown",
   "id": "3e7be050",
   "metadata": {},
   "source": [
    "a) Non, car mascot contient plus d'information que tandem."
   ]
  },
  {
   "cell_type": "markdown",
   "id": "19c277fb",
   "metadata": {},
   "source": [
    "b)**  J <- head(psms(mzidTandem))[,1:13]\n",
    "\n",
    "**J[J$sequence==\"KDLYGNVVLSGGTTMYEGIGER\",]$experimentalMassToCharge**\n",
    "\n",
    "Donc, on a: 792.3792"
   ]
  },
  {
   "cell_type": "code",
   "execution_count": null,
   "id": "c8d86122",
   "metadata": {},
   "outputs": [],
   "source": [
    "c) Le nom de proteine est \"HSP70\", elle provient de Echinococcus granulosus (Hydatid tapeworm)"
   ]
  },
  {
   "cell_type": "markdown",
   "id": "68ce2b6e",
   "metadata": {},
   "source": [
    "d) L'enzyme qui a servie a la preparation des echantillons est \"Trypsin\". Cette enzyme est donc cruciale pour la digestion efficace des protéines, permettant à l'organisme de les décomposer en unités plus petites (peptides et acides aminés) qui peuvent ensuite être absorbées et utilisées par le corps. la trypsine joue également un rôle dans l'activation d'autres enzymes digestives produites sous forme inactive. "
   ]
  },
  {
   "cell_type": "markdown",
   "id": "d638dbf2",
   "metadata": {},
   "source": [
    "## Question 3."
   ]
  },
  {
   "cell_type": "markdown",
   "id": "4ede535c",
   "metadata": {},
   "source": [
    "a) Object of class \"Spectrum2\"\n",
    "\n",
    " Precursor: 645.3741 \n",
    "        \n",
    " Retention time: 25:01 \n",
    "        \n",
    " Charge: 3 \n",
    "    \n",
    " MSn level: 2 \n",
    "    \n",
    " Peaks count: 2921 \n",
    "    \n",
    " Total ion count: 668170086 \n",
    " \n",
    " Le PEAKS est 2921"
   ]
  },
  {
   "cell_type": "markdown",
   "id": "1407bcb4",
   "metadata": {},
   "source": [
    "b) Visiblement c'est le spectre 1 qui possede les signaux la plus grande intensite, et le spectre 5 possede les plus petit ratio  "
   ]
  },
  {
   "cell_type": "markdown",
   "id": "bc37f44c",
   "metadata": {},
   "source": [
    "c) les rapporteurs iTRAQ sont des outils puissants pour la quantification précise des protéines dans des échantillons complexes et pour les études de protéomique quantitative qui nécessitent la comparaison de plusieurs échantillons simultanément.\n"
   ]
  },
  {
   "cell_type": "markdown",
   "id": "0cc1ef9d",
   "metadata": {},
   "source": [
    "## Question 4"
   ]
  },
  {
   "cell_type": "markdown",
   "id": "2e94a2bf",
   "metadata": {},
   "source": [
    "a) Il y a 6 echantillons analyses"
   ]
  },
  {
   "cell_type": "markdown",
   "id": "349f6142",
   "metadata": {},
   "source": [
    "b) La protéine est identifiée est comme \"sp|P00489|PYGM_RABIT\""
   ]
  },
  {
   "cell_type": "markdown",
   "id": "1d170506",
   "metadata": {},
   "source": [
    "c)  les données de \"TRYP_PIG\" ne montrent pas de variations significatives ou sont en dehors du seuil de détection dans les échantillons analysés pour le heatmap.\n",
    " Les antigènes communs aux entérobactéries (ECA) sont des composants structurels présents sur les bactéries gram-négatives, et leur présence pourrait être importante dans le contexte de cette étude, par exemple, car notre expérience vise à examiner la réponse immunitaire ou l'exposition à ces bactéries."
   ]
  },
  {
   "cell_type": "markdown",
   "id": "00da624c",
   "metadata": {},
   "source": [
    "d) Visuellement, c'est le point ou la ligne dans la catégorie \"BSA\" qui a la valeur la plus élevée sur l'axe des ordonnées."
   ]
  },
  {
   "cell_type": "markdown",
   "id": "2ab8d394",
   "metadata": {},
   "source": [
    "e) La confirmation de la présence d'une protéine peut nécessiter une certaine reproductibilité des signaux à travers les répétitions. Si seul le signal du rapporteur 131 est constant à travers plusieurs mesures, cela pourrait être la raison de sa confirmation."
   ]
  },
  {
   "cell_type": "markdown",
   "id": "6d24b14a",
   "metadata": {},
   "source": [
    "## Question 5"
   ]
  },
  {
   "cell_type": "markdown",
   "id": "46caef5e",
   "metadata": {},
   "source": [
    "a) L'indication que sep = \"\\t\" est nécessaire pour lire le fichier \"Gordon_PPI.tsv\" vient du nom de fichier lui-même, qui suggère qu'il s'agit d'un fichier TSV (Tab-Separated Values). Les fichiers TSV utilisent une tabulation (\\t) comme séparateur de valeurs. "
   ]
  },
  {
   "cell_type": "markdown",
   "id": "99114d54",
   "metadata": {},
   "source": [
    "b)Lors de l'utilisation de termes GO (Gene Ontology) dans des analyses, comme dans le cas du fichier \"C5.GO\", on peut choisir parmi plusieurs types de termes GO, chacun reflétant différents aspects des fonctions biologiques. La collection C5:GO se divise en trois composants principaux :\n",
    "\n",
    "1. **Processus Biologique (BP)** : Ces termes décrivent les processus biologiques auxquels les gènes ou leurs produits sont associés, tels que la signalisation cellulaire ou la métabolisation des nutriments.\n",
    "\n",
    "2. **Composant Cellulaire (CC)** : Ces termes se réfèrent à la partie de la cellule ou de l'environnement extracellulaire dans laquelle un gène ou une protéine est actif, comme le noyau cellulaire ou la membrane plasmique.\n",
    "\n",
    "3. **Fonction Moléculaire (MF)** : Ces termes décrivent les activités au niveau moléculaire accomplies par un gène ou une protéine, telles que la liaison à l'ADN ou l'activité enzymatique.\n"
   ]
  },
  {
   "cell_type": "markdown",
   "id": "35fe54e4",
   "metadata": {},
   "source": [
    "c) Le fichier de base GO_terme contenaient 856126 observ. et 2 variables(Term et genes), apres extraction on a le ficher msigdbsimple qui contient 10561 obs. et 3 variables"
   ]
  },
  {
   "cell_type": "markdown",
   "id": "0a2c26a3",
   "metadata": {},
   "source": [
    "## Question 6"
   ]
  },
  {
   "cell_type": "markdown",
   "id": "cc8db8d6",
   "metadata": {},
   "source": [
    "a)  Il y a 304 proteines \"Prey\" et 25 proteines de \"Bait\" "
   ]
  },
  {
   "cell_type": "markdown",
   "id": "4e8ec517",
   "metadata": {},
   "source": [
    "b) Uinque sur R nous permet a reduire la colonne et garder des valeurs d'une maniere unique pour eviter le doublon. On l'utilise ici pour compter les proteines ou genes d'une maniere unique dans une colonne."
   ]
  },
  {
   "cell_type": "markdown",
   "id": "48be351b",
   "metadata": {},
   "source": [
    "c) Dans l'outil clusterProfiler, utilisé pour l'analyse d'enrichissement de termes GO (Gene Ontology), les paramètres minGSsize et maxGSsize servent à définir la taille minimale et maximale des groupes de gènes (Gene Sets) à prendre en compte dans l'analyse.\n",
    "\n",
    "**minGSsize :** C'est le seuil de taille minimale d'un groupe de gènes pour qu'il soit inclus dans l'analyse. Cela permet d'éviter les groupes de gènes trop petits qui pourraient mener à des résultats non fiables ou peu significatifs.\n",
    "\n",
    "**maxGSsize :** C'est le seuil de taille maximale d'un groupe de gènes. Les groupes de gènes plus grands que ce seuil sont exclus, car ils peuvent être trop généraux et donc moins informatifs pour l'analyse spécifique en cours.\n",
    "\n",
    "Quant aux valeurs de significativité, dans notre contexte, l'analyse d'enrichissement, elles sont données sous la forme de valeurs p ajustées, ajustées par la méthode de correction de Benjamini-Hochberg pour contrôler le taux de fausse découverte (FDR). Ces valeurs ajustées aident à interpréter la significativité statistique des résultats d'enrichissement dans le contexte de multiples tests statistiques."
   ]
  },
  {
   "cell_type": "markdown",
   "id": "990a4bca",
   "metadata": {},
   "source": [
    "d) en selectionnant le GO dont le score est > a 1, toutes les lignes sont eliminees"
   ]
  },
  {
   "cell_type": "markdown",
   "id": "3c35e24c",
   "metadata": {},
   "source": [
    "e) Il y a 29 qui ne passent pas le filtre"
   ]
  },
  {
   "cell_type": "markdown",
   "id": "bad7a624",
   "metadata": {},
   "source": [
    "f) La base des donnees en question est \"org.Hs.eg.db\""
   ]
  },
  {
   "cell_type": "markdown",
   "id": "515c3d95",
   "metadata": {},
   "source": [
    "g)Les termes GO (Gene Ontology) mentionnés BP,MF ou bien CC peuvent être classifiés dans les catégories suivantes :\n",
    "\n",
    "1. **Glycoprotein Metabolic Processing** : Il s'agit d'un terme de type **Processus Biologique (BP)**, car il décrit un processus métabolique impliquant des glycoprotéines.\n",
    "\n",
    "2. **Golgi Apparatus Subcompartment** : Ce terme appartient à la catégorie **Composant Cellulaire (CC)**, car il fait référence à une sous-partie spécifique du compartiment cellulaire, en l'occurrence un sous-compartiment de l'appareil de Golgi.\n",
    "\n",
    "3. **DNA Replication Initiation** : C'est un terme de type **Processus Biologique (BP)**, car il décrit le processus biologique d'initiation de la réplication de l'ADN.\n",
    "\n",
    "4. **Endopeptidase Activity** : Ce terme relève de la catégorie **Fonction Moléculaire (MF)**, car il décrit une activité enzymatique spécifique, en l'occurrence l'activité d'une endopeptidase."
   ]
  },
  {
   "cell_type": "markdown",
   "id": "9d5ea283",
   "metadata": {},
   "source": [
    "h) Il y a 14 termes GO s'associe a NSP7"
   ]
  },
  {
   "cell_type": "markdown",
   "id": "b5eeb2b4",
   "metadata": {},
   "source": [
    "i) Il y a 12 GO de type CC pour ORF6"
   ]
  },
  {
   "cell_type": "markdown",
   "id": "ad20d864",
   "metadata": {},
   "source": [
    "## Question 7"
   ]
  },
  {
   "cell_type": "markdown",
   "id": "28cb41d1",
   "metadata": {},
   "source": [
    "a) La condition while (length(SARS_genes_count) <= 25) au début de boucle while est utilisée pour contrôler le nombre de cycles de la boucle. Cette condition signifie que tant que la longueur (c'est-à-dire le nombre d'éléments) de la liste SARS_genes_count est inférieure ou égale à 25, la boucle continuera à s'exécuter."
   ]
  },
  {
   "cell_type": "markdown",
   "id": "04014463",
   "metadata": {},
   "source": [
    "b) Cette transformation est un moyen efficace de gérer et de visualiser des données de significativité, en particulier lorsqu'on travaille avec de grandes quantités de données, comme c'est souvent le cas dans les analyses génomiques."
   ]
  },
  {
   "cell_type": "markdown",
   "id": "44e7146f",
   "metadata": {},
   "source": [
    "c) rownames_matrix <- GO_enrich_matrix[,1] , Cette ligne extrait la première colonne de GO_enrich_matrix et l'assigne à la variable rownames_matrix.\n",
    "\n",
    "GO_enrich_matrix <- GO_enrich_matrix[,-c(1)], Cette ligne supprime la première colonne de GO_enrich_matrix. Le ,-c(1) signifie \"toutes les colonnes sauf la première\"."
   ]
  },
  {
   "cell_type": "markdown",
   "id": "d897bb61",
   "metadata": {},
   "source": [
    "d) Il y a 256 coleurs."
   ]
  },
  {
   "cell_type": "markdown",
   "id": "1508ff77",
   "metadata": {},
   "source": [
    "e) Le paramètre cellwidth dans la fonction pheatmap de R, il permet de modifier la largeur des carrés (cellules) dans le heatmap. "
   ]
  },
  {
   "cell_type": "markdown",
   "id": "2d8c3981",
   "metadata": {},
   "source": [
    "## QUESTION 8"
   ]
  },
  {
   "cell_type": "code",
   "execution_count": null,
   "id": "7bd23c73",
   "metadata": {},
   "outputs": [],
   "source": []
  },
  {
   "cell_type": "markdown",
   "id": "c30c053a",
   "metadata": {},
   "source": [
    "## QUESTION 9"
   ]
  },
  {
   "cell_type": "markdown",
   "id": "99986d63",
   "metadata": {},
   "source": [
    "a) La matrice contenue dans le fichier \"GTEx_Tissu_Abundance.xlsx\" semble être structurée en plusieurs sections, chacune ayant un titre descriptif :\n",
    "\n",
    "    Section \"A. Protein copies\" : Cette section semble présenter le nombre de copies de protéines par cellule dans différents tissus.\n",
    "\n",
    "    Section \"B. Transcript copies\" : Cette partie fournit probablement des informations sur le nombre de copies de transcrits (ARNm) par cellule.\n",
    "\n",
    "    Section \"C. Protein copies (52 proteins)\" : Ici, il semble y avoir des données spécifiques sur le nombre de copies pour 52 protéines quantifiées dans les tissus.\n",
    "\n",
    "Table EV5 | Number of transcipt and protein copies in 29 tissues  \\\n",
    "0                                                NaN                 \n",
    "1                                  A. Protein copies                 \n",
    "2                               B. Transcript copies                 \n",
    "3                    C. Protein copies (52 proteins)                 \n",
    "\n",
    "                                          Unnamed: 1  \n",
    "0                                                NaN  \n",
    "1                  Number or protein copies per cell  \n",
    "2                     Number or transcripts per cell  \n",
    "3  Copy number of 52 proteins which were quantifified\n",
    "\n"
   ]
  },
  {
   "cell_type": "markdown",
   "id": "7a739e52",
   "metadata": {},
   "source": [
    "b)Le code transforme les données de deux façons :\n",
    "\n",
    "**Transformation Logarithmique :** Toutes les valeurs dans les colonnes à partir de la quatrième colonne sont transformées en utilisant la fonction logarithme de base 10. Cela est fait pour normaliser les données et rendre les écarts de grandeurs plus gérables, particulièrement utile dans les analyses où les valeurs varient sur de larges échelles, comme c'est souvent le cas avec les données d'expression génique.\n",
    "\n",
    "**Remplacement des Valeurs Infinies par NA :** Après la transformation logarithmique, les valeurs de zéro dans les données originales deviennent des valeurs infinies (puisque log(0) tend vers l'infini négatif). Le code remplace ces valeurs infinies par NA (Not Available) pour éviter les erreurs dans les analyses ultérieures.\n",
    "\n",
    "Ces étapes permettent d'améliorer la qualité des données pour des analyses statistiques et de visualisation plus robustes."
   ]
  },
  {
   "cell_type": "markdown",
   "id": "2c479acc",
   "metadata": {},
   "source": [
    "## Question 10"
   ]
  },
  {
   "cell_type": "markdown",
   "id": "32b3655e",
   "metadata": {},
   "source": [
    "a) Le graphique semble être un barplot représentant le -log10 des valeurs p pour différents tissus. Cela indique la magnitude de la significativité statistique des résultats obtenus pour chaque tissu, avec des valeurs plus élevées indiquant une plus grande significativité.\n",
    "\n",
    "\n",
    "c) En général, une valeur p inférieure à 0.05 est considérée comme significative. Sur ce graphique, les valeurs sont présentées en -log10(p-value). Une p-value de 0.05 correspond à une valeur de -log10(p-value) d'environ 1.3. Étant donné que toutes les barres semblent être inférieures à 0.3 sur l'échelle -log10, cela suggère que les résultats ne seraient pas considérés comme statistiquement significatifs selon le seuil conventionnel de 0.05."
   ]
  },
  {
   "cell_type": "code",
   "execution_count": null,
   "id": "1d0cad04",
   "metadata": {},
   "outputs": [],
   "source": []
  },
  {
   "cell_type": "code",
   "execution_count": null,
   "id": "8332f894",
   "metadata": {},
   "outputs": [],
   "source": []
  },
  {
   "cell_type": "code",
   "execution_count": null,
   "id": "2e05dbe9",
   "metadata": {},
   "outputs": [],
   "source": []
  }
 ],
 "metadata": {
  "kernelspec": {
   "display_name": "Python 3 (ipykernel)",
   "language": "python",
   "name": "python3"
  },
  "language_info": {
   "codemirror_mode": {
    "name": "ipython",
    "version": 3
   },
   "file_extension": ".py",
   "mimetype": "text/x-python",
   "name": "python",
   "nbconvert_exporter": "python",
   "pygments_lexer": "ipython3",
   "version": "3.9.13"
  }
 },
 "nbformat": 4,
 "nbformat_minor": 5
}
