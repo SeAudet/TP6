{
 "cells": [
  {
   "cell_type": "markdown",
   "id": "80218134",
   "metadata": {},
   "source": [
    "# TP 6"
   ]
  },
  {
   "cell_type": "markdown",
   "id": "1f7506ba",
   "metadata": {},
   "source": [
    "## Question 1"
   ]
  },
  {
   "cell_type": "markdown",
   "id": "c02a5180",
   "metadata": {},
   "source": [
    "a)"
   ]
  },
  {
   "cell_type": "raw",
   "id": "46711cbe",
   "metadata": {},
   "source": [
    "Pour voir les fichiers du TP: ll /cours/a23_bcm3553_bcm6010-a/cours/TP6/*\n",
    "Aller dans le bon repertoire ou on veut les copier avant, pour les copier avec un lien symbolique:ln -s /cours/a23_bcm3553_bcm6010-a/cours/TP6/data\n",
    "et ln -s /cours/a23_bcm3553_bcm6010-a/cours/TP6/script\n",
    "Pour le working directory: setwd(\"~/BCM3553/TP6\")"
   ]
  },
  {
   "cell_type": "markdown",
   "id": "5db614a9",
   "metadata": {},
   "source": [
    "b)"
   ]
  },
  {
   "cell_type": "raw",
   "id": "0cd352e7",
   "metadata": {},
   "source": [
    "\"/apps_rh8/Local_rh8/R/R-4.3.1/lib64/R/library/msdata/microtofq/MM14.mzML\"\n",
    "et \n",
    "\"/apps_rh8/Local_rh8/R/R-4.3.1/lib64/R/library/msdata/microtofq/MM8.mzML\""
   ]
  },
  {
   "cell_type": "markdown",
   "id": "f1213cfe",
   "metadata": {},
   "source": [
    "c)"
   ]
  },
  {
   "cell_type": "raw",
   "id": "15b8b1fa",
   "metadata": {},
   "source": [
    "Pour voir lequel des deux fichiers est un example, on utilise la commande runInfo sur chacune. C`est le fichier mz14 qui est un example puisqu`il n`y a pas de valeurs low Mz et highMz et qu`il n`y a pas de startTimeStamp. De plus, la commande instrumentInfo nous permet de voir qu`il n`y a pas d`information sur l`instrument de MS pour mz14, donc il s`agit d`un exemple."
   ]
  },
  {
   "cell_type": "markdown",
   "id": "86e370df",
   "metadata": {},
   "source": [
    "d)"
   ]
  },
  {
   "cell_type": "raw",
   "id": "57504c70",
   "metadata": {},
   "source": [
    "La deuxieme et troisieme valeur de la commande runInfo sont les valeurs minimales et maximales detectees de masse sur charge."
   ]
  },
  {
   "cell_type": "markdown",
   "id": "8d9f5f06",
   "metadata": {},
   "source": [
    "## Question 2"
   ]
  },
  {
   "cell_type": "markdown",
   "id": "bb406971",
   "metadata": {},
   "source": [
    "a)"
   ]
  },
  {
   "cell_type": "raw",
   "id": "392fa8b9",
   "metadata": {},
   "source": [
    "Non, ils ne contiennent pas le meme type d`informations. le fichier mzidMascot contient des informations supplementaires compare a l`autre fichier soit:[19] \"Mascot.identity.threshold\"                       \n",
    "[20] \"Mascot.homology.threshold\"                       \n",
    "[21] \"number.of.peptide.seqs.compared.to.each.spectrum\""
   ]
  },
  {
   "cell_type": "markdown",
   "id": "9fd2c08e",
   "metadata": {},
   "source": [
    "b)"
   ]
  },
  {
   "cell_type": "raw",
   "id": "d7bf37a8",
   "metadata": {},
   "source": [
    "Le peptide « KDLYGNVVLSGGTTMYEGIGER » a deux masses experimentales soit 792.3792 et 792.5295. pour trouver ces infos il faut utiliser la commande head(psms(mzidTandem))[, 1:13]"
   ]
  },
  {
   "cell_type": "markdown",
   "id": "0d880e6a",
   "metadata": {},
   "source": [
    "c)"
   ]
  },
  {
   "cell_type": "raw",
   "id": "c4b28f41",
   "metadata": {},
   "source": [
    "La proteine est la HSP70 provenant du Echinococcus granulosus (Hydatid tapeworm)"
   ]
  },
  {
   "cell_type": "markdown",
   "id": "6dbbab60",
   "metadata": {},
   "source": [
    "d)"
   ]
  },
  {
   "cell_type": "raw",
   "id": "85d42945",
   "metadata": {},
   "source": [
    "La preparation des echantillons de ces deux experiences a ete faite avec la trypsine. Elle sert a digerer les peptides en plus petits morceaux pour l`analyse MS."
   ]
  },
  {
   "cell_type": "markdown",
   "id": "863dba84",
   "metadata": {},
   "source": [
    "## Question 3"
   ]
  },
  {
   "cell_type": "markdown",
   "id": "d05f8dd4",
   "metadata": {},
   "source": [
    "a)"
   ]
  },
  {
   "cell_type": "raw",
   "id": "4a4b0195",
   "metadata": {},
   "source": [
    "Il y a 1012 associés au spectre #2 du fichier"
   ]
  },
  {
   "cell_type": "markdown",
   "id": "617c1dc0",
   "metadata": {},
   "source": [
    "b)"
   ]
  },
  {
   "cell_type": "raw",
   "id": "3905ae0b",
   "metadata": {},
   "source": [
    "les signaux ayant la plus grande intensité sont dans le spectre 1 qui atteignent des valeurs de l`ordre de 1.5 e+07 et les plus petit ratio masse/charge sont dans le spectre 5 qui a le plus de valeurs a gauche."
   ]
  },
  {
   "cell_type": "markdown",
   "id": "9ee190af",
   "metadata": {},
   "source": [
    "c)"
   ]
  },
  {
   "cell_type": "raw",
   "id": "426f819a",
   "metadata": {},
   "source": [
    "Ils servent a voir une vue generale du spectre et pour faciliter la comparison et la quantification des spectres."
   ]
  },
  {
   "cell_type": "markdown",
   "id": "eb7751da",
   "metadata": {},
   "source": [
    "## Question 4"
   ]
  },
  {
   "cell_type": "markdown",
   "id": "09f74597",
   "metadata": {},
   "source": [
    "a)"
   ]
  },
  {
   "cell_type": "raw",
   "id": "cd2d4f8c",
   "metadata": {},
   "source": [
    "1528 echantillons ont été analysés."
   ]
  },
  {
   "cell_type": "markdown",
   "id": "d655bdfc",
   "metadata": {},
   "source": [
    "b)"
   ]
  },
  {
   "cell_type": "raw",
   "id": "7d7f0adf",
   "metadata": {},
   "source": [
    "La proteine 4 a ete diluee selon ; 1/10 – 1/4 – 1/2 – 1/1 – 1/2 – 1/10"
   ]
  },
  {
   "cell_type": "markdown",
   "id": "20eb702e",
   "metadata": {},
   "source": [
    "c)"
   ]
  },
  {
   "cell_type": "raw",
   "id": "1fb6c87f",
   "metadata": {},
   "source": [
    "On ne semble plus s’intéresser à « TRYP_PIG » (PHO) puiqu`elle est uniforme pour chaque rapporteur et on ajoute « ECA » (Enterobacterial Common Antigen) pour avoir une spectre de couleur plus complet et pouvoir faire des meilleures comparaisons."
   ]
  },
  {
   "cell_type": "markdown",
   "id": "f691efa0",
   "metadata": {},
   "source": [
    "d)"
   ]
  },
  {
   "cell_type": "raw",
   "id": "3d32b244",
   "metadata": {},
   "source": [
    "Le rapporteur 129 a la concentration la plus grande de BSA."
   ]
  },
  {
   "cell_type": "markdown",
   "id": "0998b169",
   "metadata": {},
   "source": [
    "e)"
   ]
  },
  {
   "cell_type": "raw",
   "id": "e2bd633d",
   "metadata": {},
   "source": [
    "Le signal CYT est present deux fois dans le heatmap et il est different pour tous les rapporteurs excepte le rapporteur 131. c`est pour ceci qu`on ne peut confirmer sa presence que dans ce rapporteur. Dans le dernier graphique on peut voir que le signal du haut atteint le signal du bas avec sa barre d`erreur dans le rapporteur 131."
   ]
  },
  {
   "cell_type": "markdown",
   "id": "7e3ad2a9",
   "metadata": {},
   "source": [
    "## Question 5"
   ]
  },
  {
   "cell_type": "markdown",
   "id": "59f2da80",
   "metadata": {},
   "source": [
    "a)"
   ]
  },
  {
   "cell_type": "raw",
   "id": "47a8ca36",
   "metadata": {},
   "source": [
    "Puisque le fichier est .tsv soit tab separated values"
   ]
  },
  {
   "cell_type": "markdown",
   "id": "290706f7",
   "metadata": {},
   "source": [
    "b)"
   ]
  },
  {
   "cell_type": "raw",
   "id": "49c14ae9",
   "metadata": {},
   "source": [
    "On aurait pu utiliserle C3 regulatory target gene sets(genes regulatoires) ou le C1 positional gene sets (genes de position)"
   ]
  },
  {
   "cell_type": "markdown",
   "id": "8916491e",
   "metadata": {},
   "source": [
    "c)"
   ]
  },
  {
   "cell_type": "raw",
   "id": "b0a723be",
   "metadata": {},
   "source": [
    "Il y a 9 types de donnees total."
   ]
  },
  {
   "cell_type": "markdown",
   "id": "39fdf441",
   "metadata": {},
   "source": [
    "## Question 6"
   ]
  },
  {
   "cell_type": "markdown",
   "id": "5a6d0f56",
   "metadata": {},
   "source": [
    "a)"
   ]
  },
  {
   "cell_type": "raw",
   "id": "c509d0e6",
   "metadata": {},
   "source": [
    "Il y a 304 proteines prey et 25 proteines bait incluant ORF6, ORF8 et ORF3B."
   ]
  },
  {
   "cell_type": "markdown",
   "id": "b3d80277",
   "metadata": {},
   "source": [
    "b)"
   ]
  },
  {
   "cell_type": "raw",
   "id": "ebc989a1",
   "metadata": {},
   "source": [
    "La fonction unique sert a extraire seulement les valeurs uniques du fichier et eviter les doublons."
   ]
  },
  {
   "cell_type": "markdown",
   "id": "ebc160b5",
   "metadata": {},
   "source": [
    "c)"
   ]
  },
  {
   "cell_type": "raw",
   "id": "292d1b08",
   "metadata": {},
   "source": [
    "Les parametres  minGSSize et maxGSSize servent a mettre des seuils de grandeur pour les gene sets. les valeurs de significativitée sont donnees par la fonction en format de data frame."
   ]
  },
  {
   "cell_type": "markdown",
   "id": "25525077",
   "metadata": {},
   "source": [
    "d)"
   ]
  },
  {
   "cell_type": "raw",
   "id": "1edcd2a4",
   "metadata": {},
   "source": [
    "On enleve 6037 lignes."
   ]
  },
  {
   "cell_type": "markdown",
   "id": "23e55042",
   "metadata": {},
   "source": [
    "e)"
   ]
  },
  {
   "cell_type": "raw",
   "id": "d18b7cb3",
   "metadata": {},
   "source": [
    "On enleve 329 lignes."
   ]
  },
  {
   "cell_type": "markdown",
   "id": "da517c23",
   "metadata": {},
   "source": [
    "f)"
   ]
  },
  {
   "cell_type": "raw",
   "id": "e57cc400",
   "metadata": {},
   "source": [
    "La banque de données contenant les gènes / GO humain est org.Hs.eg.db"
   ]
  },
  {
   "cell_type": "markdown",
   "id": "2927edf2",
   "metadata": {},
   "source": [
    "g)"
   ]
  },
  {
   "cell_type": "raw",
   "id": "81d12262",
   "metadata": {},
   "source": [
    "« Glycoprotein metabolic processing » est un BP\n",
    "« Golgi apparatus subcompartment » est un CC\n",
    "« DNA replication initiation » est un BP\n",
    "« Endopeptidase activity » est un MF"
   ]
  },
  {
   "cell_type": "markdown",
   "id": "6e6272a9",
   "metadata": {},
   "source": [
    "h)"
   ]
  },
  {
   "cell_type": "raw",
   "id": "8ab0aec3",
   "metadata": {},
   "source": [
    "83 termes de GO s`associent a NSP7 comme le HS2ST1/SELENOS."
   ]
  },
  {
   "cell_type": "markdown",
   "id": "52dc0240",
   "metadata": {},
   "source": [
    "i)"
   ]
  },
  {
   "cell_type": "raw",
   "id": "4ef1367d",
   "metadata": {},
   "source": [
    "Il y a juste un GO de type CC pour ORF6 soit GOCC_NUCLEAR_PORE."
   ]
  },
  {
   "cell_type": "markdown",
   "id": "62882ba9",
   "metadata": {},
   "source": [
    "j)"
   ]
  },
  {
   "cell_type": "raw",
   "id": "a8dd7e0e",
   "metadata": {},
   "source": [
    "Le terme GO le plus significatif appartient au bait ORF8, 16 proteines prey participent a l`enrichissement du signal et le log 10 de la valeur ajustee est de 13.899994"
   ]
  },
  {
   "cell_type": "markdown",
   "id": "3531598d",
   "metadata": {},
   "source": [
    "## Question 7"
   ]
  },
  {
   "cell_type": "markdown",
   "id": "95cb291c",
   "metadata": {},
   "source": [
    "a)"
   ]
  },
  {
   "cell_type": "raw",
   "id": "5780fb3b",
   "metadata": {},
   "source": [
    "Le bloc de code à l'intérieur de la boucle sera répété jusqu'à ce que 25 gènes SARS aient été ajoutés à la variable. apres la condition devient fausse et la boucle arrete."
   ]
  },
  {
   "cell_type": "markdown",
   "id": "4b997202",
   "metadata": {},
   "source": [
    "b)"
   ]
  },
  {
   "cell_type": "raw",
   "id": "d384be60",
   "metadata": {},
   "source": [
    "On transforme la valeur de significativite pour réduire l'impact des valeurs extrêmes."
   ]
  },
  {
   "cell_type": "markdown",
   "id": "35728c29",
   "metadata": {},
   "source": [
    "c)"
   ]
  },
  {
   "cell_type": "raw",
   "id": "4058bd6f",
   "metadata": {},
   "source": [
    "Les valeurs de la première colonne de la matrice sont extraites et stockées dans rownames_matrix puis on efface cette colonne dans la matrice."
   ]
  },
  {
   "cell_type": "markdown",
   "id": "abd735b9",
   "metadata": {},
   "source": [
    "d)"
   ]
  },
  {
   "cell_type": "raw",
   "id": "a7e74512",
   "metadata": {},
   "source": [
    "colors 3 est compose de 9 couleurs."
   ]
  },
  {
   "cell_type": "markdown",
   "id": "87a3ddd3",
   "metadata": {},
   "source": [
    "e)"
   ]
  },
  {
   "cell_type": "raw",
   "id": "808677d6",
   "metadata": {},
   "source": [
    "Pour changer la largeur des carres du heatmap il faut modifier le parametre \"cellwidth\""
   ]
  },
  {
   "cell_type": "markdown",
   "id": "ed67cd4e",
   "metadata": {},
   "source": [
    "## Question 8"
   ]
  },
  {
   "cell_type": "markdown",
   "id": "717addea",
   "metadata": {},
   "source": [
    "a)"
   ]
  },
  {
   "cell_type": "raw",
   "id": "218770a3",
   "metadata": {},
   "source": [
    "Oui, c'est ORF8 qui saute le plus aux yeux dans le heatmap comme on avait dit a la question 6 "
   ]
  },
  {
   "cell_type": "markdown",
   "id": "405501e2",
   "metadata": {},
   "source": [
    "b)"
   ]
  },
  {
   "cell_type": "raw",
   "id": "877b8934",
   "metadata": {},
   "source": [
    "Le resultat reste interessant on peut tout de meme voir un peut de couleur pour le NSP12 a l'endroit des granules des stress cytoplasmiques et du RNA splicing. De toutes facons un resultat \"negatif\" peut tout de meme etre un resultat interessant. C'est bien de savoir qu'est-ce qu'il y a mais aussi ce qu'il n'y a pas."
   ]
  },
  {
   "cell_type": "markdown",
   "id": "81115510",
   "metadata": {},
   "source": [
    "c)"
   ]
  },
  {
   "cell_type": "raw",
   "id": "41659c5b",
   "metadata": {},
   "source": [
    "On choisi les GO selon ce qui nous interesse. Dans ce cas, puisqu'il s'agit d'un virus, on veut savoir comment il interagit. Ceci peut donc etre fait en a analysant le transport mitochondrial, les pore nucleaires et les constituents structuraux du pore nucleaire. soit les regions plus foncees pour NSP9 "
   ]
  },
  {
   "cell_type": "markdown",
   "id": "592b3d44",
   "metadata": {},
   "source": [
    "d)"
   ]
  },
  {
   "cell_type": "raw",
   "id": "54b53fbb",
   "metadata": {},
   "source": [
    "Les potentielles fonctions de ces proteines sont de permettre l'acces au noyau via les pores nucleaires, transformer les pores nuclaires grace aux proteines structurales des pore nucleaires et utiliser le transport mitochondrial pour rediriger les sources d'energie de la cellule."
   ]
  },
  {
   "cell_type": "markdown",
   "id": "3a613d02",
   "metadata": {},
   "source": [
    "e)"
   ]
  },
  {
   "cell_type": "raw",
   "id": "4911e2a3",
   "metadata": {},
   "source": [
    "Parce qu'ils interagissent pas avec des proteines cellulaires (peut etre des proteines structurelles) ou parce que elles interagissent avec des GO qui ne sont pas dans le heatmap."
   ]
  },
  {
   "cell_type": "markdown",
   "id": "6631808a",
   "metadata": {},
   "source": [
    "## Question 9"
   ]
  },
  {
   "cell_type": "markdown",
   "id": "fbf47333",
   "metadata": {},
   "source": [
    "a)"
   ]
  },
  {
   "cell_type": "raw",
   "id": "3d0ba5d9",
   "metadata": {},
   "source": [
    "On peut voir les GENE.ID et les PROTEIN.ID ainsi que le noms des genes et les tissus dans lequel chaque protein se trouve."
   ]
  },
  {
   "cell_type": "markdown",
   "id": "3d2eb47e",
   "metadata": {},
   "source": [
    "b)"
   ]
  },
  {
   "cell_type": "raw",
   "id": "d91a1646",
   "metadata": {},
   "source": [
    "Les colonnes des tissus subissent un transformation de log base 10. Ceci est souvent fait pour stabiliser la variance et réduire l'impact des valeurs extrêmes."
   ]
  },
  {
   "cell_type": "markdown",
   "id": "5f472322",
   "metadata": {},
   "source": [
    "## Question 10 "
   ]
  },
  {
   "cell_type": "markdown",
   "id": "f2c11df4",
   "metadata": {},
   "source": [
    "a)"
   ]
  },
  {
   "cell_type": "raw",
   "id": "27900899",
   "metadata": {},
   "source": [
    "Le diagramme nous permet de voir les tissus les plus affectes (aussi les moins affectes) par l'interaction avec SARS"
   ]
  },
  {
   "cell_type": "markdown",
   "id": "56fa1fd5",
   "metadata": {},
   "source": [
    "b)"
   ]
  },
  {
   "cell_type": "raw",
   "id": "c618395a",
   "metadata": {},
   "source": [
    "Oui ce qui est attendu de SARS-COV2 est d'affecter les poumons ainsi que les organes lymphoides. \"SARS viral particles and genomic sequence were detected in a large number of circulating lymphocytes, monocytes, and lymphoid tissues, as well as in the epithelial cells of the respiratory tract, the mucosa of the intestine, the epithelium of the renal distal tubules, the neurons of the brain, and macrophages in different organs.\" Gu, Jiang et al. “Multiple organ infection and the pathogenesis of SARS.” The Journal of experimental medicine vol. 202,3 (2005): 415-24. doi:10.1084/jem.20050828"
   ]
  },
  {
   "cell_type": "markdown",
   "id": "6c7bf9a9",
   "metadata": {},
   "source": [
    "c)"
   ]
  },
  {
   "cell_type": "raw",
   "id": "63cd7018",
   "metadata": {},
   "source": [
    "puisque le -log10 de 0.05 est 1.3. toutes les valeurs en -log10 qui sont plus petites que 1.3 sont des p values plus grandes que 0.05. Cela veut dire qu'aucun resultat est significatif.  "
   ]
  }
 ],
 "metadata": {
  "kernelspec": {
   "display_name": "Python 3 (ipykernel)",
   "language": "python",
   "name": "python3"
  },
  "language_info": {
   "codemirror_mode": {
    "name": "ipython",
    "version": 3
   },
   "file_extension": ".py",
   "mimetype": "text/x-python",
   "name": "python",
   "nbconvert_exporter": "python",
   "pygments_lexer": "ipython3",
   "version": "3.10.12"
  }
 },
 "nbformat": 4,
 "nbformat_minor": 5
}
