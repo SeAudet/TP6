{
 "cells": [
  {
   "cell_type": "markdown",
   "id": "8aadd80f",
   "metadata": {},
   "source": [
    "# TRAVAIL PRATIQUE #6"
   ]
  },
  {
   "cell_type": "markdown",
   "id": "7080b2d2",
   "metadata": {},
   "source": [
    "But : Trouver avec quelles proteines humaines interagissent les proteines virales de Sars-Cov2\n",
    "\n",
    "Chaque proteine a un tag strep, Donc on purifie sur colonne ainsi que toutes les proteines humaines liees."
   ]
  },
  {
   "cell_type": "markdown",
   "id": "038a6af5",
   "metadata": {},
   "source": [
    "## QUESTION 1 - Utilisation de RforProteomics - Fichiers sommaire d'expérience MS"
   ]
  },
  {
   "cell_type": "markdown",
   "id": "2cfa6d24",
   "metadata": {},
   "source": [
    "a) $ mkdir TP6\n",
    "   $ cd TP6\n",
    "   $ ln -s /cours/a23_bcm3553_bcm6010-a/cours/TP6/* .\n",
    "   $ cp script/TP6_Processing.Rmd tp6_code_R.Rmd\n"
   ]
  },
  {
   "cell_type": "markdown",
   "id": "46b5f222",
   "metadata": {},
   "source": [
    "b) Le chemin complet du répertoire est :\n",
    "/apps_rh8/Local_rh8/R/R-4.3.1/lib64/R/library/msdata/microtofq"
   ]
  },
  {
   "cell_type": "markdown",
   "id": "7e076e01",
   "metadata": {},
   "source": [
    "c) MM14, on remarque qu'il y a aucune masse sur charge."
   ]
  },
  {
   "cell_type": "markdown",
   "id": "6e3dbb41",
   "metadata": {},
   "source": [
    "d) La masse sur charge basse et haute..."
   ]
  },
  {
   "cell_type": "markdown",
   "id": "b4b46a77",
   "metadata": {},
   "source": [
    "## QUESTION 2 - Fichier d'identification des peptides"
   ]
  },
  {
   "cell_type": "markdown",
   "id": "fecd95b0",
   "metadata": {},
   "source": [
    "a) Oui, cependant le fichier Mascot contient plus d'information tel que, par exemple, le mascot identity treshold."
   ]
  },
  {
   "cell_type": "markdown",
   "id": "583726be",
   "metadata": {},
   "source": [
    "b) La masse expérimentale est de 2376. Puisque la masse sur charge est de 792 et la charge est de 3, donc 792*3. "
   ]
  },
  {
   "cell_type": "markdown",
   "id": "0c28f186",
   "metadata": {},
   "source": [
    "c) La protéine HP70 chez l'organisme Ecchinococcus granulosus."
   ]
  },
  {
   "cell_type": "markdown",
   "id": "83b09063",
   "metadata": {},
   "source": [
    "d) La trypsine. Cette protéase coupent spécifiquement les liaisons dans lesquelles sont engagées les groupements carboxyliques de la lysine et de l'arginine.\n",
    "\n",
    "Référence: Dictionnaire Médical de l'Académie de Médecine, consultée le 14 novembre 2023.https://www.academie-medecine.fr/le-dictionnaire/index.php?q=trypsine"
   ]
  },
  {
   "cell_type": "markdown",
   "id": "7c9495d8",
   "metadata": {},
   "source": [
    "## QUESTION 3 - Fichiers de signal MS 'raw' et leur Peptide Spectral Match à des protéines"
   ]
  },
  {
   "cell_type": "markdown",
   "id": "10cc8e1c",
   "metadata": {},
   "source": [
    "a) 2921 peaks sont associés au spectre 2 du fichier. "
   ]
  },
  {
   "cell_type": "markdown",
   "id": "a7529eb6",
   "metadata": {},
   "source": [
    "b) Le spectre 1 possède les signaux ayant la plus grande intensité et le spectre 5 est celui qui possède les plus petits rations m/z."
   ]
  },
  {
   "cell_type": "markdown",
   "id": "2aa1c17c",
   "metadata": {},
   "source": [
    " c) Le réactif iTRAQ est un ion rapporteur qui permet le marquage de l'extrémité N-terminale des lysines qui ont été digérées par la trypsine et de voir en combien de peptides ont été coupés les protéines.\n",
    " \n",
    " Référence : Introduction of Isobaric Tag for Relative and Absolute Quantitation (iTRAQ), consultée le 14 novembre 2023. Creative Proteomics Blog, https://www.creative-proteomics.com/blog/index.php/introduction-of-isobaric-tag-for-relative-and-absolute-quantitation-itraq/"
   ]
  },
  {
   "cell_type": "markdown",
   "id": "25c34e2e",
   "metadata": {},
   "source": [
    "## QUESTION 4 - Reconstruction des données peptidiques et visualisation graphique"
   ]
  },
  {
   "cell_type": "markdown",
   "id": "f4e1d198",
   "metadata": {},
   "source": [
    "a) 6 échantillons"
   ]
  },
  {
   "cell_type": "markdown",
   "id": "f4760f77",
   "metadata": {},
   "source": [
    "b) ALBU_BOVIN"
   ]
  },
  {
   "cell_type": "markdown",
   "id": "fda39d0a",
   "metadata": {},
   "source": [
    "c) Nous ne nous intéressons plus à TRYP PIG puisque nous avons observé aucun signal sur le matplot. De plus, nous avons ajouté ECA au heatmap pour visualiser et comparer les données au background. En effet, ECA est le contrôle négatif."
   ]
  },
  {
   "cell_type": "markdown",
   "id": "72c97d77",
   "metadata": {},
   "source": [
    "d) Le raporteur 129."
   ]
  },
  {
   "cell_type": "markdown",
   "id": "daab5849",
   "metadata": {},
   "source": [
    "e) Puisque, selon le ggplot, l'intensé du signal pour CYT est semblable à celle du background excepté pour le rapporteur 131. Il n'y a donc pas de différence significative d'intensité dans les autres échantillons par rapport au background. Ce dernier graphique est utile puisqu'il permet de visualiser et de comparer beaucoup plus clairement l'intensité des échantillons avec le background."
   ]
  },
  {
   "cell_type": "markdown",
   "id": "00136215",
   "metadata": {},
   "source": [
    "## QUESTION 5 – Traitement des données pour enrichissement de GO"
   ]
  },
  {
   "cell_type": "markdown",
   "id": "4e6635b1",
   "metadata": {},
   "source": [
    "a) L'extension de fichier .tsv signifie tab-separated values. Un fichier en format tsv comporte donc des données séparées par des tables. Pour fragmenter les données du fichier, il faut donc utiliser la commande qui sépare le fichier à chaque fois que l'on rencontre un tab dans celui-ci."
   ]
  },
  {
   "cell_type": "markdown",
   "id": "89ae46c1",
   "metadata": {},
   "source": [
    "b) Nous aurions aussi pu utiliser le sous-ensemble MF du terme C5 qui fait référence à la base de données des gènes dérivée de GO Molecular Function Ontology. \n",
    "\n",
    "Référence: Human MSigDB Collections, Gene Set Enrichment Analysis, consultée le 16 novembre 2023, https://www.gsea-msigdb.org/gsea/msigdb/collections.jsp"
   ]
  },
  {
   "cell_type": "markdown",
   "id": "91b59ac0",
   "metadata": {},
   "source": [
    "c) 10561 termes GO sont disponibles."
   ]
  },
  {
   "cell_type": "markdown",
   "id": "bb285064",
   "metadata": {},
   "source": [
    "## QUESTION 6 – Comprendre nos données (Prey vs Bait & termes GO associés)\n"
   ]
  },
  {
   "cell_type": "markdown",
   "id": "a2e9ce3a",
   "metadata": {},
   "source": [
    "a) Il y a 25 baits et 304 preys. Trois des baits : NSP4, M, E."
   ]
  },
  {
   "cell_type": "markdown",
   "id": "6b10f28f",
   "metadata": {},
   "source": [
    "b) La fonction unique sert à extraire les éléments d'une plage sans montrer des duplicats. Ici, on l'utilise pour obtenir la liste des baits dans le fichier SARS_massSpec."
   ]
  },
  {
   "cell_type": "markdown",
   "id": "091ab381",
   "metadata": {},
   "source": [
    "c) Les seuils minGSSize et maxGSSize permettent d'ignorer les ensembles contenant un nombre de gènes inférieur au minGSSize et supérieur au maxGSSize dans notre ensemble total de données. (Entre 10 et 500 ici). Les données significatives sont exportées sous format de dataframe.\n",
    "\n",
    "Référence : Gene Set Enrichment Analysis with ClusterProfiler, NGS Analysis, consultée le 19 novembre 2023, https://learn.gencore.bio.nyu.edu/rna-seq-analysis/gene-set-enrichment-analysis/"
   ]
  },
  {
   "cell_type": "markdown",
   "id": "7d7ce0ef",
   "metadata": {},
   "source": [
    "d) 1278 lignes sont éliminées."
   ]
  },
  {
   "cell_type": "markdown",
   "id": "b496c28a",
   "metadata": {},
   "source": [
    "e) 32 lignes ont été éliminées."
   ]
  },
  {
   "cell_type": "markdown",
   "id": "92c5e30e",
   "metadata": {},
   "source": [
    "f) On utilise la base de données rrvgo."
   ]
  },
  {
   "cell_type": "markdown",
   "id": "e931bf2c",
   "metadata": {},
   "source": [
    "g) Glycoprotein metabolic process: BP\n",
    "   Golgi apparatus subcompartment: CC\n",
    "   DNA replication initiation : BP\n",
    "   Endopeptidase activity : MF"
   ]
  },
  {
   "cell_type": "markdown",
   "id": "777e5ffc",
   "metadata": {},
   "source": [
    "h) 220 termes associés au bait NSP7. Un exemple : GOMF GTPASE ACTIVITY."
   ]
  },
  {
   "cell_type": "markdown",
   "id": "f107f686",
   "metadata": {},
   "source": [
    "i) 1 seul CC pour ORF6. Nuclear Pore."
   ]
  },
  {
   "cell_type": "markdown",
   "id": "752b2c39",
   "metadata": {},
   "source": [
    "j) Endoplasmic reticulum lumen, ORF8, 16 protéines prey, exemple : TOR1A, valeur p ajustée : 16.9056032"
   ]
  },
  {
   "cell_type": "markdown",
   "id": "c5e0d900",
   "metadata": {},
   "source": [
    "## QUESTION 7 - Préparation des données pour le Heatmap"
   ]
  },
  {
   "cell_type": "markdown",
   "id": "aa7e2fb1",
   "metadata": {},
   "source": [
    "a) Si on active la variable SARS_genes_count, la boucle sert à passer chaque ligne du fichier et d'imprimer seulement les termes pour lesquels il y a au moins 25 comptes."
   ]
  },
  {
   "cell_type": "markdown",
   "id": "aa46aaa3",
   "metadata": {},
   "source": [
    "b) La transformation des valeurs sert à mieux visualiser les visualiser. (Accentuer la différence en utilisant le log10)."
   ]
  },
  {
   "cell_type": "markdown",
   "id": "e8496eca",
   "metadata": {},
   "source": [
    "c) Les deux lignes servent à déterminer quelles colonnes de la matrice utiliser en tant que noms des lignes du HeatMap et des valeurs qui doivent être utilisées pour sa création."
   ]
  },
  {
   "cell_type": "markdown",
   "id": "37e2ea46",
   "metadata": {},
   "source": [
    "d) 9 couleurs."
   ]
  },
  {
   "cell_type": "markdown",
   "id": "8a71327b",
   "metadata": {},
   "source": [
    "Référence : THE A – Z OF RCOLORBREWER PALETTE, Data Novia, consultée le 21 novembre 2023, https://www.datanovia.com/en/blog/the-a-z-of-rcolorbrewer-palette/"
   ]
  },
  {
   "cell_type": "markdown",
   "id": "1839215e",
   "metadata": {},
   "source": [
    "e) Le paramètre cellwidth permet de modifier la largeur des carrés du heatmap."
   ]
  },
  {
   "cell_type": "markdown",
   "id": "ff86c9ef",
   "metadata": {},
   "source": [
    "Référence : pheatmap: A function to draw clustered heatmaps, R Documentation, consultée le 21 novembre 2023, https://www.rdocumentation.org/packages/pheatmap/versions/1.0.12/topics/pheatmap"
   ]
  },
  {
   "cell_type": "markdown",
   "id": "de652647",
   "metadata": {},
   "source": [
    "## QUESTION 8 - Enfin on regarde les résultats"
   ]
  },
  {
   "cell_type": "markdown",
   "id": "8f36da0c",
   "metadata": {},
   "source": [
    "a) Oui, en regardant le heatmap, on observe que c'est bel et bien le terme endoplasmic reticulum lumen associé au bait ORF8 qui est le plus significatif."
   ]
  },
  {
   "cell_type": "markdown",
   "id": "8fdb7c89",
   "metadata": {},
   "source": [
    "b) Si on regarde l'article, la bait NSP12 est une ARN polymérase virale et notre prey humaine la plus significative pour NSP12 est RNA splicing. Les deux sont homologues en terme de groupe de fonctions ce qui pourrait expliquer l'interaction de ces deux peptides. (Le virus utilise l'appareil de transcription de l'hôte)"
   ]
  },
  {
   "cell_type": "markdown",
   "id": "664e2e9a",
   "metadata": {},
   "source": [
    "c) Les termes sont choisis selon leur abondance pour construire le heatmap, si on regarde les trois preys les plus significativement liées à NSP9, elles appartiennent également au même groupe de fonctions qui est le transport nucléaire (et mitochondrial) en vue d'exploiter les systèmes de réplication. Il n'est donc pas étonnant de retrouver les particules virales aux pores nucléaires et aux membranes des mitochondries."
   ]
  },
  {
   "cell_type": "markdown",
   "id": "d41b34ea",
   "metadata": {},
   "source": [
    "d) Dans le même ordre d'idées, sachant que NSP9 est une protéine non structurale, elle semble jouer un rôle important dans la liaison du virus au noyau."
   ]
  },
  {
   "cell_type": "markdown",
   "id": "fc8ab67d",
   "metadata": {},
   "source": [
    "e) Certains baits ne semblent pas avoir aucune interation significative avec les preys les plus abondantes. Deux raisons peuvent probablement expliquer cette observation; soit ces baits ne sont pas retrouvées de facon abondante chez le virus soit elles ont des homologies de séquences dans des domaines conservés avec les preys, mais aucune interaction significative et intéressante."
   ]
  },
  {
   "cell_type": "markdown",
   "id": "b74577df",
   "metadata": {},
   "source": [
    "## QUESTION 9 - Données pour le diagramme  à bandes"
   ]
  },
  {
   "cell_type": "markdown",
   "id": "8f95a704",
   "metadata": {},
   "source": [
    "a) La matrice proteome_tissue contient l'abondance des gènes retrouvés dans différents tissus. Ce sont des données qui ont été récoltées dans la base à partir du séquencage d'ARN."
   ]
  },
  {
   "cell_type": "markdown",
   "id": "dca46099",
   "metadata": {},
   "source": [
    "b) La modification effectuée permet de transformer les abondances en log10."
   ]
  },
  {
   "cell_type": "markdown",
   "id": "82fe5a12",
   "metadata": {},
   "source": [
    "## QUESTION 10 - Visualisation des données tissus"
   ]
  },
  {
   "cell_type": "markdown",
   "id": "2efb90d7",
   "metadata": {},
   "source": [
    "a) Le graphique nous permet de voir que les protéines humaines qui interagissent avec SARS-cov se retrouvent en plus grande quantité dans le poumon, ce qui est attendu puisque cet organe est le premier site infecté par les virus respiratoires. Par contre, on voit une distribution étendue dans tous les tissus."
   ]
  },
  {
   "cell_type": "markdown",
   "id": "a1b92867",
   "metadata": {},
   "source": [
    "b) Oui, les résultats sont consistants avec ce qui est attendu pour SARS-CoV2. : < ACE-2 has a ubiquitous distribution in the organs, with the consequence that SARS-CoV-2 infection may affect the lungs primarily, leading to respiratory failure. However, this infection simultaneously involves several organs, from kidneys to the heart, blood vessels, liver, pancreas, and immune system >*"
   ]
  },
  {
   "cell_type": "markdown",
   "id": "33255c67",
   "metadata": {},
   "source": [
    "*Torge, D., Bernardi, S., Arcangeli, M., Bianchi, S. Histopathological Features of SARS-CoV-2 in Extrapulmonary Organ Infection: A Systematic Review of Literature. Pathogens. 2022 Aug; 11(8):867"
   ]
  },
  {
   "cell_type": "markdown",
   "id": "ab549531",
   "metadata": {},
   "source": [
    "c) Les résultats ne sont pas significatifs ici puisque le log des p values est inférieur à 1.3 (p=0.05)."
   ]
  }
 ],
 "metadata": {
  "kernelspec": {
   "display_name": "Python 3 (ipykernel)",
   "language": "python",
   "name": "python3"
  },
  "language_info": {
   "codemirror_mode": {
    "name": "ipython",
    "version": 3
   },
   "file_extension": ".py",
   "mimetype": "text/x-python",
   "name": "python",
   "nbconvert_exporter": "python",
   "pygments_lexer": "ipython3",
   "version": "3.10.12"
  }
 },
 "nbformat": 4,
 "nbformat_minor": 5
}
