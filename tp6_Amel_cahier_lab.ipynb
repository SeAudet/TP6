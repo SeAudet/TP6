{
 "cells": [
  {
   "cell_type": "markdown",
   "id": "f94afe08",
   "metadata": {},
   "source": [
    "# TP 6 Protéomique"
   ]
  },
  {
   "cell_type": "markdown",
   "id": "ae6cbfc3",
   "metadata": {},
   "source": [
    "## Théorie :\n",
    "\n",
    "- L’évolution des technologies en protéomique a permis l’augmentation du débit pour les résultats ( allant du Western Blot où on testait quelques protéines , puis ELISA jusqu’à LC-MS qui a permis de connaitre ce qui se passe en protéomique dans une cellule au complet).\n",
    "\n",
    "- En protéomique (20 acides aminés) le signal est beaucoup moins clair qu’en transcriptomique car en transcriptomique on a 4 bases donc c’est plus facile de déterminer le signal pour ces bases.\n",
    "\n",
    "- Dogmes biologique dans le cas de protéomique : la structure secondaires, des modifications post-traductionnelles,  clivage,…etc.\n",
    "\n",
    "- Préparation d’échantillons peptidiques : \n",
    "    *\tIsolation des protéines (dénaturation).\n",
    "    *\tTraitement de ces protéines pour pouvoir les utiliser ( ex la digestion par la trypsine , purification pour éliminer les bruits de fond,…etc).\n",
    "    *\tUtilisation de LC-MS pour avoir le signal des ions ( n’importe quel composé chimique peut être détecté).\n",
    "\n",
    "- Création d’un signal via LC-MS[MS] Adapté à partir de : \n",
    "   *\tChromatographie en phase liquide: Séparation selon la taille et propriété.\n",
    "   *\tSpectrométrie de masse: comparer les masses / charge (m/z) \n",
    "   *\tDétecter un changement de courant puis le transforme en signal digital.\n",
    "\n",
    "- On obtient des spectres différents qui apparaissent à des temps différents. Ces spectres ont plusieurs pics ( un peptide ne va pas donner un seul pic car il peut être décomposé à plusieurs endroits).\n",
    "\n",
    "- Mise en contexte du TP :\n",
    "  * A partir d’un génome viral du COVID19, prendre chaque protéine produite par SARS COV2 puis voir chacune de ces protéines individuellement avec quelles protéines humaines peuvent elles interagir. \n",
    "\n",
    "  * Dans le génome viral on a : \n",
    "    -\tProtéine ORF : Polyprotéines facilitant la réplication \n",
    "    -\tProtéine NSP : « Protéines non-structurales » \n",
    "    -\tStructural proteins : Compose la capsule et membrane \n",
    "    -\tAccessory factors : Petites protéines aux rôles (peu connus) d’augmenter la virulence.\n",
    "\n",
    "  * Baits :  une protéine spécifique ( dans ce cas celle du virus) utilisée comme appât pour attirer d'autres protéines avec lesquelles elle pourrait interagir.\n",
    "\n",
    "  * Prey : sont les protéines candidates (dans ce cas protéines humaines) qui peuvent interagir avec le \"bait\".\n",
    "\n",
    "  * Chaque échantillon est un bait.\n",
    "\n",
    "- Si une protéine COVID interagisse avec plusieurs protéines humaines qui sont par exemple dans le cerveau , donc on peut dire que l’infection COVID affecte les fonctions cérébrales."
   ]
  },
  {
   "cell_type": "markdown",
   "id": "4240fc03",
   "metadata": {},
   "source": [
    "## Partie 01 : "
   ]
  },
  {
   "cell_type": "markdown",
   "id": "8bc16cdf",
   "metadata": {},
   "source": [
    "## QUESTION 1 – Utilisation de RforProteomics - Fichiers sommaire d’expérience MS "
   ]
  },
  {
   "cell_type": "markdown",
   "id": "89440ed9",
   "metadata": {},
   "source": [
    "### a) Écrivez les commandes qui vous ont permis d’accéder aux données du TP (lien symbolique, copie) et le répertoire de travail subséquemment indiqué dans le script R (2 points)."
   ]
  },
  {
   "cell_type": "code",
   "execution_count": null,
   "id": "e389dc90",
   "metadata": {},
   "outputs": [],
   "source": [
    "a)\n",
    "# Création du répertoire TP6\n",
    "$ cd Documents/BCM6010\n",
    "$ mkdir TP6\n",
    "\n",
    "# Création du lien symbolique dans le répertoire TP6\n",
    "$ cd TP6\n",
    "$ ln -s /cours/a23_bcm3553_bcm6010-a/cours/TP6/\n",
    "\n",
    "# Copier le script R dans le répertoire TP6\n",
    "$ cp ~/Documents/BCM6010/TP6/TP6/script/TP6_Processing.Rmd ~/Documents/BCM6010/TP6/\n",
    "\n",
    "# Ouvrir le script TP6_Processing.Rmd \n",
    "$ rstudio &\n",
    "puis choisir le script TP6_Processing.Rmd\n"
   ]
  },
  {
   "cell_type": "markdown",
   "id": "9a64e6bb",
   "metadata": {},
   "source": [
    "### b) Dans la première section de travail (peptides), quel est le chemin complet du répertoire dans lequel vous prenez les fichiers de métadonnées MS pour MM8 & MM14? (1 point)"
   ]
  },
  {
   "cell_type": "code",
   "execution_count": null,
   "id": "6a307f80",
   "metadata": {},
   "outputs": [],
   "source": [
    "b)\n",
    "- Dans le script, le chemin complet du répertoire pour les fichiers de métadonnées MS MM8 et MM14 est défini par la variable filepath. \n",
    "               filepath <- system.file(\"microtofq\", package = \"msdata\")\n",
    "- La fonction system.file(\"microtofq\", package = \"msdata\") renvoie le chemin complet du répertoire où sont stockéesles données de \"msdata\" dans le sous-répertoire \"microtofq\".\n",
    "\n",
    "- Pour afficher le chemin complet, on peut ajouter au script aprés l`éxécution du code de cette partie: View(filepath). ou bien print(filepath)\n",
    "\n",
    "- Le chemin complet du répertoire dans lequel vous prenez les fichiers de métadonnées MS pour MM8 est :\n",
    "    \"/apps_rh8/Local_rh8/R/R-4.3.1/lib64/R/library/msdata/microtofq/MM8.mzML\"\n",
    "    \n",
    "- le chemin complet du répertoire dans lequel vous prenez les fichiers de métadonnées MS pour MM14 est :\n",
    "    \"/apps_rh8/Local_rh8/R/R-4.3.1/lib64/R/library/msdata/microtofq/MM14.mzML\"\n",
    "    "
   ]
  },
  {
   "cell_type": "markdown",
   "id": "884e2c8b",
   "metadata": {},
   "source": [
    "###  c) En regardant information disponible pour MM8 & MM14, vous pouvez constater que l’un des deux n’est qu’un fichier d’exemple sans peptides. Lequel, et comment le voyez-vous (2 points)"
   ]
  },
  {
   "cell_type": "code",
   "execution_count": null,
   "id": "3e5d9487",
   "metadata": {},
   "outputs": [],
   "source": [
    "c) \n",
    "-Les résultats obtenus de l`éxécution de runInfo sont :\n",
    "  - Pour MM14 :\n",
    "    scanCount 112\n",
    "    lowMz 0\n",
    "    highMz 0\n",
    "    dStartTime 270.334\n",
    "    dEndTime 307.678\n",
    "    msLevels 1\n",
    "\n",
    "  - Pour MM8 :\n",
    "    scanCount 198 (Nombre total de scans MS/MS dans le fichier)\n",
    "    lowMz 95.51765\n",
    "    highMz 1005.043\n",
    "    dStartTime 0.486 (Temps de début)\n",
    "    dEndTime 66.7818 (Temps de fin)\n",
    "    msLevels 1 (Nombre de niveaux de spectrométrie de masse dans l'expérience)\n",
    "   \n",
    "-Dans un fichier d'exemple sans peptides, en géneral on s'attend à un nombre de scans MS/MS nul ou très faible, car il n'y aurait pas de peptides à fragmenter. Aussi, les données spectralescomme lowMz et highMz pourraient être nulles ou faibles.\n",
    "De plus, on peut avoir une absence de valeurs significatives(pas de peptides à mesurer).\n",
    "\n",
    "-MM14 a un nombre de scans MS/MS de 112, tandis que MM8 a un nombre de scans MS/MS plus élevé 198 ce qui indique plus de données expérimentale, suggèrant ainsi que MM14 peut étre un fichier d'exemple sans peptides.\n",
    " Un autre point a prendre en concidération est: les valeurs de lowMz et highMz. Pour MM14 sont égales à 0 (qui indiquent une plage de masse spectrométrique nulle) contrairement a MM8. \n",
    " ce qui renforce l'idée que MM14 pourrait être un fichier d'exemple sans peptides.\n"
   ]
  },
  {
   "cell_type": "markdown",
   "id": "ec174595",
   "metadata": {},
   "source": [
    "### d) Via la commande « runInfo » sur le fichier n’étant pas vide, indiquez ce que signifie la deuxième et la troisième valeur vous étant retourné (1 point). "
   ]
  },
  {
   "cell_type": "code",
   "execution_count": null,
   "id": "b8a0c2df",
   "metadata": {},
   "outputs": [],
   "source": [
    "d)\n",
    "En utilisant la commande runInfo, le fichier MM8 n`est pas vide. \n",
    "     - La deuxième valeurs est lowMz 95.51765.\n",
    "     - la troisième valeurs est highMz 1005.043. \n",
    "Ces valeurs indiquent la plage de spectrométrie de masse couverte par les données dans le fichier MM8.\n"
   ]
  },
  {
   "cell_type": "markdown",
   "id": "f5c297cc",
   "metadata": {},
   "source": [
    "## QUESTION 2 – Fichier d’identification des peptides"
   ]
  },
  {
   "cell_type": "markdown",
   "id": "8ebe3d64",
   "metadata": {},
   "source": [
    "### a) On vous fournit les fichiers identifiant pour deux expérience MS différentes. Contiennent-ils exactement les mêmes types d’information? Expliquez votre réponse en quelques mots. (1 point) "
   ]
  },
  {
   "cell_type": "code",
   "execution_count": null,
   "id": "18a97ef1",
   "metadata": {},
   "outputs": [],
   "source": [
    "a)\n",
    "- On peut utiliser ces 2 commandes pour voir le contenu :\n",
    "     View(enzymes(mzidTandem))\n",
    "     View(enzymes(mzidMascot))\n",
    "\n",
    "\n",
    "Les fichiers Tandem.mzid.gz et Mascot_MSMS.mzid.gz, ne contiennent pas exactement les mêmes types d'informations. \n",
    "Bien qu'ils partagent des informations communes (\"spectrumID\",\"chargeState\", \"rank\", \"passThreshold\", \"experimentalMassToCharge\", \"calculatedMassToCharge\", \"sequence\", \n",
    "\"peptideRef\", \"modNum\", \"isDecoy\", \"post\", \"pre\", \"start\"), il y a quelques différences:\n",
    "   - Pour Tandem.mzid.gz : Il a l'information \"enzymes\".\n",
    "   - Pour Mascot_MSMS.mzid.gz : Il a l'information \"number.of.peptide.seqs.compared.to.each.spectrum\".\n",
    "   - Pour Tandem.mzid.gz : Nombre de PSMs (correspondance spectre/peptide) : 171\n",
    "   - Pour Mascot_MSMS.mzid.gz : Nombre de PSMs (correspondance spectre/peptide) : 136\n",
    "   - La principale différence réside dans le nombre de coupures manquées autorisées par l'enzyme Trypsin (missedClevages), qui est de 1 pour Tandem.mzid.gz et de 2 pour Mascot_MSMS.mzid.gz.\n",
    "\n"
   ]
  },
  {
   "cell_type": "markdown",
   "id": "313b86cc",
   "metadata": {},
   "source": [
    "### b) Dans le fichier Tandem, vous pouvez trouver le peptide « KDLYGNVVLSGGTTMYEGIGER ». Quelle est sa masse expérimentale ici? Dites comment vous avez trouvé l’information. (2 points) "
   ]
  },
  {
   "cell_type": "code",
   "execution_count": null,
   "id": "f3e45655",
   "metadata": {},
   "outputs": [],
   "source": [
    "b)\n",
    "- Selon les résultats obtenus, la masse expérimentale du peptide KDLYGNVVLSGGTTMYEGIGER est :\n",
    "     > masse_experimentale 792.3792  792.5295  et aussi un fichier comportant ces 2 valeurs 792 793 (peut étre cette petite différence de valeurs est due a une certaine varaibilité dans la mesure experimentale de la masse du peptide mais ce n`est pas une grosse différence).\n",
    "          donc grosso-modo ca tourne autour de 792\n",
    "\n",
    "- Commande utilisé :\n",
    "    # Rechercher le peptide \"KDLYGNVVLSGGTTMYEGIGER\"\n",
    "      row_index <- which(peptide_info$sequence == \"KDLYGNVVLSGGTTMYEGIGER\")\n",
    "\n",
    "    # Trouver la masse expérimentale du peptide\n",
    "      masse_experimentale <- peptide_info[row_index, \"experimentalMassToCharge\"]\n",
    "      View(masse_experimentale)\n",
    "    "
   ]
  },
  {
   "cell_type": "markdown",
   "id": "f751c088",
   "metadata": {},
   "source": [
    "### c) Dans le fichier Mascot, le premier peptide qui apparait est « DAGTISGLNVLR », et le premier résultat (couvrant les position 161-172 de la protéine associée) semble offrir la meilleure association. Quelle est la protéine & l’organisme d’où provient ce peptide ionisé? (2 points)"
   ]
  },
  {
   "cell_type": "code",
   "execution_count": null,
   "id": "1db0c08c",
   "metadata": {},
   "outputs": [],
   "source": [
    "c) \n",
    "- La protéine est :Heat shock cognate 70 kDa protein (HSP70).\n",
    "- L`organisme est : Echinococcus granulosus."
   ]
  },
  {
   "cell_type": "markdown",
   "id": "bde5bf71",
   "metadata": {},
   "source": [
    "### d) Quelle peptidase a servie à la préparation des échantillons de ces deux expériences? Comment fonctionne-t-elle (en quelques mots seulement)? (2 points) "
   ]
  },
  {
   "cell_type": "code",
   "execution_count": null,
   "id": "372648fb",
   "metadata": {},
   "outputs": [],
   "source": [
    "d)\n",
    "- La peptidase utilisée pour la préparation des échantillons dans les 2 expériences est la trypsine.\n",
    "- La trypsine est une endopeptidase qui clive les liaisons peptidiques du côté C-terminal des résidus de lysine et d'arginine, sauf s`ils sont suivis d'une proline. \n",
    "La typsine permet de génerer des peptides a partir des protéines, pour cela elle est utilisée en protéomique afin de générer des fragments peptidiques lors de l'analyse par SM.\n"
   ]
  },
  {
   "cell_type": "markdown",
   "id": "f575ec9c",
   "metadata": {},
   "source": [
    "## QUESTION 3 – Fichiers de signal MS « Raw » et leur « Peptide Spectral Match » à des protéines "
   ]
  },
  {
   "cell_type": "markdown",
   "id": "7e7e18b0",
   "metadata": {},
   "source": [
    "### a) En regardant le sommaire de notre fichier « raw », combien de « peaks » ionique sont associés au spectre #2 du fichier? (1 points)"
   ]
  },
  {
   "cell_type": "code",
   "execution_count": null,
   "id": "c8b19dc2",
   "metadata": {},
   "outputs": [],
   "source": [
    "a)\n",
    "Il est possible d`utiliser cette commande pour faciliter les choses:\n",
    "    Les résultats obtenus de la commande View (raw[[2]])\n",
    "       Object of class \"Spectrum2\"\n",
    "       Precursor: 546.9586 \n",
    "       Retention time: 25:02 \n",
    "       Charge: 3 \n",
    "       MSn level: 2 \n",
    "       Peaks count: 1012 \n",
    "       Total ion count: 56758067 (Le compteur total d'ions pour ce spectre)\n",
    "    \n",
    "Donc le nombre de peaks ionique est 1012 dans ce spectre. \n",
    "                       "
   ]
  },
  {
   "cell_type": "markdown",
   "id": "0b4e0994",
   "metadata": {},
   "source": [
    "### b) Via la représentation graphique des spectres de peptides, quel spectre possède les signaux ayant la plus grande intensité, et lequel possède les plus petit ratio masse/charge? (2 points)"
   ]
  },
  {
   "cell_type": "code",
   "execution_count": null,
   "id": "b368f806",
   "metadata": {},
   "outputs": [],
   "source": [
    "b) \n",
    "- Le spectre qui possède les signaux ayant la plus grande intensité est le spectre 1 (intensité maximale 1.5e+07).\n",
    "\n",
    "- Le spectre qui possède les plus petit ratio masse/charge est le spectre 5 (maximum presque 750).\n"
   ]
  },
  {
   "cell_type": "markdown",
   "id": "b3551fd6",
   "metadata": {},
   "source": [
    "### c) À quoi servent les rapporteurs iTRAQ ici? (2 points) "
   ]
  },
  {
   "cell_type": "code",
   "execution_count": null,
   "id": "ec132970",
   "metadata": {},
   "outputs": [],
   "source": [
    "c) Les rapporteurs iTRAQ (isobaric Tags for Relative and Absolute Quantitation) utilisés dans les expériences despectrométrie de masse (MS) afin de quantifier relativement des protéines. Ces rapporteurs chimiques sont des tags qui vont se fixer de manière covalente aux peptides, ce qui permet la différenciation des \n",
    "échantillons dans une expérience multiplexe (ils permetent d'identifier les peptides et d'associer les rapports iTRAQ spécifiques aux protéines correspondantes, ce qui facilitel'analyse quantitative).\n"
   ]
  },
  {
   "cell_type": "markdown",
   "id": "97a6e99b",
   "metadata": {},
   "source": [
    "## QUESTION 4 – Reconstruction des données peptidiques et visualisation graphique "
   ]
  },
  {
   "cell_type": "markdown",
   "id": "a2c34c4e",
   "metadata": {},
   "source": [
    "### a) Combien d’échantillons (et non protéines) ont été analysés (1 points). "
   ]
  },
  {
   "cell_type": "code",
   "execution_count": null,
   "id": "5829756e",
   "metadata": {},
   "outputs": [],
   "source": [
    "a) Le tout c`est 16 échantiollons : \n",
    "    - 4 cell line N1 N2 N3 N4.\n",
    "    - 4 conditions différentes pour chaque cell line : Untreated, Albuterol, Dexamethasone, Albuterol_Dexamethasone.\n",
    "    "
   ]
  },
  {
   "cell_type": "markdown",
   "id": "4deb8a58",
   "metadata": {},
   "source": [
    "### b) Les signaux proviennent de peptides de protéines connu (ex : PYGM_Rabit), à des concentrations connues. En regardant le premier graphique matplot, quelle protéine avait été dilué comme-ci à travers les données ; 1/10 – 1/4 – 1/2 – 1/1 – 1/2 – 1/10 (2 points) : "
   ]
  },
  {
   "cell_type": "code",
   "execution_count": null,
   "id": "76c73d18",
   "metadata": {},
   "outputs": [],
   "source": [
    "b)\n",
    "La protéine qui a été diluée comme-ci à travers les données ; 1/10 – 1/4 – 1/2 – 1/1 – 1/2 – 1/10 est: ENO1_YEAST\n",
    "    \n",
    "    - une dilution de 1/10 donc une faible dilution ce qui donne une intensité du signal élevée.\n",
    "    - une dilution de 1/4 donc une dilution moyenne ce qui donne une intensité du signal moins élevée.\n",
    "    - une dilution de 1/2 donc une dilution importante ce qui donne une intensité du signal faible.\n",
    "    - une dilution de 1/1 donc une dilution trés importante ce qui donne une intensité du signal trés faible.\n",
    "    - une dilution de 1/2 donc une dilution importante ce qui donne une intensité du signal faible.\n",
    "    - une dilution de 1/10 donc une faible dilution ce qui donne une intensité du signal élevée.\n",
    "    "
   ]
  },
  {
   "cell_type": "markdown",
   "id": "6cddfef9",
   "metadata": {},
   "source": [
    "### c) En regardant maintenant le heatmap, pourquoi on ne semble plus s’intéresser à « TRYP_PIG » et pourquoi on ajouter « ECA » (Enterobacterial Common Antigen) (2 points). "
   ]
  },
  {
   "cell_type": "code",
   "execution_count": null,
   "id": "7092f9a4",
   "metadata": {},
   "outputs": [],
   "source": [
    "c)\n",
    "En regardant maintenant le heatmap, on ne semble plus s’intéresser à « TRYP_PIG » et on a ajouté « ECA » car :\n",
    "    - Exclusion de \"TRYP_PIG\" : peut étre dû à la fabile intensité du signal aux différentes dilutions (on suggére que cela est a cause de sa faible abondance ou faible variabilité dans les échantillons).\n",
    "    - Inclusion d'\"ECA\" (Enterobacterial Common Antigen) : peut étre parece que \"ECA\" présente une variabilité significative entre les échantillons ( l`intensité de la couleur dans le heatmap change selon l`échantillon). \n",
    "                                                                                                        "
   ]
  },
  {
   "cell_type": "markdown",
   "id": "ebdf0780",
   "metadata": {},
   "source": [
    "### d) Quel rapporteur a la plus grande concentration d’albumine bovine? (1 point)"
   ]
  },
  {
   "cell_type": "code",
   "execution_count": null,
   "id": "cc73d07b",
   "metadata": {},
   "outputs": [],
   "source": [
    "d)\n",
    "La plus grande concentration d'albumine bovine est associée à la valeur la moins négative. Donc, la concentration d'albumine bovine la moins diminuée est dans le cas du rapporteur-129 avec la valeur de -1.992278 dans BSA.3 ( tableau m ou bien selon l`intensité de la couleur dans le heatmap).\n"
   ]
  },
  {
   "cell_type": "markdown",
   "id": "8bf84c10",
   "metadata": {},
   "source": [
    "### e) Pourquoi, malgré le fait qu’on retrouve un signal CYT dans 4 rapporteurs selon le heatmap, ne peut-on confirmer la présence que dans Rapporteur 131? Dernier graphique est utile ici (2 points)"
   ]
  },
  {
   "cell_type": "code",
   "execution_count": null,
   "id": "456c7bc2",
   "metadata": {},
   "outputs": [],
   "source": [
    "e)\n",
    "Malgré le fait qu’on retrouve un signal CYT dans 4 rapporteurs selon le heatmap, ne peut-on confirmer la présence que dans Rapporteur 131 car :\n",
    "    - Le signal CYT est trés intense dans le rapporteur 131 (plus intense que dans les autres rapporteurs), cela pourrait indiquer que ce rapporteur a une  spécificité plus élevée pour le peptide CYT par rapport aux autres (dans le heatmap la couleur est plus intense dans le rapporteur 131 et selon le dernier graphique le taux d`intensité du signal est la plus élevée). \n"
   ]
  },
  {
   "cell_type": "markdown",
   "id": "37bb427a",
   "metadata": {},
   "source": [
    "## QUESTION 5 – Traitement des données pour enrichissement de GO"
   ]
  },
  {
   "cell_type": "markdown",
   "id": "d3c789ca",
   "metadata": {},
   "source": [
    "### a) Question basique sur les formats de fichiers : Sans regarder le contenu de « Gordon_PPI.tsv », comment est-ce qu’on sait que « sep = \"\\t\" » est nécessaire pour la lecture (1 point). "
   ]
  },
  {
   "cell_type": "code",
   "execution_count": null,
   "id": "34ce664b",
   "metadata": {},
   "outputs": [],
   "source": [
    "a)\n",
    "- Sans regarder directement le contenu du fichier \"Gordon_PPI.tsv\", en se basant sur l'extension du fichier \".tsv\"il est possible de déduire que \"sep = \"\\t\"\" est nécessaire.\n",
    "- Ce \"sep = \"\\t\"\" dans la lecture de fichiers suggère que les valeurs dans le fichier sont séparées par des tabulationsm donc le fichier est au format TSV (Tab-Separated Values). \n",
    "En spécifiant ce paramétre, le programme va pouvoir interpréter correctement la structure du fichier et extraire les données de manière appropriée en regroupant les différentes valeurs dans une tabulation.\n"
   ]
  },
  {
   "cell_type": "markdown",
   "id": "aeeafb77",
   "metadata": {},
   "source": [
    "### b) On extrait les termes GO que nous allons utiliser dans « go_symbols ». Nous utilisons « C5.GO », mais quel autre types de termes aurait-on pu utiliser sachant que l’on s’intéresse à des voies moléculaires associées à des fonctions de cellules normales (googlé le nom du fichiers). (2 points)"
   ]
  },
  {
   "cell_type": "code",
   "execution_count": null,
   "id": "2c13ba04",
   "metadata": {},
   "outputs": [],
   "source": [
    "b)\n",
    "Selon NCIB et geneontoly.org,Il est possible d`utiliser « C1.GO » ou « C3.GO ». Chaque collection se concentre sur des aspects particuliers \n",
    "de la biologie:\n",
    "    - C1.GO : concerne les termes de la GO associés aux composants cellulaires (désignent les termes de structures cellulaires et ceux des parties internes d'une cellule ).\n",
    "    - C3.GO : ( Plus pertinante ) concerne les termes de la GO associés aux processus biologiques ( déterminent les processus et les activités que les cellules effectuent pour accomplir leurs fonctions).\n"
   ]
  },
  {
   "cell_type": "markdown",
   "id": "1a7fc92c",
   "metadata": {},
   "source": [
    "### c) Nous faisons l’extraction de trois types de données pour nos termes GO (exactSource, term, collection), mais combien était disponible au total dans le fichier d’annotation (1 point)."
   ]
  },
  {
   "cell_type": "code",
   "execution_count": null,
   "id": "17b58d6d",
   "metadata": {},
   "outputs": [],
   "source": [
    "c) Il était disponible 10 types de données :\n",
    "      - systematicName\n",
    "      - pmid\n",
    "      - exactSource\n",
    "      - geneSymbols\n",
    "      - msigdbURL\n",
    "      - externalDetailsURL\n",
    "      - filteredBySimilarity\n",
    "      - externalNamesForSimilarTerms\n",
    "      - collection\n",
    "      - term\n"
   ]
  },
  {
   "cell_type": "markdown",
   "id": "64928904",
   "metadata": {},
   "source": [
    "## QUESTION 6 – Comprendre nos données (Prey vs Bait & termes GO associés)"
   ]
  },
  {
   "cell_type": "markdown",
   "id": "6e0816d8",
   "metadata": {},
   "source": [
    "### a) Au total, l’expérience protéomique a permis de récolter les signaux de milliers de peptides, qui ont pu être reconstruit en 304 protéines (2-40 par protéines SARS-CoV2). Juste pour s’assurer que vous comprenez l’expérience. Combien y a-t-il protéines « Prey »? Combien de protéines « Bait »? Nommé trois de ces « Baits ». Nous sommes à la 1ère ligne de code de processing_GO. (3 points) "
   ]
  },
  {
   "cell_type": "code",
   "execution_count": null,
   "id": "74df22da",
   "metadata": {},
   "outputs": [],
   "source": [
    "a)\n",
    "Baits : une protéine spécifique ( dans ce cas celle du virus) utilisée comme appât pour attirer d'autres protéines avec lesquelles elle pourrait interagir.\n",
    "\n",
    "Prey : sont les protéines candidates (dans ce cas protéines humaines) qui peuvent interagir avec le \"bait\".\n",
    "\n",
    "- Nombre de Prey : 304 preys.\n",
    "    \n",
    "- Nombre de Bait : 27 Baits.\n",
    "    il est possible d`utiliser cette commande pour avoir directement le nombre :\n",
    "        View(SARS_protein_list <- unique(SARS_massSpec$Bait_COVID.19))\n",
    "        \n",
    "- 3 de ces Baits : NSP12, ORF6, ORF3A.\n",
    "    "
   ]
  },
  {
   "cell_type": "markdown",
   "id": "904ea9c4",
   "metadata": {},
   "source": [
    "### b) Expliquer à quoi sert la fonction « unique » / pourquoi on l’utilise ici? (2 points) "
   ]
  },
  {
   "cell_type": "code",
   "execution_count": null,
   "id": "e5f62d31",
   "metadata": {},
   "outputs": [],
   "source": [
    "b)\n",
    "- Afin d`extraire les valeurs uniques d'une colonne ou d'un vecteur dans un dataframe, la fonction unique en R est utilisée. \n",
    "\n",
    "- Dans notre script, la fonction unique est utilisée afin d`obtenir la liste unique des « Baits » (protéines SARS-CoV2) a partir du dataframe SARS_massSpec ( permet d`éliminer les doublons),facilitant ainsi l'application de la fonction d'analyse d'enrichissement de GO à chaque protéine SARS-CoV2 de \n",
    "manière distincte.\n"
   ]
  },
  {
   "cell_type": "markdown",
   "id": "8595834e",
   "metadata": {},
   "source": [
    "### c) Dans notre fonction « GO_OverRep_Analysis », nous traitons d’un coup les résultats de l’outil clusterProfiler. Expliquez rapidement à quoi servent les seuils min/maxGSsize, puis dites dans quel format les valeurs de significativité sont données par la fonction (3 points). "
   ]
  },
  {
   "cell_type": "code",
   "execution_count": null,
   "id": "1271101f",
   "metadata": {},
   "outputs": [],
   "source": [
    "c)\n",
    "- Dans la fonction « GO_OverRep_Analysis », nous traitons d’un coup les résultats de l’outil clusterProfiler. Les seuils minGSSize et maxGSSizesont utilisés pour filtrer les gènes qui sont soumis à l'analyse d'enrichissement(pour réduire le bruit dans les résultats de l'analyse d'enrichissement). \n",
    "     - minGSSize(taille minimale de l'ensemble de gènes) : c`est la taille minimale qu'un ensemble de gènes doit avoir pour qu`il soit inclus dans l'analyse ( donc les ensembles de gènes qui ont une taille en dessous de ce seuil seront exclus).\n",
    "     - maxGSSize(taille maximale de l'ensemble de gènes) : C`est la taille maximale qu'un ensemble de gènes ne doit pas dépasser pour être inclus dans l'analyse (donc au-dessus de cette taille, les ensembles de génes ne seront pas exclus).\n",
    "\n",
    "- Les valeurs de significativité données par la fonction sont sous format :\n",
    "    - numérique et représenté par l'attribut p.adjust (une mesure de la significativité statistique) dans le résultat de la fonction clusterProfiler::enricher.\n"
   ]
  },
  {
   "cell_type": "markdown",
   "id": "5af6313a",
   "metadata": {},
   "source": [
    "### d) À l’aide d’une ligne de code, on retire tous les termes GO où le score pour nos données est égal ou inférieur à 1 de « enriched_GOs_master_table ». Combien de lignes (GO) sont éliminées (1 point)? "
   ]
  },
  {
   "cell_type": "code",
   "execution_count": null,
   "id": "8ac9c1be",
   "metadata": {},
   "outputs": [],
   "source": [
    "d)\n",
    "Afin de trouver le nombre de lignes (GO) éliminées, on effectue ces commandes:\n",
    "      # Détermination du nombre de lignes avant la filtration\n",
    "      before <- nrow(enriched_GOs_master_table)\n",
    "      # Filtration des lignes\n",
    "      enriched_GOs_master_table <- enriched_GOs_master_table[enriched_GOs_master_table$Count > 1, ]\n",
    "      # Détermination du nombre de lignes après la filtration\n",
    "      after <- nrow(enriched_GOs_master_table)\n",
    "      # Calcul du nombre de lignes qui ont été éliminées\n",
    "      removed_rows <- before - after\n",
    "      # Affichage du résultat\n",
    "      View(removed_rows)\n",
    "    \n",
    "Donc 6037 lignes (GO) sont éliminées"
   ]
  },
  {
   "cell_type": "markdown",
   "id": "bdcb5f4c",
   "metadata": {},
   "source": [
    "### e) Même question, mais pour le nombre de termes GO qui ne passes pas le filtre de valeur P. (1 point)"
   ]
  },
  {
   "cell_type": "code",
   "execution_count": null,
   "id": "44586645",
   "metadata": {},
   "outputs": [],
   "source": [
    "e)\n",
    "Afin de trouver le nombre de lignes (GO) éliminées, on effectue ces commandes:\n",
    "    # Détermination du nombre de lignes avant la filtration basée sur la valeur p\n",
    "    before_p_filter <- nrow(enriched_GOs_master_table)\n",
    "    # On filtre également avec un seuil de valeur p\n",
    "    enriched_GOs_master_table <- enriched_GOs_master_table %>% \n",
    "       group_by(ID) %>% slice_max(order_by = log10_p.adj, n = 1)\n",
    "    # Détermination du nombre de lignes après la filtration basée sur la valeur p\n",
    "    after_p_filter <- nrow(enriched_GOs_master_table)\n",
    "    # Calcul du nombre de termes GO éliminés basés sur la valeur p\n",
    "    removed_rows_p_filter <- before_p_filter - after_p_filter\n",
    "    # Affichage du résultat\n",
    "    View(removed_rows_p_filter)\n",
    "\n",
    "Donc 552 lignes (GO) sont éliminées.\n"
   ]
  },
  {
   "cell_type": "markdown",
   "id": "8613a318",
   "metadata": {},
   "source": [
    "### f) Dans la fonction « reduce_GOredundancy », on fait appel à une banque de données contenant les gènes / GO humain, que l’on a déjà utilisé auparavant. Quel est le nom de celle-ci? (1 point)"
   ]
  },
  {
   "cell_type": "code",
   "execution_count": null,
   "id": "6d4dddff",
   "metadata": {},
   "outputs": [],
   "source": [
    "f)\n",
    "Dans la fonction « reduce_GOredundancy », on fait appel (via la fonction calculateSimMatrix) à une banque de données contenant les gènes / GO humain, \n",
    "que l’on a déjà utilisé auparavant qui est: \"org.Hs.eg.db\"."
   ]
  },
  {
   "cell_type": "markdown",
   "id": "b7d503fa",
   "metadata": {},
   "source": [
    "### g) Voici quelques termes GO. Dite-s’il s’agit de GO de type BP, MF, ou bien CC. (4 points) « Glycoprotein metabolic processing » / « Golgi apparatus subcompartment » / « DNA replication initiation » / « Endopeptidase activity »"
   ]
  },
  {
   "cell_type": "code",
   "execution_count": null,
   "id": "414b3e8d",
   "metadata": {},
   "outputs": [],
   "source": [
    "g)\n",
    "Selon \"geneontology.org\", \n",
    " processus biologique (BP), fonction moléculaire (MF), composant cellulaire (CC):\n",
    "    - « Glycoprotein metabolic processing » : BP \n",
    "    - « Golgi apparatus subcompartment » : CC \n",
    "    - « DNA replication initiation » : BP \n",
    "    - « Endopeptidase activity » : MF\n",
    "    "
   ]
  },
  {
   "cell_type": "markdown",
   "id": "aa998e4e",
   "metadata": {},
   "source": [
    "### h) Une fois la redondance filtrée via « apply_GO_nonRedundancy », à l’aide de la fonction View, dites combien de termes GO s’associe à NSP7, et nommez-en 1. (2 points)"
   ]
  },
  {
   "cell_type": "code",
   "execution_count": null,
   "id": "cf52010c",
   "metadata": {},
   "outputs": [],
   "source": [
    "h)\n",
    "- Une fois la redondance filtrée via « apply_GO_nonRedundancy », à l’aide de la commande View(enriched_GOs_noRe$NSP7), \n",
    "220 de termes GO s’associe à NSP7.\n",
    "- Un de ces termes est : GO BP POLYSACCHARIDE BIOSYNTHETIC PROCESS.\n",
    "    "
   ]
  },
  {
   "cell_type": "markdown",
   "id": "2743868b",
   "metadata": {},
   "source": [
    "### i) Notre fonction de typage des termes GO (sep_GOtype) nous permet d’analyser plus simplement nos données selon ce que l’on cherche (ex : processus biologiques apparaissent plus révélateurs). Suite à son application, combien de GO de type CC a-t-on pour ORF6? Nommez-en un. (2 points)"
   ]
  },
  {
   "cell_type": "code",
   "execution_count": null,
   "id": "61d7e542",
   "metadata": {},
   "outputs": [],
   "source": [
    "i) \n",
    "- Notre fonction de typage des termes GO (sep_GOtype) nous permet d’analyser plus simplement nos données selon ce que l’on cherche (ex : processus biologiques apparaissent plus révélateurs). Suite à son application, le nombre de GO de type CC qu`on a pour ORF6\n",
    "   est 1( avant l`application de cette fonction était 2).\n",
    "- Le nom d`un terme est GO CC NUCLEARP ORE\n"
   ]
  },
  {
   "cell_type": "markdown",
   "id": "3b966860",
   "metadata": {},
   "source": [
    "### j) Un peu plus tard, on applique la fonction « base::order » afin de trier nos données dans la matrice en fonction de leur significativité. Si l’on observe le résultat de cette transformation (vous pouvez utiliser View()), quel est le terme GO le plus significatif, à quel « Bait » appartient-il, combien de protéines « Prey » participent au signal d’enrichissement, nommez l’un de ces « Prey », puis donnez la valeur de significativité en log10 de la valeur p ajustée. (5 points) "
   ]
  },
  {
   "cell_type": "code",
   "execution_count": null,
   "id": "bc5d6e6d",
   "metadata": {},
   "outputs": [],
   "source": [
    "j)\n",
    "- Le terme GO le plus significatif(avec une valeur de p.adjust très basse (1.258944e-14))est:\"GO CC_ENDOPLASMIC_RETICULUM_LUMEN\"\n",
    "- Il appartient au « Bait »: ORF8\n",
    "- Nombre de protéines « Prey » participent au signal d’enrichissement: 16\n",
    "- Le nom de l’un de ces « Prey » est : TOR1A\n",
    "- La valeur de significativité en log10 de la valeur p ajustée est :13.899994\n"
   ]
  },
  {
   "cell_type": "markdown",
   "id": "dd11d34f",
   "metadata": {},
   "source": [
    "## Partie 02 :"
   ]
  },
  {
   "cell_type": "markdown",
   "id": "75ad6db2",
   "metadata": {},
   "source": [
    "## QUESTION 7 – Préparation des données pour le Heatmap"
   ]
  },
  {
   "cell_type": "markdown",
   "id": "ed131853",
   "metadata": {},
   "source": [
    "### a) Si l’on initialise la variable SARS_genes_count au début de la section (vide), et qu’on y ajoute SARS_gene suite au trois condition de notre « loop », à quoi sert cette condition au début du loop : while (length(SARS_genes_count) <= 25)? Cette question teste purement votre compréhension de code R, la réponse recherchée est simple et n’a pas à avoir d’interprétation biologique. "
   ]
  },
  {
   "cell_type": "code",
   "execution_count": null,
   "id": "4305bcc6",
   "metadata": {},
   "outputs": [],
   "source": [
    "a)\n",
    "La condition while (length(SARS_genes_count) <= 25)sert à: à déterminer quand la boucle while doit s'arrêter. Pour mieux éxpliquer, elle assure que le bloc du code à l'intérieur de la boucle se répéte tant que la longueur de la variable SARS_genes_count est\n",
    "inférieure ou égale à 25. Donc, dans notre cas la boucle s'arrête une fois que 25 termes GO uniques ont été ajoutés à la liste SARS_genes_count.\n",
    "Cela cause une limitation de la répétabilité de la boucle en fonction du nombre d'éléments dans SARS_genes_count,\n",
    "garantissant ainsi que le processus d'extraction des meilleurs termes GO est limité à un maximum de 25 termes GO uniques (peut étre pour limiter la taille des données traitées)."
   ]
  },
  {
   "cell_type": "markdown",
   "id": "678f001a",
   "metadata": {},
   "source": [
    "### b) La matrice GO_enrich_DF est celle qui sert ultimement à la création du Heatmap. Pourquoi transforme-t-on la valeur de significativité?"
   ]
  },
  {
   "cell_type": "code",
   "execution_count": null,
   "id": "af7f2125",
   "metadata": {},
   "outputs": [],
   "source": [
    "b)\n",
    "La transformation de la valeur de significativité dans la matrice GO_enrich_DF par la fonction log10 permet de mieux visualiser les variations significatives sur une échelle plus compacte et mettre en évidence les différences d'ordre de grandeur entre les valeurs de pvalue.\n",
    "(car les valeurs de pvalue peuvent souvent varier sur plusieurs ordres de grandeur, ce qui peut rendre difficile leur représentation graphique). \n",
    "Cela permet d'obtenir une représentation plus claire du Heatmap des différences de significativité entre les termes GO pour chaque protéine SARS,facilitant ainsi l'interprétation graphique.\n"
   ]
  },
  {
   "cell_type": "markdown",
   "id": "8a610a22",
   "metadata": {},
   "source": [
    "### c) Expliquez simplement ce que font ces deux lignes dans le code : (2 points) rownames_matrix <- GO_enrich_matrix[,1] /   GO_enrich_matrix <- GO_enrich_matrix[,-c(1)] "
   ]
  },
  {
   "cell_type": "code",
   "execution_count": null,
   "id": "bff1cc79",
   "metadata": {},
   "outputs": [],
   "source": [
    "c) \n",
    "- rownames_matrix <- GO_enrich_matrix[,1]: elle permet d`extraire la 1ère colonne de la matrice (colonne 1) qui comporte les noms des termes GO. Ces noms vont étre par la suite sauvegardés dans la variable rownames_matrix.\n",
    "\n",
    "- GO_enrich_matrix <- GO_enrich_matrix[,-c(1)]: Cette ligne supprime la 1ère colonne de la matrice (colonne 1), excluant ainsi les noms de termes GO de la matrice principale, ce qui permet de garder uniquement\n",
    "les valeurs de significativité associées à chaque protéine SARS pour chaque terme GO(sans les noms des termes GO eux-mêmes).\n",
    "\n",
    "Ces deux lignes ont pour but la manipulation de la matrice des données enrichies (GO_enrich_matrix).\n",
    "    "
   ]
  },
  {
   "cell_type": "markdown",
   "id": "d7156276",
   "metadata": {},
   "source": [
    "### d) Combien de couleurs sont contenues dans « colors3 » (1 points). "
   ]
  },
  {
   "cell_type": "code",
   "execution_count": null,
   "id": "5b4f3491",
   "metadata": {},
   "outputs": [],
   "source": [
    "d)\n",
    "La variable colors3 est définie à l'aide de la fonction colorRampPalette, donc il y a 256 couleurs dans colors3.\n"
   ]
  },
  {
   "cell_type": "markdown",
   "id": "0b87bba3",
   "metadata": {},
   "source": [
    "### e) Quel paramètre de pheatmap me permet de modifier la largeur de mes carrés heatmap? (1 point)"
   ]
  },
  {
   "cell_type": "code",
   "execution_count": null,
   "id": "95fce6a7",
   "metadata": {},
   "outputs": [],
   "source": [
    "e)\n",
    "Le paramètre de pheatmap qui permet de modifier la largeur des carrés heatmap est \"cellwidth\" (on met une virgule et on ajoute cette commande puis on ferme la parenthéses)."
   ]
  },
  {
   "cell_type": "markdown",
   "id": "21100c15",
   "metadata": {},
   "source": [
    "## QUESTION 8 – Enfin on regarde les résultats "
   ]
  },
  {
   "cell_type": "markdown",
   "id": "a1e62520",
   "metadata": {},
   "source": [
    "### a) En regardant notre HeatMap, est-ce que le sautant le plus aux yeux est bien consistent avec ce qu’on avait identifié en Q6 j)? Expliquez en quelques mots (2 points)"
   ]
  },
  {
   "cell_type": "code",
   "execution_count": null,
   "id": "b453ea97",
   "metadata": {},
   "outputs": [],
   "source": [
    "a)\n",
    "Oui, le sautant le plus aux yeux dans la HeatMap est consistant avec ce qui a été identifié en Q6 j). \n",
    "\n",
    "Dans la HeatMap, la couleur la plus intense est attribuée à l`association \"ORF8 associé au terme GO \"endoplasmic reticulum lumen\"\",confirmant ainsi la pertinence de cette catégorie pour le gène ORF8.\n",
    "En Q6 j), cette méme association a été identifiée comme présentant la plus grande significativité. \n",
    "\n",
    "Donc, la HeatMap donne l`aspect visuel des résultats de l'analyse quantitative.\n"
   ]
  },
  {
   "cell_type": "markdown",
   "id": "1cbd5ded",
   "metadata": {},
   "source": [
    "### b) En revenant sur la présentation de l’article en début de TP, si l’on regarde le GO le plus enrichie pour le « Bait » \"NSP12\" (quoique très pâle comparativement à d’autres liens GO-SARS), est-ce que le résultat fait du sens/est intéressant? Hypothétisez courtement sur le pourquoi (2 points)."
   ]
  },
  {
   "cell_type": "code",
   "execution_count": null,
   "id": "af15919b",
   "metadata": {},
   "outputs": [],
   "source": [
    "b)\n",
    "Apparemment il y`a 2 termes GO plus ou moins significatifs associés à NSP12 : \"RNA splicing\" et \"cytoplasmic stress \n",
    "    granule\", mais ils sont assez pâles dans le heatmap. Cependant, le GO le plus enrichi pour le « Bait » « NSP12 » est associé au \n",
    "    « cytoplasmic stress granule » (pvalue relativement bas (3.346014e-03)). \n",
    "En contre partie, dans l'article, ces termes n'ont pas été spécifiquement mis en avant ou discutés.\n",
    "\n",
    "Comme mentionné dans le TP:\n",
    "    - application de la méthodologie utilisée dans l`article à nos propres données (donc les données sont différentes).\n",
    "    - les scripts ne sont pas donnés dans l`article.\n",
    "\n",
    "Donc il ỳ`a plusieurs hypothéses qui expliquent cela telles que : \n",
    "    - le résultat pale dans notre heatmap peut mettre des doutes sur la pertinence biologique de cette association, suggérant ainsi que, ce lien particulier entre NSP12 et \n",
    "            \"cytoplasmic stress granule\" peut ne pas être aussi significatif ou robuste que d'autres associations référencées.\n",
    "    - Les variations biologiques normales entre différentes expériences, malgré le respect des conditions expérimentales, ce aui donne des résultats différents.\n",
    "    - Possibilité de différences entre les scripts.\n",
    "    "
   ]
  },
  {
   "cell_type": "markdown",
   "id": "a0046313",
   "metadata": {},
   "source": [
    "### c) Pourquoi a-t-on un signal bleu relativement important pour 3 termes GO vis-à-vis le « Bait » \"NSP9\"? Ce n’est pas une erreur, pensez à comment les GO sont choisis. (2 points)"
   ]
  },
  {
   "cell_type": "code",
   "execution_count": null,
   "id": "331f6945",
   "metadata": {},
   "outputs": [],
   "source": [
    "c)\n",
    "La présence d'un signal bleu relativement important pour 3 termes GO vis-à-vis du \"Bait\" \"NSP9\" peut être\n",
    "due a :\n",
    "    - l`implication de NSP9 dans ces 3  processus cellulaires particuliers.Donc NSP9 n`est pas spécifiaue pour un seul GO.\n",
    "    - Les termes GO les plus significatifs sont mis en évidence avec une couleur foncée ( l`intensité selon le degré d'enrichissement de ces termes spécifiques).\n",
    "       Les 3 termes GO ont un p-value presque similaire et pas trop élevés par rapport aux autres GO.\n",
    "    - Les seuils de significativité choisis.\n",
    "                                                                                         "
   ]
  },
  {
   "cell_type": "markdown",
   "id": "c6648b8f",
   "metadata": {},
   "source": [
    "### d) En regardant à nouveau \"NSP9\", quelle conclusion peut-on clairement faire vis-à-vis les potentielles fonction de cette protéines SARS-CoV2? (2 points)"
   ]
  },
  {
   "cell_type": "code",
   "execution_count": null,
   "id": "7b710c75",
   "metadata": {},
   "outputs": [],
   "source": [
    "d)\n",
    "En examinant les 3 termes GO associés à \"NSP9\" (transport mitochondrial, pore nucléaire, constituant \n",
    "structurel du pore nucléaire), il est possible de faire quelques conclusions sur ses fonctions:\n",
    "    - Mitochondrial Transport : NSP9 peut être impliquée dans des processus associés au transport mitochondrial peut étre via la régulation du mouvement des composants cellulaires depuis ou vers la mitochondrie.\n",
    "    - Nuclear Pore : NSP9 peut étre associée avec les pores nucléaires en ayant un impact sur les processus de transport nucléocytoplasmique.\n",
    "    - Constituant structurel du pore nucléaire : NSP9 peut contribuer à la constitution structurelle des pores nucléaires, participant ainsi au maintien de l'intégrité et de la fonction des pores nucléaires.\n"
   ]
  },
  {
   "cell_type": "markdown",
   "id": "719019b9",
   "metadata": {},
   "source": [
    "### e) Pourquoi certains « Baits » ont-ils des signaux si pâles pour presque tous les GO? (1 point)"
   ]
  },
  {
   "cell_type": "code",
   "execution_count": null,
   "id": "64dba747",
   "metadata": {},
   "outputs": [],
   "source": [
    "e) \n",
    "La pâleur des signaux pour certains « Baits » peut être due à :\n",
    "  - Ces Baits ont une p-value élevée indiquant une faible significativité, suggérant des associations entre ces \"Bait\" et les termes GO statistiques spécifiques non robustes (peut étre a cause faible nombre d'interactions détectées, ou les échantillons ont une variabilité importante ,...etc).\n",
    "  - Ou bien ( faible possibilité) faible abondance de protéines Bait dans l'échantillon ou n'a pas été détectée avec une grande sensibilité.\n"
   ]
  },
  {
   "cell_type": "markdown",
   "id": "50de8ceb",
   "metadata": {},
   "source": [
    "## QUESTION 9 – Données pour le diagramme à bande "
   ]
  },
  {
   "cell_type": "markdown",
   "id": "ce713d7d",
   "metadata": {},
   "source": [
    "### a) Nous entreposant dans la matrice « proteome_tissue » l’information provenant du fichier. « GTEx_Tissu_Abundance.xlsx ». Décrivez l’information contenu dans votre matrice. (2 points)"
   ]
  },
  {
   "cell_type": "code",
   "execution_count": null,
   "id": "ceb1459f",
   "metadata": {},
   "outputs": [],
   "source": [
    "a)\n",
    "La matrice « proteome_tissue » provient du fichier \"GTEx_Tissu_Abundance.xlsx\". Voici une description de l'information contenue dans cette matrice:\n",
    " - Colonnes :La première colonne est protein ID puis Gene ID et Gene name et a partir de la 4éme colonne les différents tissus.\n",
    " - Lignes :Chaque ligne correspond à une protéine associée a son gène et des informations liées aux niveaux d'expression dans différents tissus.\n",
    " - Données dans les cellules de la matrice: ces données représentent les niveaux d'expression des gènes dans chaque tissu spécifique.\n",
    "    Ces données ont été prétraitées en appliquant une transformation logarithmique ( log10)aux valeurs afin de facilité l`analyse en normalisant la distribution des données .\n",
    "    Aussi, un nettoyage a été fait en remplacant les valeurs négatives par NA(Not Available) pour éviter les erreurs lors de l'analyse.\n"
   ]
  },
  {
   "cell_type": "markdown",
   "id": "f712870b",
   "metadata": {},
   "source": [
    "### b) Expliquez ce que la transformation qu’on fait à nos données semble modifier. (2 points) "
   ]
  },
  {
   "cell_type": "code",
   "execution_count": null,
   "id": "1295cbd1",
   "metadata": {},
   "outputs": [],
   "source": [
    "b)\n",
    "Une transformation logarithmique base 10 ( log10) a été appliquée aux données de la matrice proteome_tissue . La transformation logarithmique est utilisée pour:\n",
    " - Normalisation des échelles ce qui peut facilité la comparaison de niveaux d'expression entre différents gènes par exemple.\n",
    " - Obtenir une petite échelle ( surtout pour créer des graphiques).\n",
    " - Les différences entre les valeurs sont plus facilement perceptibles sur une échelle logarithmique ce qui facilite l`intérprétation.\n"
   ]
  },
  {
   "cell_type": "markdown",
   "id": "9895f1b8",
   "metadata": {},
   "source": [
    "## QUESTION 10 – Visualisation des données tissus "
   ]
  },
  {
   "cell_type": "markdown",
   "id": "fc4837fc",
   "metadata": {},
   "source": [
    "### a) Interprétez en quelques mots ce que le graphique nous permet de voir. (2 points)"
   ]
  },
  {
   "cell_type": "code",
   "execution_count": null,
   "id": "a56a4490",
   "metadata": {},
   "outputs": [],
   "source": [
    "a)\n",
    "Le graphique représente un diagramme à bandes qui montre l'enrichissement tissulaire des protéines qui interagissent avec le SARS-CoV-2 (les tissus les plus significatifs dans l'interaction des protéines du virus en se basant sur des mesures de significativité et d'enrichissement tissulaire.)\n",
    "Chaque barre représente un tissu et la hauteur de la barre est proportionnellement à la significativité de l'enrichissement .\n",
    "- un enrichissement trés important dans un tissu spécifique (le niveau de significativité élevé) apparait sous forme de barre trés haute ex lung.\n",
    "Et l`inverse est correct ex smooth muscle.\n"
   ]
  },
  {
   "cell_type": "markdown",
   "id": "98d9d985",
   "metadata": {},
   "source": [
    "### b) En faisant une petite revue de la littérature (citation à l’appui), est-ce que vos résultats sont consistant avec ce qui est attendu de SARS-CoV2? (3 points) "
   ]
  },
  {
   "cell_type": "code",
   "execution_count": null,
   "id": "28e34eb8",
   "metadata": {},
   "outputs": [],
   "source": [
    "b)\n",
    "Selon https://doi.org/10.1038/s41586-020-2286-9 et nos résultats: Il y`a une différence entre nos résultats et ceux de la littérature.\n",
    "  - nos valeurs -log10(p-value)sont plus petites que celles rapportées dans la littérature, suggérant ainsi une moins grande significativité statistique.\n",
    "  - le niveau d`éxpression dans les différents tissus n`est pas tout a fait similaire par exemple:\n",
    "        - dans nos résultats les 2 premiers tissus avec l`enrichissement le plus élevé sont lung et liver, alors que dans la littérature c`est lung et testis et liver a un enrichissement trés faible. Celagénere une interprétation presque complétement différente.\n"
   ]
  },
  {
   "cell_type": "markdown",
   "id": "5151b760",
   "metadata": {},
   "source": [
    "### c) Sachant qu’un résultat est normalement reconnu comme « significatif » si p < 0.05, est-ce que vos résultats ici sont significatif? Expliquez en quelques mots. (2 points) "
   ]
  },
  {
   "cell_type": "code",
   "execution_count": null,
   "id": "a6f17c7b",
   "metadata": {},
   "outputs": [],
   "source": [
    "c)\n",
    "- Nos résultats montrent des valeurs de p-value supérieures à 0.05 (dans les tableaux ou méme ddans nos -log10 pvalue dans le graphe sont faibles), cela signifie qu`ils ne sont pas statistiquement significatives selon le seuil standard de 0.05. \n",
    "\n",
    "- Donc cela suggére que les variations mentionnées dans l'expression génique entre les différents tissus ne sont pas suffisamment importantes pour être désignées comme significatives. \n"
   ]
  }
 ],
 "metadata": {
  "kernelspec": {
   "display_name": "Python 3 (ipykernel)",
   "language": "python",
   "name": "python3"
  },
  "language_info": {
   "codemirror_mode": {
    "name": "ipython",
    "version": 3
   },
   "file_extension": ".py",
   "mimetype": "text/x-python",
   "name": "python",
   "nbconvert_exporter": "python",
   "pygments_lexer": "ipython3",
   "version": "3.10.12"
  }
 },
 "nbformat": 4,
 "nbformat_minor": 5
}
