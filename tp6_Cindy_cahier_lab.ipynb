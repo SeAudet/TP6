{
 "cells": [
  {
   "cell_type": "raw",
   "id": "42da794e",
   "metadata": {},
   "source": [
    "QUESTION 1 – Utilisation de RforProteomics - Fichiers sommaire d’expérience MS\n",
    "\n",
    "a)Commandes pour accéder aux données:\n",
    "[p1027153@eatontown-sens ~]$ cd Documents/BCM6010/\n",
    "[p1027153@eatontown-sens BCM6010]$ mkdir TP_6\n",
    "[p1027153@eatontown-sens BCM6010]$ cd TP_6\n",
    "[p1027153@eatontown-sens TP_6]$ ln -s /cours/a23_bcm3553_bcm6010-a/cours/TP6\n",
    "[p1027153@eatontown-sens ~]$ cp Documents/BCM6010/TP_6/TP6/script/TP6_Processing.Rmd Documents/BCM6010/TP_6/\n",
    "\n",
    "Le répertoire de travail subséquemment indiqué dans le script R:\n",
    "setwd(\"~/Documents/BCM6010/TP_6/\")\n",
    "\n",
    "b)Le chemin vers le repertoire de nos metadonnées est filephath:\"/usr/local/R-4.3.1/lib64/R/library/msdata/microtofq/\"\n",
    "\n",
    "c)En regardant information disponible pour MM8 & MM14, on constate que le fichier MM14 est le fichier vide car en ouvrant les informations disponibles des 2 fichiers via les commandes:\n",
    "runInfo(mz14)\n",
    "runInfo(mz8)\n",
    "instrumentInfo(mz14)\n",
    "instrumentInfo(mz8)\n",
    "\n",
    "d) Via la commande runInfo,la deuxieme valeur est lowMz et la 3e est highMz. Ces valeurs correspondent aux limites des spectres de spectometrie de masse des protéines présentent dans le fichier MM8 avec highMz qui représente la limite maximale (supérieure) et lowMZ représente la limite minimale(inférieure). (google, a verifier)\n"
   ]
  },
  {
   "cell_type": "raw",
   "id": "1b718ad6",
   "metadata": {},
   "source": [
    "QUESTION 2 : Fichier d’identification des peptides\n",
    "\n",
    "a) Les 2 fichiers comportent des métadonnées de spectometrie de masse identifiées à partir de 2 logiciels d'identification de proteines Tandem et Mascot. Les fichiers ne comportent pas exactement les même types de metadonnées.\n",
    "\n",
    "b)On peut voir les informations des spectres des proteines avec la commande head(psms(mzidTandem). Pour la proteine  KDLYGNVVLSGGTTMYEGIGER, la masse experimentale / charge est de 792.3792  et on oberve qu'il y'a 3 charges donc la masse experimentale totale de la proteine est de  792.3792*3= \n",
    "  "
   ]
  },
  {
   "cell_type": "code",
   "execution_count": 5,
   "id": "253caacf",
   "metadata": {},
   "outputs": [
    {
     "name": "stdout",
     "output_type": "stream",
     "text": [
      "La masse experimentale totale est de 2377.1376\n"
     ]
    }
   ],
   "source": [
    "masse_experimentale =792.3792*3\n",
    "print('La masse experimentale totale est de ' + str(masse_experimentale))"
   ]
  },
  {
   "cell_type": "raw",
   "id": "8fe2ee70",
   "metadata": {},
   "source": [
    "c) Via la commande : head(psms(mzidMascot))[, 1:20], le premier peptide qui apparait est « DAGTISGLNVLR » et correspond à la protéine Heat shock cognate 70 kDa protein (HSP70) qui provient de la bactérie Echinococcus granulosus.\n",
    "\n",
    "d)La peptidase qui a servi à préparer ces échantillons est la trypsine. Cette peptidase sert à hydrolyser les liens peptides.\n",
    "\n"
   ]
  },
  {
   "cell_type": "raw",
   "id": "1de31ab0",
   "metadata": {},
   "source": [
    "QUESTION 3: Fichiers de signal MS « Raw » et leur « Peptide Spectral Match » à des protéines\n",
    "a) Le nombre le sommaire, le nombre de  « peaks » ionique pour le spectre 2 est de : 1012 \n",
    "\n",
    "b) On regardant les représentations graphiques des 5 spectres de peptides, le spectre qui possède les signaux ayant\n",
    "la plus grande intensité est spectre 1 et le spectre qui et lequel possède les plus petit ratio masse/charge est le spectre 5.\n",
    "\n",
    "c) On utilise Itraq comme étalons afin d'identifier et quantifier les proteines dans le spectre 5. \n",
    "\n"
   ]
  },
  {
   "cell_type": "raw",
   "id": "833a49f5",
   "metadata": {},
   "source": [
    "QUESTION 4: Reconstruction des données peptidiques et visualisation graphique\n",
    "\n",
    "a) En regardant le fichier qnt, on constate qu'il y'a au total 6 échantillons.\n",
    "\n",
    "b)En regardant le matplot, on constate que la proteine qui correspond à cette serie de dilution est la ALBU_BOVIN, albumine de bovin\n",
    "\n",
    "c)En regardant le heatmap, on peut dire qu'on ne s'intéresse plus à la trypsine (TRYP_PIG) parce qu'on en a plus besoin a cette étape de l'expérience, la trypsine sert juste à lyser les cellules et hydrolyser les liens peptides. On rajoute le ECA (Enterobacterial Common Antigen) pour qu'il serve de background et point de controle dans le heatmap\n",
    "\n",
    "d)Le rapporteur qui a la plus grande concentration d’albumine bovine (BSA) est le rapporteur 129\n",
    "\n",
    "e) En regardant la heatmap, on constate que le signal de la protéine CYC_BOVIN 'CYT' est beaucoup plus intense chez le rapporteur 131. De plus, le graphique de la visualisation alternative de l'intensité normalisé montre une plus grande intensité de la protéine CYT pour le rapporteur 131 de ce fait on ne peut confirmer sa présence que chez le rapporteur 131.#"
   ]
  },
  {
   "cell_type": "raw",
   "id": "5d06151b",
   "metadata": {},
   "source": [
    "QUESTION 5 – Traitement des données pour enrichissement de GO\n",
    "\n",
    "a) sep = \"\\t\" » est nécessaire pour la lecture afin d'indiquer que le fichier de données tsv contient des tabulations (lignes et colonnes)\n",
    "b) On aurait pu utiliser le terme C2:CP:reactome ou :wikipathways) pour les voies canoniques moléculaires\n",
    "c)En observant le fichier d'annotation msigdb_DF, on constate qu'il y'a 10 variables/données au total."
   ]
  },
  {
   "cell_type": "raw",
   "id": "a26f28f6",
   "metadata": {},
   "source": [
    "QUESTION 6 – Comprendre nos données (Prey vs Bait & termes GO associés)\n",
    "\n",
    "a)On compte 304 protéines « Prey » et 25 protéines « Bait ».\n",
    "  Nommez trois de ces « Baits »: \"ORF9B\", \"ORF8\", \"ORF7A\"\n",
    "  \n",
    "b)La fonction unique permet d'extraire a partir d'un fichier avec plusieurs informations, des informations précises en fonction du nom de la colonne. Nous avons utilise cette fonction pour extraire precisement les noms de proteines bait (protéines COVID-19) et les noms de protéines prey (protéines humaines)\n",
    "\n",
    "c) Les seuils minGSSize/maxGSSize permettent de definir le nombre minimale et maximale de gènes annotés à utiliser pour le test d'enrichissement.Les valeurs de significativité sont donnés en format logarithmique -log10.\n",
    "\n",
    "d)Avec cette ligne de code, on a éliminé 6 037 termes GO vu qu'on quitte de 7398 GO à 1361 GO en retirant tous les termes GO où le score pour nos données est égal ou inférieur à 1 \n",
    "\n",
    "e)Le nombre de termes GO qui ne passent pas le filtre de valeur P est de 329 termes GO\n",
    "\n",
    "f) La banque de données est org.Hs.eg.db\n",
    " \n",
    "g) Dans le le fichier clustered_GOterms_DF\n",
    " \n",
    "« Glycoprotein metabolic processing » : BP (biological process)\n",
    "« Golgi apparatus subcompartment » : CC (cellular compartement)\n",
    "« DNA replication initiation » : BP (biological process)\n",
    "« Endopeptidase activity»: MF (Molecular Function)\n",
    "\n",
    "h) Nombre de termes GO associés à NSP7= 220\n",
    "   GO=GOBP_POLYSACCHARIDE_BIOSYNTHETIC_PROCESS\n",
    "   \n",
    "i) Il y'a 1 GO de type CC associé à ORF6 et il s'agit de GOCC_NUCLEAR_PORE\n",
    "\n",
    "j) Le terme GO le plus significatif est le GOCC_ENDOPLASMIC_RETICULUM_LUMEN de la protéine bait ORF8. Pour ce term GO, on a 16 protéines prey associées dont TOR1A et la valeur de significativité en log10 de la p.value ajustée est de 13.899994 (p. value ajustée=1.258944e-14) "
   ]
  },
  {
   "cell_type": "raw",
   "id": "713d3df8",
   "metadata": {},
   "source": [
    "QUESTION 7 – Préparation des données pour le Heatmap\n",
    "\n",
    "a)La condition while (length(SARS_genes_count) <= 25 dans la boucle permet de dire que la boucle doit être executée (itérée) tant que la longueur (nombre de gènes) du fichier SARS_genes_count est inférieur ou égal a 25.\n",
    "\n",
    "b) La transformation logarithmique de la p. value permet d'avoir une échelle qui permet de mieux visualiser les données vu que les p.values sont très petites et de faciliter l'interprétation des différences entre les données.\n",
    "\n",
    "c)rownames_matrix <- GO_enrich_matrix[,1] permet d'extraire la première colonne du fichier GO_enrich_matrix pour la stocker dans la variable rownames_matrix\n",
    "  GO_enrich_matrix <- GO_enrich_matrix[,-c(1)] permet de supprimer la première colonne du fichier GO_enrich_matrix\n",
    "  \n",
    "d) colors3 a 256 couleurs.\n",
    "\n",
    "e)Selon la documentation de R, on peut changer la largeur des carrés du heatmap avec cellwidth (https://r-charts.com/correlation/pheatmap/)\n"
   ]
  },
  {
   "cell_type": "raw",
   "id": "77a171de",
   "metadata": {},
   "source": [
    "QUESTION 8 – Enfin on regarde les résultats\n",
    "\n",
    "a)En regardant notre HeatMap,la protéine ORF8(voie moléculaire: endoplasmic Reticulum Lumen)saute aux yeux car elle est la plus foncée donc la plus enrichie. Cette observation est cohérente avec celle obtenue a la question 6 car c'est la même protéine qui avait le terme GO le plus significatif.\n",
    "\n",
    "b) Selon l'article, NSP12 est une RNA-dependent polymerase donc elle est impliqué dans la replication de l'ARN virale. En observant le heatmap, le signal d'enrichissement est très pale pour cette protéine bait mais présent pour les GO liés au RNA splicing et au cytoplasmic stress granule. Ces voies moléculaires sont impliqués dans la réponse cellulaire suite a l'infection. Cependant, vu le faible signal d'enrichissement, on peut donc supposé que les proteines Prey de ces voies moéculaires n'intéragissent pas beaucoup avec cette protéine Bait. \n",
    "\n",
    "c) La protéine Bait \"NSP9\" a un signal d'enrichissement important dans 3 voies moléculaires associés aux 3 termes GO sélectionnés ce qui demontrent d'une forte interaction avec les protéines Prey de ces voies moléculaires. Les voies moléculaires observées pour cette protéine sont : mitochondrial transport qui est associé au terme GO BP( Biological process) , nuclear pore qui correspond au terme GO CC(cellular component) et structural constituent of nuclear pore qui est associé au GO term MF (molecular function).\n",
    "\n",
    "d) Au vu des voies moléculaires affectés par la proteine NSP9, on peut conclure que cette protéine joue un role dans la modulation de la réponse cellulaire suite a l'infection virale.\n",
    "\n",
    "e) Plusieurs raisons peuvent expliquer des signaux faibles pour tous les termes GO notamment le fait que les intéractions de la proteine 'bait' soit tres faibles dans les voies moléculaires associés aux termes GO ou du fait que les interactions soient transitoires donc difficiles a detecter."
   ]
  },
  {
   "cell_type": "raw",
   "id": "a4f6081f",
   "metadata": {},
   "source": [
    "QUESTION 9 – Données pour le diagramme à bande\n",
    "\n",
    "a) Dans la matrice, on retrouve les identifiants de protéines, les identifiants et les noms des gènes correspondants, ainsi que differents tissus humains. De plus, on retrouve les données d'abondance des gènes des proteines dans les différents tissus.\n",
    "\n",
    "b)La transformation modifie les données d'abondance des gènes dans les différents tissus en données logarithmique base 10 ce qui permet de mieux visualiser les résultats obtenus sur une échelle logarithmique. On a aussi remplacé les valeurs infinies (valeurs negatives initialement) obtenues suite a la transformation logarithmique par des valeurs non applicables (NA) pour éviter des erreurs potentielles pendant l'analyse."
   ]
  },
  {
   "cell_type": "raw",
   "id": "6dd8335d",
   "metadata": {},
   "source": [
    "QUESTION 10 – Visualisation des données tissus\n",
    "\n",
    "a) On observe un diagramme a bandes noires. Chaque bande noire correspond au niveau d'abondance des gènes (niveau d'expression de ces gènes) de proteines qui interagissent avec SARS sur une échelle logarithmique dans differents tissus humains.\n",
    "\n",
    "b)Selon nos résultats, les tissus avec les interactions protéines SARS-protéines humaines les plus élévées sont les poumons,le foie, le coeur et le duodenum (tract intestinal). Ces resultats sont cohérentes avec les litérratures sur le sujet notamment dans cette article 'On the whereabouts of SARS-CoV-2 in the human body: A systematic review' https://journals.plos.org/plospathogens/article?id=10.1371/journal.ppat.1009037 \n",
    "\n",
    "c)Sachant que le -log10 p.value le plus élévé est environ 0.65 sur le diagramme ce qui veut dire que la p.value est d'environ 0.2 qui est bien supérieur a 0.05, de ce fait, nous ne pouvons pas conclure que nos résultats sont significatifs. Il faut des -log10(p) plus élévés pour que les p.value soient considérées comme significatives.\n",
    "\n"
   ]
  }
 ],
 "metadata": {
  "kernelspec": {
   "display_name": "Python 3 (ipykernel)",
   "language": "python",
   "name": "python3"
  },
  "language_info": {
   "codemirror_mode": {
    "name": "ipython",
    "version": 3
   },
   "file_extension": ".py",
   "mimetype": "text/x-python",
   "name": "python",
   "nbconvert_exporter": "python",
   "pygments_lexer": "ipython3",
   "version": "3.10.12"
  }
 },
 "nbformat": 4,
 "nbformat_minor": 5
}
