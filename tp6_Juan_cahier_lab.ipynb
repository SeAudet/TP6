[Desktop Entry]
Encoding=UTF-8
Name=Lien vers TP6 cahier de lab.ipynb
Type=Link
URL=http://localhost:8888/notebooks/BCM3553/TP6/TP6%20cahier%20de%20lab.ipynb
Icon=text-html
