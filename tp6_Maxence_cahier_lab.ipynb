{
 "cells": [
  {
   "cell_type": "markdown",
   "id": "ede0c972",
   "metadata": {},
   "source": [
    "# Cahier de lab TP6"
   ]
  },
  {
   "cell_type": "markdown",
   "id": "d593f442",
   "metadata": {},
   "source": [
    "## Protéomique"
   ]
  },
  {
   "cell_type": "markdown",
   "id": "611c63e2",
   "metadata": {},
   "source": [
    "### BCM3553"
   ]
  },
  {
   "cell_type": "markdown",
   "id": "4d7aed0a",
   "metadata": {},
   "source": [
    "Le code est complet cette semaine.\n",
    "La comprehension des données, et de la spectrométrie de masse, est le principale. Quelques questions sont posées vis-à-vis du code R.\n",
    "Le signal est moins claire en génomique qu'en transcriptomique.\n",
    "On a 20 aa de base, puis on a d'autres couches de complexité avec la protéomique.\n",
    "Au TP4 ona vu la génomique,, TP5 l'ARN avec ARNm et épissage alternatif, puis mtn les prot. En plus des diff isoformes qui existent, on a les structures secondaires, et beaucoup de modifs post-traductionnelle. il en resulte une divergence de signal important.\n",
    "En plus des structure 2 tertieire et modif, des foisil y a des changements conformationnel.\n",
    "Préparation des échantillons:\n",
    "Isolation, réduction et alkylation (on va les dénaturer), digestion (généralement avec la tripsin, qui fait de petits peptides, ~10 aa), purification des peptides pour éliminer les bruits de fond. on a le signal des ions qui passent dans le spectrophotomètre.\n",
    "On peut détecter le signal de diff composiés chimiques qui ne sont pas forcément des peptides.\n",
    "Même la preparations des echnatillons peuvent être complexe, les aa ont diff propriétés eletro chimiques.\n",
    "La protéomique est une couche au dessus de la complexité. \n",
    "Signal LC-MS:\n",
    "Les peptides vont passer en fonction de leur masse.\n",
    "quand l'ech finit de passer dans la chromatographie, il arrive dans le spectrophotomètre, ils sont excités, puis ils émettent un signal dans le detecteur.\n",
    "Il y aura un signal enfonction de la charge et de la masse du peptide. masse/charge (m/z)\n",
    "On transforme un signal analogue de courant, en digital.\n",
    "Les peptides vont etre séparé en fonction de la chromatographie liquide, il va y avoir différents spectres à travers le temps. chaques spectre à plusieurs pique, un peptide ne donne pas qu'un seul pique, il peut avoir été coupé à différents endroits. Des algorithme vont reconstruirent les peptides à partir des différents spectres obtenu en fonction du temps, eux même obtenus en fonction de la masse des peptides.\n",
    "On a donc des données de peptides de base, qui sont ensuite transformés en protéine.\n",
    "Construction d'un pipeline d'analyse:\n",
    "c'est ce qu'on va faire dans le TP d'aujourd'hui.\n",
    "On va se baser sur un article qui concerne le COVID.\n",
    "Le but est de voir avec quelle protéine humaine interagissent les peptides.\n",
    "les ORF sont des polyprotein qui facilitent la réplication.\n",
    "NSP sont des non structure protein, qui vont avoir diverse fonction, polymérase, hélicase.. toutes les fonctions ne sont pas connues.\n",
    "On a des protéines structurelles\n",
    "On a des protéine de facteur accessoire.\n",
    "\n",
    "Obtention des donnée\n",
    "Chaque prot préparée en cultures dans des cellule EK\n",
    "\n",
    "On pourra faire un protein Network Analysis pour savoir si la protéine intervient derectement ou indirectement avec certaines protéines. on va pouvoir reconstruire un réseau d'intéraction, comme par exemple avec la figure STRING.\n",
    "On va ensuite pouvoir faire du Heatmap, on peut quelle prot humaine intéragit avec quelle prot covid.\n",
    "On peut aussi prendre l'ensemble des protéines qui réagissent avec prot 1, et quelles sont les fonctions connues de ces protéines humaines.\n",
    "On peut faire d'autre figures d'enrichissement, est ce que la protéine pourrait avoir une fonction un peu plus tissus spécifique. si par exemple une prot covid interagit avec 9 prot diff qui ont une fonction dans le cerveau, on pourrait dire qu'une infection covid a un effet sur les fonctions cérébrales.\n",
    "\n",
    "On peut faire une comparaison d'intéractome (pas pendant le TP): quel est l'interactome ? quelles sont les prot qui pourrait possiblement revenir dans deux protéomiques...\n",
    "\n",
    "Consignes : Normalement les questions à ce TP sont dans les questions, le script, et la présentation. Peu de recherches sont à réaliser sur google.\n",
    "Les questions sont séparées en deux parties, celle de cette semaine, et de la semaine prochaine."
   ]
  },
  {
   "cell_type": "markdown",
   "id": "c6d97e4a",
   "metadata": {},
   "source": [
    "Faire un lien symbolique dans le répertoir TP6 :"
   ]
  },
  {
   "cell_type": "code",
   "execution_count": null,
   "id": "fb1f8ec1",
   "metadata": {},
   "outputs": [],
   "source": [
    "ln -s /cours/a23_bcm3553_bcm6010-a/cours/TP6/*"
   ]
  },
  {
   "cell_type": "markdown",
   "id": "d415f620",
   "metadata": {},
   "source": [
    "Pour les scripts à éditer, il faut faire une copie dans le répertoir avec la fonction cp nom du fichier répertoire"
   ]
  },
  {
   "cell_type": "markdown",
   "id": "c22b6f02",
   "metadata": {},
   "source": [
    "## Manipulation de données de peptides"
   ]
  },
  {
   "cell_type": "markdown",
   "id": "cdc7813a",
   "metadata": {},
   "source": [
    "### 1.a)"
   ]
  },
  {
   "cell_type": "code",
   "execution_count": null,
   "id": "4acfc6b9",
   "metadata": {},
   "outputs": [],
   "source": [
    "ln -s /cours/a23_bcm3553_bcm6010-a/cours/TP6/* #Créer un lien symbolique dans le répertoir TP6"
   ]
  },
  {
   "cell_type": "code",
   "execution_count": null,
   "id": "ff8d5cd8",
   "metadata": {},
   "outputs": [],
   "source": [
    "cp TP6/TP6_Processing.Rmd TP6 #Copier le script dans le répertoire d'espace de travail."
   ]
  },
  {
   "cell_type": "code",
   "execution_count": null,
   "id": "ed205d8f",
   "metadata": {},
   "outputs": [],
   "source": [
    "cd TP6/data/ #permet d'accéder au données du TP"
   ]
  },
  {
   "cell_type": "code",
   "execution_count": null,
   "id": "568fa499",
   "metadata": {},
   "outputs": [],
   "source": [
    "rstudio & #Ouvrir le logiciel R"
   ]
  },
  {
   "cell_type": "markdown",
   "id": "17d25a1f",
   "metadata": {},
   "source": [
    "### 1.b)\n",
    "En cherchant dans le global environnement, fenêtre à droite de l'application, ligne filepath nous donne le path complet."
   ]
  },
  {
   "cell_type": "code",
   "execution_count": null,
   "id": "545739fc",
   "metadata": {},
   "outputs": [],
   "source": [
    "/apps_rh8/Local_rh8/R/R-4.3.1/lib64/R/library/msdata/microtofq/"
   ]
  },
  {
   "cell_type": "markdown",
   "id": "1aae0d05",
   "metadata": {},
   "source": [
    "Renommer TP6 en R_TP6\n",
    "mv TP6 R_TP6\n",
    "pour coller au chemin utilisés dans le script R. pour lancer le script."
   ]
  },
  {
   "cell_type": "markdown",
   "id": "451fb473",
   "metadata": {},
   "source": [
    "### 1.c)\n",
    "Avec la commande runInfo, on voit:\n",
    "> runInfo(mz14)\n",
    "$scanCount\n",
    "[1] 112\n",
    "$lowMz\n",
    "[1] 0\n",
    "$highMz\n",
    "[1] 0\n",
    "$dStartTime\n",
    "[1] 270.334\n",
    "$dEndTime\n",
    "[1] 307.678\n",
    "$msLevels\n",
    "[1] 1\n",
    "$startTimeStamp\n",
    "[1] NA\n",
    "\n",
    "> runInfo(mz8)\n",
    "$scanCount\n",
    "[1] 198\n",
    "$lowMz\n",
    "[1] 95.51765\n",
    "$highMz\n",
    "[1] 1005.043\n",
    "$dStartTime\n",
    "[1] 0.486\n",
    "$dEndTime\n",
    "[1] 66.7818\n",
    "$msLevels\n",
    "[1] 1\n",
    "$startTimeStamp\n",
    "[1] \"2008-09-01T09:48:37.296+01:00\"\n",
    "\n",
    "En regardant les information sur les fichiers, le fichier qui semble vide est le Mz14 car on a 0 dans la deuxième et troisième ligne et pas de données dans la dernière ligne.\n",
    "### 1.d)\n",
    "La deuxième et la troisième ligne sont les limites des spectres observés dans les données."
   ]
  },
  {
   "cell_type": "markdown",
   "id": "048bdcd9",
   "metadata": {},
   "source": [
    "## Question 2 - Fichier d'identification des peptides\n",
    "### 2.a)\n",
    "Quand on observe le type d'information (méta-données) disponibles:\n",
    "les psms (peptide-spectrum matches) sont différents.\n",
    "Le nombre de sortie, de colonnes, entre Tandem et Mascot sont différentes aussi :\n",
    "names(psms(mzidTandem))\n",
    " [1] \"spectrumID\"               \"chargeState\"             \n",
    " [3] \"rank\"                     \"passThreshold\"           \n",
    " [5] \"experimentalMassToCharge\" \"calculatedMassToCharge\"  \n",
    " [7] \"sequence\"                 \"peptideRef\"              \n",
    " [9] \"modNum\"                   \"isDecoy\"                 \n",
    "[11] \"post\"                     \"pre\"                     \n",
    "[13] \"start\"                    \"end\"                     \n",
    "[15] \"DatabaseAccess\"           \"DBseqLength\"             \n",
    "[17] \"DatabaseSeq\"              \"DatabaseDescription\"     \n",
    "[19] \"spectrum.title\"           \"acquisitionNum\" \n",
    "names(psms(mzidMascot))\n",
    " [1] \"spectrumID\"                                      \n",
    " [2] \"chargeState\"                                     \n",
    " [3] \"rank\"                                            \n",
    " [4] \"passThreshold\"                                   \n",
    " [5] \"experimentalMassToCharge\"                        \n",
    " [6] \"calculatedMassToCharge\"                          \n",
    " [7] \"sequence\"                                        \n",
    " [8] \"peptideRef\"                                      \n",
    " [9] \"modNum\"                                          \n",
    "[10] \"isDecoy\"                                         \n",
    "[11] \"post\"                                            \n",
    "[12] \"pre\"                                             \n",
    "[13] \"start\"                                           \n",
    "[14] \"end\"                                             \n",
    "[15] \"DatabaseAccess\"                                  \n",
    "[16] \"DBseqLength\"                                     \n",
    "[17] \"DatabaseSeq\"                                     \n",
    "[18] \"DatabaseDescription\"                             \n",
    "[19] \"Mascot.identity.threshold\"                       \n",
    "[20] \"Mascot.homology.threshold\"                       \n",
    "[21] \"number.of.peptide.seqs.compared.to.each.spectrum\"\n",
    "[22] \"spectrum.title\"                                  \n",
    "[23] \"acquisitionNum\"  "
   ]
  },
  {
   "cell_type": "markdown",
   "id": "7261b6a8",
   "metadata": {},
   "source": [
    "### 2.b)\n",
    "Note : Pour trouver afficher le résultat, il faut copier coller les ligne correspondantes dans la console directement, sinon le résultat ne s'affiche pas.\n",
    "J'ai copier collé la commande :\n",
    "head(psms(mzidTandem))[, 1:13]\n",
    "head(psms(mzidMascot))[, 1:13]\n",
    "Dans la console de R pour afficher les 13 première lignes des éléments.\n",
    "sequence: KDLYGNVVLSGGTTMYEGIGER\n",
    "experimentalMassToCharge: 792.3792"
   ]
  },
  {
   "cell_type": "markdown",
   "id": "5971ec1b",
   "metadata": {},
   "source": [
    "### 2.c)\n",
    "En allongeant la commande head(psms(mzidMascot))[, 1:23] pour visualiser toutes les colonnes, Heat shock cognate 70 kDa protein (HSP70) - Echinococcus granulosus est le résultat qui resort pour la première séquence du fichier Mascot."
   ]
  },
  {
   "cell_type": "markdown",
   "id": "33d2981a",
   "metadata": {},
   "source": [
    "### 2.d)\n",
    "Avec la commande :\n",
    "enzymes(mzidTandem)\n",
    "enzymes(mzidMascot)\n",
    "L'enzyme utilisée pour la préparation des échantillons est la Tripsin.\n",
    "Comme renseigné dans l'introduction, la tripsin est une enzyme courament utilisée et permet la digestion de la protéines en petits peptides d'environs 10 acides aminés."
   ]
  },
  {
   "cell_type": "markdown",
   "id": "a730a285",
   "metadata": {},
   "source": [
    "## Question 3 - Fichiers de signal MS \"Raw\" et leur \"Peptide Spectral Match\" à des protéines\n",
    "### 3.a)\n",
    "#On regarde le sommaire du fichier\n",
    "> raw\n",
    "MSn experiment data (\"MSnExp\")\n",
    "Object size in memory: 0.18 Mb\n",
    "- - - Spectra data - - -\n",
    " MS level(s): 2 \n",
    " Number of spectra: 5 \n",
    " MSn retention times: 25:01 - 25:02 minutes\n",
    "- - - Processing information - - -\n",
    "Data loaded: Tue Nov 14 09:13:30 2023 \n",
    " MSnbase version: 2.26.0 \n",
    "- - - Meta data  - - -\n",
    "phenoData\n",
    "  rowNames: dummyiTRAQ.mzXML\n",
    "  varLabels: sampleNames\n",
    "  varMetadata: labelDescription\n",
    "Loaded from:\n",
    "  dummyiTRAQ.mzXML \n",
    "protocolData: none\n",
    "featureData\n",
    "  featureNames: F1.S1 F1.S2 ... F1.S5 (5 total)\n",
    "  fvarLabels: spectrum\n",
    "  fvarMetadata: labelDescription\n",
    "experimentData: use 'experimentData(object)'\n",
    "> #Il est possible de se concentrer sur un spectre particulier\n",
    "> raw[[2]] #1-5\n",
    "Object of class \"Spectrum2\"\n",
    " Precursor: 546.9586 \n",
    " Retention time: 25:02 \n",
    " Charge: 3 \n",
    " MSn level: 2 \n",
    " Peaks count: 1012 \n",
    " Total ion count: 56758067 \n",
    " \n",
    " Le nombre de pique ioniques associés au spectre 2 sont 1012."
   ]
  },
  {
   "cell_type": "markdown",
   "id": "b77d18fb",
   "metadata": {},
   "source": [
    "### 3.b)\n",
    "Représentation graphique simple des spectures\n",
    "plot(raw, full = TRUE)\n",
    "En regardant les spectre, le premier spectre a les signaux avec la plus grande intensité.\n",
    "Le 5ème spectre a les signaux avec les intensités les plus faibles."
   ]
  },
  {
   "cell_type": "markdown",
   "id": "690ba790",
   "metadata": {},
   "source": [
    "### 3.c)\n",
    "Les rapporteurs iTRAQ permettent d'avoir une intensité de référence pour une quantité de peptide donnée, un étalon, ce qui va permettre de connaitre la quantité relative de peptide dans les intensités variables."
   ]
  },
  {
   "cell_type": "markdown",
   "id": "3867b2a6",
   "metadata": {},
   "source": [
    "## Question 4 - Reconstruction des données peptidiques et visualisation graphique\n",
    "### 4.a) \n",
    "matplot(t(tail(exprs(protqnt), n = 5)), type = \"b\",\n",
    "        lty = 1, col = colors,\n",
    "        ylab = \"Protein intensity (summed peptides)\",\n",
    "        xlab = \"TMT reporters\")\n",
    "legend(\"topright\", tail(featureNames(protqnt), n=5),\n",
    "       lty = 1, bty = \"n\", cex = .8, col = colors)\n",
    "En regardant le mat plot, on observe que le nombre d'échantillons analysés est de 6 (TMT reporter)"
   ]
  },
  {
   "cell_type": "markdown",
   "id": "2ff1284b",
   "metadata": {},
   "source": [
    "### 4.b)\n",
    "Selon le graphique, c'est la protéine ALBU_BOVIN qui semble respecter ces dilutions."
   ]
  },
  {
   "cell_type": "markdown",
   "id": "8c6f562e",
   "metadata": {},
   "source": [
    "### 4.c)\n",
    "TRYP_PIG a une faible intensité dans le premier graphique.\n",
    "on a rajouté ECA pour avoir le background."
   ]
  },
  {
   "cell_type": "markdown",
   "id": "fb940d7c",
   "metadata": {},
   "source": [
    "### 4d)\n",
    "Le rapporteur qui semble avoir la plus grande concentration en albumine bovine est rapporteur 129."
   ]
  },
  {
   "cell_type": "markdown",
   "id": "df33a75f",
   "metadata": {},
   "source": [
    "### 4.e)\n",
    "Le dernier graphique montre une intensité plus élevé de CYT dans le rapporteur 131 par rapport aux autres rapporteurs."
   ]
  },
  {
   "cell_type": "markdown",
   "id": "d8ec12af",
   "metadata": {},
   "source": [
    "## Question 5 - Traitement des données pour enrichissement de GO\n",
    "### 5.a)\n",
    "SARS_massSpec <- read.csv('./R_TP6/data/Gordon_PPI.tsv', \n",
    "                     sep = \"\\t\", \n",
    "                     row.names = 1)\n",
    "L'option sep = \"\\t\" qui est utlisées.\n",
    "Tab separated values dans le papier."
   ]
  },
  {
   "cell_type": "markdown",
   "id": "aefdaaaa",
   "metadata": {},
   "source": [
    "### 5.b)\n",
    "GO pour Gene Ontology; on aurait pu utiliser c2.cp qui donne les pathway des gens curated\n",
    "https://software.broadinstitute.org/cancer/software/gsea/wiki/index.php/MSigDB_v2022.1.Hs_Release_Notes#C5:GO_.28Gene_Ontology.29"
   ]
  },
  {
   "cell_type": "markdown",
   "id": "0c6da4cb",
   "metadata": {},
   "source": [
    "### 5.c)\n",
    "en rentrant le nom de la variable qui définie le fichier de données, on peut compter le nombre de typee de données dans le fichier d'annotation qui est de 10561.\n",
    "> msigdb_DF"
   ]
  },
  {
   "cell_type": "markdown",
   "id": "3b651f56",
   "metadata": {},
   "source": [
    "## Question 6 - Comprendre nos données\n",
    "### 6.a)\n",
    "Il y a 25 protéines Baits dont NSP11, NSP10 et NSP1.\n",
    "Les protéines Bait sont les protéines COVID.\n",
    "Les protéines Prey sont les protéines qui accrochent, entrent en interaction avec les protéines Bait.\n",
    "Le nombre de protéines qu'on dans le dataset correspond donc au nombre de protéines qui entre en interaction avec les protéines COVID."
   ]
  },
  {
   "cell_type": "markdown",
   "id": "aaaba0fd",
   "metadata": {},
   "source": [
    "### 6.b)\n",
    "La fonction unique ici sert à filtrer et à retirer les doublons qu'on aurait dans le tableau. Cela permet d'avoir les protéines qui n'apparaissent qu'une fois pour faciliter les analyses."
   ]
  },
  {
   "cell_type": "markdown",
   "id": "dd6068dd",
   "metadata": {},
   "source": [
    "### 6.c)\n",
    "Dans la fonction GO_OverRep_Analysis, le seuil minGSsize permet d'avoir des groupes de gènes supérieurs à 10, et le seuil maxGSsize permet d'avoir des groupes de gèes inférieur à 500. Ces seuils minimal et maximal permettent d'avoir une analyse plus efficaces et significatives.\n",
    "La significativité est donnée sous forme de p-value, qui est la probabilité d'avoir une interaction entre groupe de gènes, plus la valeur est faible, plus les interactions sont probables."
   ]
  },
  {
   "cell_type": "markdown",
   "id": "22a5fd6f",
   "metadata": {},
   "source": [
    "### 6.d)\n",
    "à l'aide de cette ligne de code : enriched_GOs_master_table <- enriched_GOs_master_table[enriched_GOs_master_table$Count>1, ]\n",
    "Le nombre d'observations éliminées sont 7298 -1361 = 5937"
   ]
  },
  {
   "cell_type": "markdown",
   "id": "bc45f6d5",
   "metadata": {},
   "source": [
    "### 6.e)\n",
    "Après le trie de la p-value, on arrive à 1032 observations, le nombre d'observations ne passant pas ce filtre est de 1361-1032 = 329"
   ]
  },
  {
   "cell_type": "markdown",
   "id": "a5008dfd",
   "metadata": {},
   "source": [
    "### 6.f)\n",
    "msigdb_simple$collection<- as.character(msigdb_simple$collection)\n",
    "On fait appel à la msigdb, Molecular signature database. Qui contient les donnée de JSON version 2022."
   ]
  },
  {
   "cell_type": "markdown",
   "id": "5fe86371",
   "metadata": {},
   "source": [
    "### 6.g)\n",
    "« Glycoprotein metabolic processing » : BP\n",
    "« Golgi apparatus subcompartment » : CC composant cellulaire\n",
    "« DNA replication initiation » : BP procédé biologique\n",
    "« Endopeptidase activity » : MF Fonction moléculaire"
   ]
  },
  {
   "cell_type": "markdown",
   "id": "16cdb4ad",
   "metadata": {},
   "source": [
    "### 6.h)\n",
    "Après l'application de la fonction, le nombre de GO liés à NSP7 sont de 220, dont le procédé de biosynthèse de polysaccharides."
   ]
  },
  {
   "cell_type": "markdown",
   "id": "a73ab861",
   "metadata": {},
   "source": [
    "### 6.i)\n",
    "#On applique la fonction de séparation\n",
    "enriched_GOs_sep <- lapply(enriched_GOs_noRe, sep_GOtype)\n",
    "#On regarde les résultats\n",
    "View(enriched_GOs_sep)\n",
    "\n",
    "Le nombre de GO de type Composant Cellulaire pour l'ORF6 est de 1 dont nuclear pore."
   ]
  },
  {
   "cell_type": "markdown",
   "id": "aff0ce96",
   "metadata": {},
   "source": [
    "### 6.j)\n",
    "enriched_GOs_noRe_DF <- enriched_GOs_noRe_DF[base::order(-enriched_GOs_noRe_DF$log10_p.adj),]\n",
    "View(enriched_GOs_noRe_DF)\n",
    "Quand on demande a visualiser avec la fonction View, on obtient un tableau.\n",
    "Le GO le plus significatif, avec la p-value la plus faible, est le GOCC_ENDOPLASMIC_RETICULUM_LUMEN.\n",
    "Il appartient au BAIT ORF8, le nombre de Prey est de 16, dont TOR1A.\n",
    "La valeur de significativité en log10 de la valeur p ajustée est 13.899994."
   ]
  },
  {
   "cell_type": "markdown",
   "id": "ac002d87",
   "metadata": {},
   "source": [
    "# TP6 Partie 2"
   ]
  },
  {
   "cell_type": "markdown",
   "id": "363a3494",
   "metadata": {},
   "source": [
    "## Présentation\n",
    "C'ets la suite de la partie un."
   ]
  },
  {
   "cell_type": "markdown",
   "id": "5dd601ee",
   "metadata": {},
   "source": [
    "## Question 7 - Préparation des données pour le Heatmap"
   ]
  },
  {
   "cell_type": "markdown",
   "id": "004b8c79",
   "metadata": {},
   "source": [
    "### 7.a)\n",
    "Cette condition sert à ne pas aller au delà du nombre de gènes 25, qui est le nombre de Baits. La position dans la matrice, ce sera les 25 premiers gènes SARS."
   ]
  },
  {
   "cell_type": "markdown",
   "id": "7d8497da",
   "metadata": {},
   "source": [
    "### 7.b)\n",
    "Pour mieux voir la significativité des interactions entre baits et prey."
   ]
  },
  {
   "cell_type": "markdown",
   "id": "f094f71b",
   "metadata": {},
   "source": [
    "### 7.c)\n",
    "La première ligne de code permet de créer la rownames_matrix et d'y intégrer la première ligne de la matrice.\n",
    "Le seconde ligne permet de retirer la première colonne."
   ]
  },
  {
   "cell_type": "markdown",
   "id": "3afe893f",
   "metadata": {},
   "source": [
    "### 7.d)\n",
    "colors3 <- colorRampPalette(brewer.pal(9, \"Blues\"))(256)\n",
    "D'après le fichier qui est créé, le nombre de couleur est de 256."
   ]
  },
  {
   "cell_type": "markdown",
   "id": "3d94ffaf",
   "metadata": {},
   "source": [
    "### 7.e)\n",
    "Le paramètre qui permet de modifier est cellwidth."
   ]
  },
  {
   "cell_type": "markdown",
   "id": "44cb0480",
   "metadata": {},
   "source": [
    "## Question 8 - Enfin on regarde les résultats"
   ]
  },
  {
   "cell_type": "markdown",
   "id": "5724d292",
   "metadata": {},
   "source": [
    "### 8.a)\n",
    "En regardant le HeatMap, ce qui saute aux yeux est la case bleue foncée à l'intersection de la ligne endoplasmic reticulum lumen et la colonne ORF8, or ce qu'on a identifier au Q6 j était qu'on avait la meilleurs significativité pour le Bait ORF8 en lien avec la lumière du réticulum endoplasmique. "
   ]
  },
  {
   "cell_type": "markdown",
   "id": "a316bc1c",
   "metadata": {},
   "source": [
    "### 8.b)\n",
    "En regardant dans le même tableau que la question 6.j), Les valeurs les plus élevées correspondent à RNA splicing, spliceosomal complex.\n",
    "Dans l'article, le Bait NSP12 est associé à la polymérase ARN-dépendante primaire, ça fait sens.\n",
    "Comme le bait est impliqué est lié à la polymérase ARN, il y a plus de chances que des protéines prey en lien avec l'ARN entrent en interaction avec ce Bait lui aussi ayant un lien avec l'ARN."
   ]
  },
  {
   "cell_type": "markdown",
   "id": "f5fdd223",
   "metadata": {},
   "source": [
    "### 8.c)\n",
    "On a un signal bleu pour trois GO car les trois GO sont en lien entre eux également, on a le transport d'ARN, le pore nucléair à travers lequel sont transportés les ARN, et la structure du pore nucléaire."
   ]
  },
  {
   "cell_type": "markdown",
   "id": "0ae7d6d1",
   "metadata": {},
   "source": [
    "### 8.d)\n",
    "On peut en déduire des observations, que NSP9 a une potentielle fonction structurale dans le pore nucléaire lié au transport des ARN messagés à travers ces pores."
   ]
  },
  {
   "cell_type": "markdown",
   "id": "32bad0e8",
   "metadata": {},
   "source": [
    "### 8.e)\n",
    "Certains Bait ont des signaux faibles dans tous les GO car ils n'ont accroché que peu ou pas de Prey liés à ces GO."
   ]
  },
  {
   "cell_type": "markdown",
   "id": "edc8c8ff",
   "metadata": {},
   "source": [
    "## Question 9 - Donnée pour le diagramme à bande"
   ]
  },
  {
   "cell_type": "markdown",
   "id": "dd4534b7",
   "metadata": {},
   "source": [
    "### 9.a)\n",
    "Les informations contenues dans la matrice sot le lien entre les protéines du protéome et les tissus dans lesquels elles ont une interaction, un lien."
   ]
  },
  {
   "cell_type": "markdown",
   "id": "42e86764",
   "metadata": {},
   "source": [
    "### 9.b)\n",
    "Les données de la matrice qui étaient négatives ont été retirées, puis les données restantes ont subit la fonction log10 afin de réduire l'échelle pour faciliter la visualisation et l'analyse du graphique qui suit."
   ]
  },
  {
   "cell_type": "markdown",
   "id": "22653974",
   "metadata": {},
   "source": [
    "## Question 10 - Visualisation des données tissus"
   ]
  },
  {
   "cell_type": "markdown",
   "id": "70915777",
   "metadata": {},
   "source": [
    "### 10.a)\n",
    "Le graphique permet de voir le -log10 p-value en fonction des tissus.\n",
    "ça permet de visualiser avec quels tissus interviennent le plus les protéines du protéome de SARS-CoV2. Ici on peut observer que les tissus les plus en interaction sont les poumons, le foi, coeur, le duodenum, les testis."
   ]
  },
  {
   "cell_type": "markdown",
   "id": "9b92aa9e",
   "metadata": {},
   "source": [
    "### 10.b)\n",
    "\n",
    "Dans l'article donné en début de TP, les tissus les plus touchés sont les poumons et les testicules.\n",
    "\n",
    "Gordon, D.E., Jang, G.M., Bouhaddou, M. et al. A SARS-CoV-2 protein interaction map reveals targets for drug repurposing. Nature 583, 459–468 (2020). https://doi.org/10.1038/s41586-020-2286-9\n",
    "\n",
    "Dans un autre article, ils trouvent que les tissus avec lesquels intéragissent le plus le proteome de SARS-CoV-2 est le cerveau, les testicules, la rate, coeur.\n",
    "\n",
    "Front. Syst. Biol., 29 April 2022\n",
    "Sec. Systems and Synthetic Immunology\n",
    "Volume 2 - 2022 | https://doi.org/10.3389/fsysb.2022.81523"
   ]
  },
  {
   "cell_type": "markdown",
   "id": "489875fc",
   "metadata": {},
   "source": [
    "### 10.c)\n",
    "En faisant la commande View(pvalue_df); on peut observer la matrice avec les pvalue.\n",
    "Toutes les p-values sont supérieures à 0,05, on ne peut donc pas considérer ces valeurs comme étant significatives."
   ]
  }
 ],
 "metadata": {
  "kernelspec": {
   "display_name": "Python 3 (ipykernel)",
   "language": "python",
   "name": "python3"
  },
  "language_info": {
   "codemirror_mode": {
    "name": "ipython",
    "version": 3
   },
   "file_extension": ".py",
   "mimetype": "text/x-python",
   "name": "python",
   "nbconvert_exporter": "python",
   "pygments_lexer": "ipython3",
   "version": "3.10.12"
  }
 },
 "nbformat": 4,
 "nbformat_minor": 5
}
