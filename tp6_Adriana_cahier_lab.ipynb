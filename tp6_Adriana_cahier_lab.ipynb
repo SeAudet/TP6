{
 "cells": [
  {
   "cell_type": "markdown",
   "id": "3bb7e38d",
   "metadata": {},
   "source": [
    "# TP6 - PROTEOMIQUE"
   ]
  },
  {
   "cell_type": "markdown",
   "id": "201d02b6",
   "metadata": {},
   "source": [
    "## Semaine 1"
   ]
  },
  {
   "cell_type": "markdown",
   "id": "813050eb",
   "metadata": {},
   "source": [
    "trypsine: enzyme qui coupe les proteines a des endroits precis\n",
    "\n",
    "    - fait des petits peptides (environ 10 acides amines)"
   ]
  },
  {
   "cell_type": "markdown",
   "id": "985215cd",
   "metadata": {},
   "source": [
    "difficile de capturer toutes les acides amines avec 1 tampon (hydrophile ou hydrophobe)"
   ]
  },
  {
   "cell_type": "markdown",
   "id": "19716d63",
   "metadata": {},
   "source": [
    "tag Strep qui permet la purification\n",
    "\n",
    "on associe des Gene Ontology (GO) a chacune des proteines --> associe des fontions moleculaires aux proteines\n",
    "\n"
   ]
  },
  {
   "cell_type": "markdown",
   "id": "05afa62f",
   "metadata": {},
   "source": [
    "## Partie 1"
   ]
  },
  {
   "cell_type": "markdown",
   "id": "7c7e9b15",
   "metadata": {},
   "source": [
    "### QUESTION 1 - Utilisation de RforProteomics\n",
    "\n",
    "a)Lien symbolique: ln -s /cours/a23_bcm3553_bcm6010-a/cours/TP6/\n",
    "\n",
    "  Acceder aux scripts: cp TP6_Processing.Rmd /home_sens/mu26074/Documents/bcm3553/tp6/\n",
    "  \n",
    "  Repertoire de travail du script R: setwd(\"~/Documents/bcm3553/tp6/\")\n",
    "\n",
    "b) Chemin complet: \"apps_rh8/Local_rh8/R/R-4.3.1/lib64/R/library/msdata/microtofq\"\n",
    "\n",
    "c) Le fichier MM14 n'a pas de peptides, car en affichant les donnees des fichiers par runInfo, on retrouve aucun peptide. En d'autres mots, il n'y a pas de masse/charge (0 Mz) dans les donnees dans MM14. \n",
    "\n",
    "d) La 2e et la 3e ligne represente respectivement la masse/charge minimum et maximum dans les dossiers."
   ]
  },
  {
   "cell_type": "markdown",
   "id": "bdbc6d9b",
   "metadata": {},
   "source": [
    "### QUESTION 2 - Fichier d'identification des peptides\n",
    "\n",
    "a) Les informations dans les 2 fichiers ne sont pas pareils, car les peptide-spectrum match (psms) sont differents (https://www.ncbi.nlm.nih.gov/pmc/articles/PMC2692183/#:~:text=A%20peptide%2Dspectrum%20match%20(PSM,the%20experimental%20mass%20spectrum%20S.)\n",
    "\n",
    "b) Sa masse experimentale est de 792.3792. Elle a ete trouvee a partir de l'entete des 13 premieres lignes (la commande head(psms(mzidTandem))[, 1:13])\n",
    "\n",
    "c) Heat shock cognate 70 kDa protein (HSP70) - Echinococcus granulosus\n",
    "\n",
    "d) La trypsine est l'enzyme peptidase pour les 2 experiences. C'est une enzyme qui coupe les proteines a des endroits precis et elle fait des petits peptides (environ 10 acides amines)."
   ]
  },
  {
   "cell_type": "markdown",
   "id": "3656de8d",
   "metadata": {},
   "source": [
    "### QUESTION 3 - Fichier de signal MS \"Raw\" et leur \"Peptide Spectral Match\" a des proteines\n",
    "\n",
    "a) 1012 peaks\n",
    "\n",
    "b) Le spectre 1 a la plus grande intensite et le spectre 5 a le plus petit ratio masse/charge\n",
    "\n",
    "c) iTRAQ4 permet d'utiliser 4 differents echantillons biologiques en meme temps dans 1 seul spectre ayant des masses/charges entre 114 et 117 (https://www.ncbi.nlm.nih.gov/pmc/articles/PMC4261935/#:~:text=The%204%2Dplex%20iTRAQ%20reagents,ranging%20from%2024%E2%80%9331%20Da.)"
   ]
  },
  {
   "cell_type": "markdown",
   "id": "d122515d",
   "metadata": {},
   "source": [
    "### QUESTION 4 - Reconstruction des donnees peptidiques et visualisation graphique\n",
    "\n",
    "a) Il y a 6 echantillons qui ont ete analyses (126 a 131).\n",
    "\n",
    "b) La proteine ALBU_BOVIN a ete diluee de cette facon. \n",
    "\n",
    "c) Dans le heatmap, on remarque qu'il n'y a plus de TRYP_PIG, car dans le matplot, on remarque que son intensite est basse et constante compare aux autres proteines. On ajoute ECA comme controle. \n",
    "\n",
    "d) Le rapporteur 129 a la plus grande concentration d'albumine bovine (BSA).\n",
    "\n",
    "e) On voit une plus grande intensite dans le rapporteur 131 au signal CYT avec seulement 2 replicas. "
   ]
  },
  {
   "cell_type": "markdown",
   "id": "18346bc8",
   "metadata": {},
   "source": [
    "### QUESTION 5 - Traitement des donnees pour enrichissement de GO\n",
    "\n",
    "a) La commande sep = \"\\t\" permet de separer les donnees par tabulation. Le fichier Gordon_PPI.tsv utilise cette commande, car son suffixe est .tsv, donc on utilise les tabulations. \n",
    "\n",
    "b) On aurait pu utiliser MF pour determiner les voies moleculaires associees a des fonctions de cellules normales (https://www.gsea-msigdb.org/gsea/msigdb/human/collections.jsp)\n",
    "\n",
    "c) 10 variables etaient disponibles dans le fichier d'annotation."
   ]
  },
  {
   "cell_type": "markdown",
   "id": "ab1cc8df",
   "metadata": {},
   "source": [
    "### QUESTION 6 - Comprendre nos donnees\n",
    "\n",
    "a) Il y a 25 proteines 'Bait' dont 3 de ces proteines sont N, M et E. Pour determiner le nombre de proteines 'Prey', on fait cette commande: length (SARS_massSpec$Prey_Gene) ce qui nous donne 304 proteines 'Prey'.\n",
    "\n",
    "b) La fonction 'unique' permet d'identifier ainsi que d'eliminer les valeurs qui sont en duplicatas dans les donnees, c'est-a-dire, on garde seulement 1 des replicas. (https://www.digitalocean.com/community/tutorials/unique-function-r-programming) \n",
    "\n",
    "c) Les seuils min/maxGSsize permettent de determiner la taille minimum et maximum de genes annotes par Gene Ontology.Les valeurs de significativite ont un p-value < 0,05 et un q-value < 0,2.\n",
    "\n",
    "d) On est passe de 7398 lignes (observations) a 1361 pour le score, donc 6037 GO ont ete eliminees.\n",
    "\n",
    "e) On est passe de 1361 lignes (observations) a 1032 pour le p-value, donc 329 GO ont ete eliminees.\n",
    "\n",
    "f) La banque de donnees est: enriched_GOs_master_table.\n",
    "\n",
    "g) \"Glycoprotein metabolic processing\": BP\n",
    "   \"Golgi apparatus subcompartment\": CC\n",
    "   \"DNA replication initiation\": BP\n",
    "   \"Endopeptidase activity\": MF\n",
    "\n",
    "h) Il y a 220 termes GO qui sont associes a NSP7 dont GOMF_ATPASE_ACTIVATOR_ACTIVITY grace a la commande: View(enriched_GOs_noRe$NSP7).\n",
    "\n",
    "i) Pour afficher les resultats, la commande est: View(enriched_GOs_sep$ORF6). Cela nous donne 1 GO de type CC (1 row) soit GOCC_NUCLEAR_PORE\n",
    "\n",
    "j) Le terme GO le plus significatif de la fonction \"base::order\" est de type CC soit le 'Bait' ORF8. 16 proteines 'Prey' participent au signal d'enrichissement dont TOR1A avec une valeur de p ajustee en log10 de 13,8999937. "
   ]
  },
  {
   "cell_type": "markdown",
   "id": "591fe10d",
   "metadata": {},
   "source": [
    "## Semaine 2"
   ]
  },
  {
   "cell_type": "markdown",
   "id": "8549d1d9",
   "metadata": {},
   "source": [
    "### QUESTION 7 - Preparation des donnees pour Heatmap\n",
    "\n",
    "a) Cette condition permet de choisir toutes longueurs du SARS_genes_count qui sont plus petits ou egales a 25. En d'autres mots, on choisit les 25 premiers genes. \n",
    "\n",
    "b) Il faut transformer la valeur de significativite, car les p-values sont trop petits, donc il y aurait une faible difference soit une mauvaise visualisation du graphique. \n",
    "\n",
    "c) rownames_matrix <- GO_enrich_matrix[,1] permet de combiner la colonne 1 de GO_enrich_matrix et ses rangees en 1 variable avec cette modification (seulement les GO_terms sont conserves) tandis que GO_enrich_matrix <- GO_enrich_matrix[,-c(1)] permet de retirer la premiere colonne de GO_enrich_matrix et de creer la nouvelle variable GO_enrich_matrix avec ce changement (les GO_terms sont enleves).\n",
    "\n",
    "d) Il y a 256 couleurs.\n",
    "\n",
    "e) Ce parametre: cellwidth permet de modifier la largeur des carres heatmap.(https://www.rdocumentation.org/packages/pheatmap/versions/1.0.12/topics/pheatmap) "
   ]
  },
  {
   "cell_type": "markdown",
   "id": "2939824a",
   "metadata": {},
   "source": [
    "### QUESTION 8 - On regarde les resultats\n",
    "\n",
    "a) A la question 6j, on a dit que le terme GO le plus significatif est le Bait ORF8. Lorsqu'on regarde le heatmap, cette reponse est validee, car a ce Bait, la couleur est la plus foncee confirmant que ce Bait est significatif. \n",
    "\n",
    "b) Selon le heatmap, *RNA splicing* a une couleur plus foncee compare aux autres et selon l'article NSP12 est *\"the primary RNA-dependent RNA polymerase\"*. Donc, ce resultat fait du sens, car une polymerase d'ARN permet de synthetiser de l'ARN a partir d'un ADN tandis que RNA splicing permet de produire un ARNm. \n",
    "\n",
    "c) Les GO sont choisis en fonction de leur p-values alors cela explique pourquoi nous avons 3 termes GO significatifs associes a NSP9.\n",
    "\n",
    "d) Les fonctions potentielles de la proteine NSP9 sont une machinerie de transport nucleaire ainsi que de structurer les composantes des pores nucleaires. \n",
    "\n",
    "e) Les signaux pales signifient que le -log10p-value est faible, donc la plupart des Baits ne sont pas significatifs, car plusieurs Baits ne sont pas impliques dans plusieurs voies cellulaires. "
   ]
  },
  {
   "cell_type": "markdown",
   "id": "022b15b1",
   "metadata": {},
   "source": [
    "### QUESTION 9 - Donnees pour le diagramme a bande\n",
    "\n",
    "a) Dans cette matrice, on retrouve les ID des 15, 210 proteines et des genes avec le nom de ces genes ainsi que les abondances de plusieurs types de tissus pour chaque proteine. \n",
    "\n",
    "b) Les donnees d'abondances sont transformees en log10 soit un chiffre superieur a 0 et les abondances de 0 sont modifiees en -lnf pour les preparer pour la prochaine commande (enelver les valeurs negatives)."
   ]
  },
  {
   "cell_type": "markdown",
   "id": "de67f3db",
   "metadata": {},
   "source": [
    "### QUESTION 10 - Visualisation des donnees tissus\n",
    "\n",
    "a) Selon le graphique, les donnees en x sont les types de tissus et les donnees en y representent les -log10 des p-values des expressions tissulaires des proteines qui interaggisent avec SARS. Alors, ce graphique nous montre la signficativite de chaque expression tissulaire des proteines capturees.\n",
    "\n",
    "b) Les resultats sont consistants avec la litterature, car selon l'article (1), le tissu ayant le plus d'expression de proteines SARS interagissant avec les proteines des tissus est les poumons tout comme ce qu'on a obtenu dans notre graphique. Cela est logique, car SARS-CoV2 est un virus ayant un syndrome respiratoire aigu severe, donc les proteines SARS-CoV2 doivent interagir principalement avec les proteines du poumon (2). Cependant, les resultats des autres tissus ne concordent pas avec ceux de l'article (1). \n",
    "\n",
    "[1] Gordon, D.E., Jang, G.M., Bouhaddou, M. et al. A SARS-CoV-2 protein interaction map reveals targets for drug repurposing. Nature 583, 459–468 (2020). https://doi.org/10.1038/s41586-020-2286-9\n",
    "\n",
    "[2] https://www.canada.ca/fr/sante-publique/services/biosecurite-biosurete-laboratoire/fiches-techniques-sante-securite-agents-pathogenes-evaluation-risques/coronavirus-syndrome-respiratoire-aigu-severe-2.html\n",
    "\n",
    "c) Selon les donnees du pvalue_df, aucun resultat est significatif, car les p-values de chaque expression tissulaire des proteines interagissant avec SARS-CoV2 sont superieures a 0,05 (p > 0,05). "
   ]
  }
 ],
 "metadata": {
  "kernelspec": {
   "display_name": "Python 3 (ipykernel)",
   "language": "python",
   "name": "python3"
  },
  "language_info": {
   "codemirror_mode": {
    "name": "ipython",
    "version": 3
   },
   "file_extension": ".py",
   "mimetype": "text/x-python",
   "name": "python",
   "nbconvert_exporter": "python",
   "pygments_lexer": "ipython3",
   "version": "3.10.12"
  }
 },
 "nbformat": 4,
 "nbformat_minor": 5
}
