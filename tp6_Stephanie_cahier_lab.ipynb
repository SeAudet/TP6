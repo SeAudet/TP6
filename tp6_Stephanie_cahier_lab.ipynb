{
 "cells": [
  {
   "cell_type": "markdown",
   "id": "6d6cd689",
   "metadata": {},
   "source": [
    "# TP6 (14-11-2023)"
   ]
  },
  {
   "cell_type": "markdown",
   "id": "f6846f6e",
   "metadata": {},
   "source": [
    "Notes:\n",
    "\n",
    "Proteomique signal sont moins claires qu'en transcriptomique (pcq plus d'aa que d'acide nucleique)\n",
    "\n",
    "Contamination peut etre detecter par spectrophotometre (plus evident)\n",
    "\n",
    "Spectro de masse --- mol charge sur detecteur, detecte selon masse sur charge (m/z)\n",
    "\n",
    "Contexte TP: sars cov 2 ORF production de proteines\n",
    "\n",
    "interactome --- comparaison peut etre interessant, par ex toutes proteines humaines avec lesquelles interagissent avec covid (pas dans TP)\n",
    "\n"
   ]
  },
  {
   "cell_type": "markdown",
   "id": "47d5d0d4",
   "metadata": {},
   "source": [
    "**Question 1**"
   ]
  },
  {
   "cell_type": "markdown",
   "id": "9933efb1",
   "metadata": {},
   "source": [
    "a)"
   ]
  },
  {
   "cell_type": "code",
   "execution_count": null,
   "id": "83f21884",
   "metadata": {},
   "outputs": [],
   "source": [
    "#Creation de lien symbolique vers les donnees (dans un repertoire TP6)\n",
    "ln -s /cours/a23_bcm3553_bcm6010-a/cours/TP6\n",
    "\n",
    "#Copie du script R dans mon repertoire TP6\n",
    "cp TP6_Processing.Rmd ~/Documents/BCM6010/TP6\n",
    "#J'ai renommer le fichier TP6_Processing_copie.Rmd\n",
    "\n",
    "#Path pour les donnees du TP\n",
    "/home_sens/pm84650/Documents/BCM6010/TP6"
   ]
  },
  {
   "cell_type": "markdown",
   "id": "b88fac95",
   "metadata": {},
   "source": [
    "b)\n",
    "\n",
    "Pour MM8:\n",
    "\n",
    "/apps_rh8/Local_rh8/R/R-4.3.1/lib64/R/library/msdata/microtofq/MM8.mzML\n",
    "\n",
    "Pour MM14:\n",
    "\n",
    "/apps_rh8/Local_rh8/R/R-4.3.1/lib64/R/library/msdata/microtofq/MM14.mzML"
   ]
  },
  {
   "cell_type": "markdown",
   "id": "2acdf9ba",
   "metadata": {},
   "source": [
    "c)\n",
    "\n",
    "Il est possible de determiner que le fichier MM14 est vide, car en roulant runInfo(mz14), on obtient des valeurs \"lowMz\" et \"highMz\" de 0, tandis que runInfo(mz8) on obtient des valeurs."
   ]
  },
  {
   "cell_type": "markdown",
   "id": "9ef3224d",
   "metadata": {},
   "source": [
    "d)\n",
    "\n",
    "Je pense que la 2e et 3e valeurs retournees pour MM8 (lowMz:95.51765 et highMz:1005.043) sont possiblement le nombre de peptides ayant une masse/charge (m/z) basse et haute."
   ]
  },
  {
   "cell_type": "markdown",
   "id": "dbcaeaa7",
   "metadata": {},
   "source": [
    "**Question 2**"
   ]
  },
  {
   "cell_type": "markdown",
   "id": "16e09be0",
   "metadata": {},
   "source": [
    "a)\n",
    "\n",
    "Non, ils ne contiennent pas exactement les memes infos. Certaines categories d'info sont repetee dans Mascot (spectrumID, rank, etc.). Cependant, Mascot contient aussi Mascot identity et homology et number of peptide seqs compared to each spectrum."
   ]
  },
  {
   "cell_type": "markdown",
   "id": "cf5cf23c",
   "metadata": {},
   "source": [
    "b)\n",
    "\n",
    "Il y a plusieurs masses experimentales parce qu'il a 2 fois le meme peptide. Soit 792.3792 et 792.5295 (m/z). La charge (chargeState) est de 3 (z). (m/z) x (z), ce qui donne 2377,5885 comme masse (m) (en Da?). J'ai trouver l'information dans le tableau qui permettait d'observer les 13 premieres lignes\n",
    "\n",
    "head(psms(mzidTandem))[,1:13]"
   ]
  },
  {
   "cell_type": "markdown",
   "id": "46739bb3",
   "metadata": {},
   "source": [
    "c)\n",
    "\n",
    "Le peptide provient de la proteine \"heat shock cognate\" et provient de l'espece \"Echinococcus granulosus\"."
   ]
  },
  {
   "cell_type": "markdown",
   "id": "c04ce80b",
   "metadata": {},
   "source": [
    "d)\n",
    "\n",
    "La peptidase utilisee est la trypsine. C'est une enzyme qui coupe le cote C d'une lysine ou une arginine."
   ]
  },
  {
   "cell_type": "markdown",
   "id": "6dee02fa",
   "metadata": {},
   "source": [
    "**Question 3**"
   ]
  },
  {
   "cell_type": "markdown",
   "id": "81566b30",
   "metadata": {},
   "source": [
    "a)\n",
    "\n",
    "Il semble qu'il a 2921 pics ioniques.\n",
    "\n",
    "Avec raw[[1]] "
   ]
  },
  {
   "cell_type": "markdown",
   "id": "7caea1cc",
   "metadata": {},
   "source": [
    "b)\n",
    "\n",
    "Visuellement, il semble que le spectre 3 a le plus de signaux de hautes intensites. Je dirais que le spectre 5 a le plus petit ratio m/z, il a plus de pics du cote gauche du spectre."
   ]
  },
  {
   "cell_type": "markdown",
   "id": "95935e46",
   "metadata": {},
   "source": [
    "c)\n",
    "\n",
    "Les reporteurs iTRAQ4 afin de visualiser les ions rapporteurs (qui sont un marqueur chimique applique sur les peptides). Ils sont representer dans un graph avec des couleurs."
   ]
  },
  {
   "cell_type": "markdown",
   "id": "ceebbaa4",
   "metadata": {},
   "source": [
    "**Question 4**"
   ]
  },
  {
   "cell_type": "markdown",
   "id": "e541f029",
   "metadata": {},
   "source": [
    "a)\n",
    "\n",
    "Il semble y avoir 6 echantillons analyses...(avec des pics d'intensites variantes)"
   ]
  },
  {
   "cell_type": "markdown",
   "id": "f4e556b9",
   "metadata": {},
   "source": [
    "b)\n",
    "\n",
    "On dirait que ce pattern de dilution correspond au spectre 4 (celui de l'albumine de bovin)"
   ]
  },
  {
   "cell_type": "markdown",
   "id": "0b022161",
   "metadata": {},
   "source": [
    "c)\n",
    "\n",
    "Je pense qu'on ne s'interesse plus a TRYP_PIG puiqu'il n'y a pas de variation de l'intensite de la proteine. Elle reste pareille peu importe le rapporteur. Je pense que le rajout de ECA est fait parce qu'il semble varier en concentration dependant du rapporteur. Cela permet d'eliminer ce qu'on considererait du bruit de fond (offre une distribution normale ddes rapporteurs). "
   ]
  },
  {
   "cell_type": "markdown",
   "id": "dd520d7f",
   "metadata": {},
   "source": [
    "d)\n",
    "\n",
    "Le rapporteur 129 contient la plus grande concentration de BSA (albumine bovine)."
   ]
  },
  {
   "cell_type": "markdown",
   "id": "12e5ede5",
   "metadata": {},
   "source": [
    "e)\n",
    "\n",
    "Je pense que cyt ne peut etre considerer dans les autres rapporteurs parce que l'intensite de cyt dans les autres rapporteurs ne depassent pas la distribution normale (vue par ECA)."
   ]
  },
  {
   "cell_type": "markdown",
   "id": "07a5335e",
   "metadata": {},
   "source": [
    "**RENDU LIGNE 186 DANS SCRIPT R**"
   ]
  },
  {
   "cell_type": "markdown",
   "id": "5ee0d302",
   "metadata": {},
   "source": [
    "**Question 5**"
   ]
  },
  {
   "cell_type": "markdown",
   "id": "19c7aa5a",
   "metadata": {},
   "source": [
    "a)\n",
    "\n",
    "Il est possible de savoir que ce sont des donnees separees par des tabs a cause de l'extension .tsv (tabulation separated values)."
   ]
  },
  {
   "cell_type": "markdown",
   "id": "de94a6ca",
   "metadata": {},
   "source": [
    "b)\n",
    "\n",
    "Puisque que les termes C5.GO sont les \"ontology gene set\", je pense que les termes C2.GO pourraient etre utilises puiqu'ils regroupent les \"Canonical pathway\", ce que je crois etre associe aux voies moleculaires de cellules normales.\n",
    "\n",
    "Selon le site: https://www.gsea-msigdb.org/gsea/msigdb/human/collections.jsp"
   ]
  },
  {
   "cell_type": "markdown",
   "id": "59ee97cf",
   "metadata": {},
   "source": [
    "c)\n",
    "\n",
    "Il semble avoir eu 10561 termes GO."
   ]
  },
  {
   "cell_type": "markdown",
   "id": "96d9be36",
   "metadata": {},
   "source": [
    "**Question 6**"
   ]
  },
  {
   "cell_type": "markdown",
   "id": "362f2b13",
   "metadata": {},
   "source": [
    "a)\n",
    "\n",
    "Il semble avoir 25 proteines \"bait\" dont \"ORF9B\", \"NSP9\" et \"N\"."
   ]
  },
  {
   "cell_type": "markdown",
   "id": "eb51119f",
   "metadata": {},
   "source": [
    "b)\n",
    "\n",
    "La fonction \"unique\" permet de se debarrasser/d'eliminer les donnees dupliquees. Donc, dans le spectre, on aura que des donnees uniques (dans objet SARS_protein_list)."
   ]
  },
  {
   "cell_type": "markdown",
   "id": "3aac225c",
   "metadata": {},
   "source": [
    "c)\n",
    "\n",
    "Les seuils \"min/maxGSsize\" sont utilises pour limiter la taille des genes annotes testes (min pour la taille minimale et max pour la taille maximale). Je pense que les valeurs de significativite sont donnees par les p-value, on ne garde que les valeurs ayant des p-value en-dessous de 0,05.\n",
    "\n",
    "https://rdrr.io/bioc/clusterProfiler/man/enricher.html"
   ]
  },
  {
   "cell_type": "markdown",
   "id": "40a65b3f",
   "metadata": {},
   "source": [
    "d)\n",
    "\n",
    "Il y avait 18 variables avant le filtre d'un score superieur a 1. Et 12 variables apres, donc 6 lignes ont ete supprimes."
   ]
  },
  {
   "cell_type": "markdown",
   "id": "141d977b",
   "metadata": {},
   "source": [
    "e)\n",
    "\n",
    "Le nombres de variables n'a pas changer, donc 0 lignes ont ete supprimee."
   ]
  },
  {
   "cell_type": "markdown",
   "id": "b338b8e0",
   "metadata": {},
   "source": [
    "f)\n",
    "\n",
    "La banque de donnees semble etre \"org.Hs.eg.db\". Ce semble etre une banque de donnees des genes humains annote."
   ]
  },
  {
   "cell_type": "markdown",
   "id": "e8db2739",
   "metadata": {},
   "source": [
    "g)\n",
    "\n",
    "BP: \"Biological Process\"; MF: \"Molecular Function\"; CC: \"Cellular Component\"\n",
    "\n",
    "Glycoprotein metabolic processing --- BP\n",
    "\n",
    "Golgi apparatus subcompartment --- CC\n",
    "\n",
    "DNA replication initiation --- BP\n",
    "\n",
    "Endopeptidase activity --- MF\n",
    "\n",
    "** Possible de regarder sur internet, ou chercher dans R (Voir lignes 317 a 330), a droite --- clicker sur \"clustered_GOterms_DF\" et ctrl+F"
   ]
  },
  {
   "cell_type": "markdown",
   "id": "6de6c6c5",
   "metadata": {},
   "source": [
    "h)\n",
    "\n",
    "Il y a 220 GO terms dont \"GOBP_POLYSACCHARIDE_BIOSYNTHETIC_PROCESS\"."
   ]
  },
  {
   "cell_type": "markdown",
   "id": "11e3e15f",
   "metadata": {},
   "source": [
    "i)\n",
    "\n",
    "Il y a 1 seul GO term \"GOCC_NUCLEAR_PORE\"."
   ]
  },
  {
   "cell_type": "markdown",
   "id": "4096f090",
   "metadata": {},
   "source": [
    "j)\n",
    "\n",
    "En regardant le tableau produit dans \"enriched_GOs_noRe_DF\", le terme GO le plus significatif est GOCC_ENDOPLASMIC_RETICULUM_LUMEN, il appartient au bait ORF8. Il y a 16 proteines prey dont \"TOR1A\". Le log10_p.adj est de 13.8999937."
   ]
  },
  {
   "cell_type": "markdown",
   "id": "a3243b34",
   "metadata": {},
   "source": [
    "# Partie 2 (21-11-2023)"
   ]
  },
  {
   "cell_type": "markdown",
   "id": "d7f06038",
   "metadata": {},
   "source": [
    "**Question 7**"
   ]
  },
  {
   "cell_type": "markdown",
   "id": "12a4cf5b",
   "metadata": {},
   "source": [
    "a)\n",
    "\n",
    "Le while loop permet de repeter du code tant que la condition enoncee est vraie. Dans le cas \"while(length(SARS_genes_count) <= 25\", R repetera le code qui suit tant que le nombre de gene soit plus petit ou egal a 25."
   ]
  },
  {
   "cell_type": "markdown",
   "id": "194ee742",
   "metadata": {},
   "source": [
    "b)\n",
    "\n",
    "Dans \"enriched_GOs_noRe_DF\" les valeurs de significativite fonctionnent de facon a ce que plus la p-value es petite, plus c'est interessant. Cependant, si ces donnees avaient ete mises en heatmap, cela aurait mis les valeurs les plus interessantes dans le blanc (dans notre echelle de heatmap, la valeur la plus basse se rapproche du blanc). Dans \"Go_enrich_DF\", on inverse la valeur de significativite, ce qui veut dire que dans le heatmap, les resultats les plus interessants sont colores en bleu. C'est plus facile a visualiser et interpreter les donnees. "
   ]
  },
  {
   "cell_type": "markdown",
   "id": "b7cf90de",
   "metadata": {},
   "source": [
    "c)\n",
    "\n",
    "rownames_matrix <- GO_enrich_matrix[,1] --- Met la premiere colonne de GO_enrich_matrix dans objet rownames_matrix, ce sont les GO terms qui seront utiliser comme noms de rangees.\n",
    "\n",
    "GO_enrich_matrix <- GO_enrich_matrix[,-c(1)] --- Combine la rangee 1 avec ce qu'on a deja mis dans GO_enrich_Matrix, met la 1ere rangee de GO_enrich_matrix dans colonne avec GO terms"
   ]
  },
  {
   "cell_type": "markdown",
   "id": "20511107",
   "metadata": {},
   "source": [
    "d)\n",
    "\n",
    "Il n'y a qu'une seule couleur, car le groupe \"Blues\" est utilises. On utilise que des variantes de bleu."
   ]
  },
  {
   "cell_type": "markdown",
   "id": "46c02701",
   "metadata": {},
   "source": [
    "e)\n",
    "\n",
    "C'est le parametre \"cellwidth\" et \"cellheight\" qui permet de controler la taille des cellules dans le heatmap (Ceci n'est pas changer dans ce cas-ci.)."
   ]
  },
  {
   "cell_type": "markdown",
   "id": "3b8c5854",
   "metadata": {},
   "source": [
    "**Question 8**"
   ]
  },
  {
   "cell_type": "markdown",
   "id": "db4563f5",
   "metadata": {},
   "source": [
    "a)\n",
    "\n",
    "Je pense que c'est en effet consistent avec ce qui a ete obtenu a la question 6)j. Le GO term presentant le plus de proteine prey est bien endoplasmic reticulum lumen et celui-ci est effectivement associe au bait ORF8 (le point est le plus fonce dans le heatmap)."
   ]
  },
  {
   "cell_type": "markdown",
   "id": "55b5d389",
   "metadata": {},
   "source": [
    "**Rendu a la ligne 593 dans script R**"
   ]
  },
  {
   "cell_type": "markdown",
   "id": "3af55d28",
   "metadata": {},
   "source": [
    "b)\n",
    "\n",
    "Le GO le plus enrichie pour le bait NSP12 est le RNA splicing. Je pense que le resultat fait du sens puisque selon la presentation, NSP12 donne une proteine non-structurale: la polymerase. Celle-ci permet de produire l'ARN qui sera episse. Le fait qu'une interaction est illustree entre la polymerase et le RNA splicing permet d'emettre l'hypothese que la polymerase interagit peut-etre encore avec l'ARN lorsqu'elle est produite. Elle pourrait avoir un role avec l'epissage de l'ARN."
   ]
  },
  {
   "cell_type": "markdown",
   "id": "7c6d4e94",
   "metadata": {},
   "source": [
    "c)\n",
    "\n",
    "Les 3 termes GO associe a NSP9 sont \"mitochondrial transport\", \"nuclear pore\" et \"structural constituent of nuclear pore\". Les GO sont choisis selon leur abondance et leur p-value. Il doit y avoir alors une grande abondance de proteines humaines qui avaient des interaction avec NSP9 qui avaient des fonction mitochondriales ou nucleaires, et dont les p-value etaient tres significatives. De plus, le heatmap ne represente que les top GO terms."
   ]
  },
  {
   "cell_type": "markdown",
   "id": "82de03f5",
   "metadata": {},
   "source": [
    "d)\n",
    "\n",
    "Je pense que la conclusion qu'on peut faire vis-a-vis les 3 termes GO et NSP9 et sa fonction est qu'elle est utilise pour le transport a travers des membranes (puisque les mitochondrie et noyau ont des membranes)."
   ]
  },
  {
   "cell_type": "markdown",
   "id": "2fc462c4",
   "metadata": {},
   "source": [
    "e)\n",
    "\n",
    "Je pense que c'est parce que ces baits avait peu ou tres peu d'interactions avec des proteines humaines reliees a ces fonctions. Puisque le heatmap est inverse (on a affiche les interactions plus significatives en couleur, le contraire aurait ete plus complexe a interpreter), les points d'interactions moins colores ont alors des p-value plus elevees et ont donc plus de chances d'avoir des interactions qui ne sont pas du a une interaction."
   ]
  },
  {
   "cell_type": "markdown",
   "id": "f4131354",
   "metadata": {},
   "source": [
    "**Question 9**"
   ]
  },
  {
   "cell_type": "markdown",
   "id": "542e555c",
   "metadata": {},
   "source": [
    "a)\n",
    "\n",
    "Dans la matrice, on trouve le nombre de proteines exprimees dans different organes/tissus (colon, duodenum, coeur, etc.)."
   ]
  },
  {
   "cell_type": "markdown",
   "id": "b527e1e1",
   "metadata": {},
   "source": [
    "b)\n",
    "\n",
    "Les transformations dans cette section semblent affecter que les donnees qui etaient negatives ou tres petites (proche de l'infini). On permet alors de se debarrasser de ces donnees puiqu'elles peuvent causer des problemes et ne sont pas necessaires (puisqu'on parle ici de l'expression proteique et une expression negative n'est pas possible)."
   ]
  },
  {
   "cell_type": "markdown",
   "id": "235bddf6",
   "metadata": {},
   "source": [
    "**Question 10**"
   ]
  },
  {
   "cell_type": "markdown",
   "id": "9b71735b",
   "metadata": {},
   "source": [
    "a)\n",
    "\n",
    "Je pense que le graphique permet de visualiser les proteines virales et leur interactions avec des proteines de differents tissus."
   ]
  },
  {
   "cell_type": "markdown",
   "id": "38ac6350",
   "metadata": {},
   "source": [
    "b)\n",
    "\n",
    "Oui, les resultats sont consistents avec la litterature. Comme le denome sont nom, le sars-cov-2 affecte majoritairement les tissus pulmonaires (etant un virus respiratoire). Cependant, plusieurs autres symptomes sont remarques, en particulier de l'inflammation, effets cardiaques (acute coronary syndrome du au manque d'oxygene, autres panoplies de problemes a cause de severes inflammation), effets renal, sur le cerveau, sur les yeux, effet gastrointestinal (tant intestin et foie a cause de systeme immunitaire trop actif ou de medicaments dommageant), etc. Il semble que le virus de covid-19 se lie au recepteur ACE2 qui se trouve dans plusieurs tissus sur plusieurs organes, ce qui mene a un impact sur plusieurs organes (majorite les premiers resultats dans le graphique). \n",
    "\n",
    "Sources:\n",
    "\n",
    "https://www.nature.com/articles/s41586-020-2286-9 (l'article sur lequel est base la mise en contexte du TP)\n",
    "\n",
    "https://www.ncbi.nlm.nih.gov/pmc/articles/PMC7470660/ (\"Effect of COVID-19 on the Organs\")"
   ]
  },
  {
   "cell_type": "markdown",
   "id": "abbaca53",
   "metadata": {},
   "source": [
    "c)\n",
    "\n",
    "Le -log10(p-value) permet d'inverser les p-value. Donc la valeur -log10 qui correspond a 0,05 est 1,3 (selon: https://www.jmp.com/support/downloads/JMPG101_documentation/Content/JMPGUserGuide/PA_G_AA_0001.htm). Donc, si -log10(0,05) = 1,3, alors 10^-1.3 = 0,05. Dans ce cas, nous pouvons faire le meme chemin pour les valeurs dans le graphique (sur l'axe des y). Donc, 10^-0,6 =0.25; 10^-0,4 =0,39... On peut alors assumer que plus on diminue de valeur sur l'axe, plus la p-value augmente. On doit alors assumer que les resultats ne sont pas significatifs puisque les p-value sont plus elevees que 0,05. "
   ]
  }
 ],
 "metadata": {
  "kernelspec": {
   "display_name": "Python 3 (ipykernel)",
   "language": "python",
   "name": "python3"
  },
  "language_info": {
   "codemirror_mode": {
    "name": "ipython",
    "version": 3
   },
   "file_extension": ".py",
   "mimetype": "text/x-python",
   "name": "python",
   "nbconvert_exporter": "python",
   "pygments_lexer": "ipython3",
   "version": "3.10.12"
  }
 },
 "nbformat": 4,
 "nbformat_minor": 5
}
