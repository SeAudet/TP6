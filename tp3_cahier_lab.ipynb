{
 "cells": [
  {
   "cell_type": "markdown",
   "id": "39133d5d",
   "metadata": {},
   "source": [
    "# Cahier de lab"
   ]
  },
  {
   "cell_type": "raw",
   "id": "4fe15fc1",
   "metadata": {},
   "source": [
    "Il existe plusieurs manieres d'editer l'ADN genomique. Tel qu les sytemes Crispr associe a differents types de Cas ou de nickase. Certaines Cas ont ete modifie pour cliver seulement un des brins ou pour ne pas cliver du tout et juster s'associer pour affecter l'expression. Pour cibler une sequence, on peut inserer un ARN guide pour eviter que la Cas clive aleatoirement. L'ARN guide s'hybride avec la sequence cherchee et la Cas clive 3 ou 4 nucleotides apres la sequence PAM. On peut utiliser Chop-Chop pour modeliser les sequences d'ARN guide selon certains criteres. Tel que le pourcentage en GC, la complementarite avec soi-meme, le nombre de off-target et l'efficacite attendue. La longueur ideale d'un guide RNA est de 20 nucleotides avec une teneur GC de 40 a 60% et le moins de off-target possibles.  "
   ]
  },
  {
   "cell_type": "markdown",
   "id": "aa42874d",
   "metadata": {},
   "source": [
    "## Question 1:"
   ]
  },
  {
   "cell_type": "markdown",
   "id": "eba96c8e",
   "metadata": {},
   "source": [
    "a)"
   ]
  },
  {
   "cell_type": "raw",
   "id": "0c496d3f",
   "metadata": {},
   "source": [
    "Les resultats sont differents parce que le code RefSeq est une reference a un ARN messager specifique associee a ce gene, tandis que CHOCHOP donne des pistes pour fabriquer des ARNm specifiques a l'usager."
   ]
  },
  {
   "cell_type": "markdown",
   "id": "f3ee1211",
   "metadata": {},
   "source": [
    "b)"
   ]
  },
  {
   "cell_type": "raw",
   "id": "07e14295",
   "metadata": {},
   "source": [
    "Il y a une haute teneur en GC et le 17eme nucleotide est une adenosine."
   ]
  },
  {
   "cell_type": "markdown",
   "id": "fdf9db88",
   "metadata": {},
   "source": [
    "c)"
   ]
  },
  {
   "cell_type": "raw",
   "id": "19b983ed",
   "metadata": {},
   "source": [
    "La sequence PAM est CGG elle se trouve au debut de la sequence. non je ne la commanderais pas."
   ]
  },
  {
   "cell_type": "markdown",
   "id": "9a4fc77d",
   "metadata": {},
   "source": [
    "d)"
   ]
  },
  {
   "cell_type": "raw",
   "id": "1ce19b61",
   "metadata": {},
   "source": [
    "ACTTTCCTGGACCGCGA|CGACGG ou ACTTTCCTGGACCGCG|ACGACGG"
   ]
  },
  {
   "cell_type": "markdown",
   "id": "97df4358",
   "metadata": {},
   "source": [
    "e)"
   ]
  },
  {
   "cell_type": "raw",
   "id": "70fcf6c9",
   "metadata": {},
   "source": [
    "Il pourrait etre meilleur s'il produit moins de off-targets."
   ]
  },
  {
   "cell_type": "markdown",
   "id": "d3c7fa07",
   "metadata": {},
   "source": [
    "## Question 2:"
   ]
  },
  {
   "cell_type": "markdown",
   "id": "de986f9e",
   "metadata": {},
   "source": [
    "a)"
   ]
  },
  {
   "cell_type": "raw",
   "id": "eade569f",
   "metadata": {},
   "source": [
    "Il faudrait faire un knock-in dans l'extremite C-ter juste apres le codon start ou juste avant le premier exon."
   ]
  },
  {
   "cell_type": "markdown",
   "id": "3f7d4c53",
   "metadata": {},
   "source": [
    "b)"
   ]
  },
  {
   "cell_type": "raw",
   "id": "ebf4dc2d",
   "metadata": {},
   "source": [
    "CGTAACCCGAGGCCCTTTGC"
   ]
  },
  {
   "cell_type": "markdown",
   "id": "fe41eb07",
   "metadata": {},
   "source": [
    "c)"
   ]
  },
  {
   "cell_type": "raw",
   "id": "ccfc8187",
   "metadata": {},
   "source": [
    "Le off-target score est de 92,6 et la teneur en GC est de 65%."
   ]
  },
  {
   "cell_type": "markdown",
   "id": "7b3cf064",
   "metadata": {},
   "source": [
    "d)"
   ]
  },
  {
   "cell_type": "code",
   "execution_count": null,
   "id": "7dcb16d9",
   "metadata": {},
   "outputs": [],
   "source": []
  }
 ],
 "metadata": {
  "kernelspec": {
   "display_name": "Python 3 (ipykernel)",
   "language": "python",
   "name": "python3"
  },
  "language_info": {
   "codemirror_mode": {
    "name": "ipython",
    "version": 3
   },
   "file_extension": ".py",
   "mimetype": "text/x-python",
   "name": "python",
   "nbconvert_exporter": "python",
   "pygments_lexer": "ipython3",
   "version": "3.10.12"
  }
 },
 "nbformat": 4,
 "nbformat_minor": 5
}
